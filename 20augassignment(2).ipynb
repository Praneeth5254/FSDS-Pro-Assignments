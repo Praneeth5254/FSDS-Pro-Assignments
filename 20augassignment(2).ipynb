{
  "nbformat": 4,
  "nbformat_minor": 0,
  "metadata": {
    "colab": {
      "provenance": []
    },
    "kernelspec": {
      "name": "python3",
      "display_name": "Python 3"
    },
    "language_info": {
      "name": "python"
    }
  },
  "cells": [
    {
      "cell_type": "markdown",
      "source": [
        "1.Write a program to reverse a string."
      ],
      "metadata": {
        "id": "f7LTflDu19qP"
      }
    },
    {
      "cell_type": "code",
      "execution_count": null,
      "metadata": {
        "colab": {
          "base_uri": "https://localhost:8080/"
        },
        "id": "zfYNpxsd1aYD",
        "outputId": "ab00b6d7-a16a-4e83-cde2-66e52d49daa8"
      },
      "outputs": [
        {
          "output_type": "stream",
          "name": "stdout",
          "text": [
            "nahor\n"
          ]
        }
      ],
      "source": [
        "name='rohan'\n",
        "print(name[::-1])"
      ]
    },
    {
      "cell_type": "markdown",
      "source": [
        "2. Check if a string is a palindrome."
      ],
      "metadata": {
        "id": "2aHpdGHa2NjW"
      }
    },
    {
      "cell_type": "code",
      "source": [
        "\n",
        "name='naman'\n",
        "if name== name[::-1]:\n",
        "    print(name,' is palindrome')\n",
        "else:\n",
        "    print(name,' is not palindrome')"
      ],
      "metadata": {
        "colab": {
          "base_uri": "https://localhost:8080/"
        },
        "id": "rtUMZbQT2Ufg",
        "outputId": "b0d55764-04ef-4b39-e764-b1cac26f0105"
      },
      "execution_count": null,
      "outputs": [
        {
          "output_type": "stream",
          "name": "stdout",
          "text": [
            "naman  is palindrome\n"
          ]
        }
      ]
    },
    {
      "cell_type": "markdown",
      "source": [
        "    \n",
        "3. Convert a string to uppercase."
      ],
      "metadata": {
        "id": "CkEyNQCS2fkF"
      }
    },
    {
      "cell_type": "code",
      "source": [
        "\n",
        "name='rohan'\n",
        "print(name.upper())"
      ],
      "metadata": {
        "colab": {
          "base_uri": "https://localhost:8080/"
        },
        "id": "exX_9N8H2myM",
        "outputId": "e91481ce-b2ed-4fe4-d3da-f1829ea54ba2"
      },
      "execution_count": null,
      "outputs": [
        {
          "output_type": "stream",
          "name": "stdout",
          "text": [
            "ROHAN\n"
          ]
        }
      ]
    },
    {
      "cell_type": "markdown",
      "source": [
        "\n",
        "4. Convert a string to lowercase."
      ],
      "metadata": {
        "id": "C145SiQH8EYQ"
      }
    },
    {
      "cell_type": "code",
      "source": [
        "\n",
        "\n",
        "\n",
        "name='ROHAN'\n",
        "print(name.lower())"
      ],
      "metadata": {
        "colab": {
          "base_uri": "https://localhost:8080/"
        },
        "id": "Ew98Xfd32sBA",
        "outputId": "251adf24-eef0-4b7b-981b-19c268515843"
      },
      "execution_count": null,
      "outputs": [
        {
          "output_type": "stream",
          "name": "stdout",
          "text": [
            "rohan\n"
          ]
        }
      ]
    },
    {
      "cell_type": "markdown",
      "source": [
        "\n",
        "5. Count the number of vowels in a string."
      ],
      "metadata": {
        "id": "8PqfS4DO8QLH"
      }
    },
    {
      "cell_type": "code",
      "source": [
        "\n",
        "vowels =['a','e','i','o','u']\n",
        "name='rohan'\n",
        "count=0\n",
        "for i in name:\n",
        "    if i in vowels:\n",
        "        count+=1\n",
        "print('There are',count,'vowels in',name)"
      ],
      "metadata": {
        "colab": {
          "base_uri": "https://localhost:8080/"
        },
        "id": "rmBmKMns2vXf",
        "outputId": "d15f5673-19ca-4036-ab0b-c8134ce66de4"
      },
      "execution_count": null,
      "outputs": [
        {
          "output_type": "stream",
          "name": "stdout",
          "text": [
            "There are 2 vowels in rohan\n"
          ]
        }
      ]
    },
    {
      "cell_type": "markdown",
      "source": [
        "\n",
        "6. Count the number of consonants in a string."
      ],
      "metadata": {
        "id": "O4YisaNP8UFV"
      }
    },
    {
      "cell_type": "code",
      "source": [
        "\n",
        "#6. Count the number of consonants in a string.\n",
        "consonants=[]\n",
        "vwls=[]\n",
        "count=0\n",
        "for i in name:\n",
        "    if i in vowels:\n",
        "        vwls.append(i)\n",
        "    else:\n",
        "        consonants.append(i)\n",
        "        count+=1\n",
        "print('There are', count,'consonants in',name)"
      ],
      "metadata": {
        "colab": {
          "base_uri": "https://localhost:8080/"
        },
        "id": "zlbslDLx2zW_",
        "outputId": "3ec81d66-dd75-4ca5-9e1c-a38d1ed6a6a0"
      },
      "execution_count": null,
      "outputs": [
        {
          "output_type": "stream",
          "name": "stdout",
          "text": [
            "There are 3 consonants in rohan\n"
          ]
        }
      ]
    },
    {
      "cell_type": "markdown",
      "source": [
        "\n",
        "7. Remove all whitespaces from a string"
      ],
      "metadata": {
        "id": "FEGySMMk8e7U"
      }
    },
    {
      "cell_type": "code",
      "source": [
        "\n",
        "#7. Remove all whitespaces from a string.\n",
        "name='r o h a n '\n",
        "print(name.replace(\" \",\"\"))"
      ],
      "metadata": {
        "colab": {
          "base_uri": "https://localhost:8080/"
        },
        "id": "psVrp_YA23-1",
        "outputId": "88dc0af4-27b2-460d-d8aa-8553d582969b"
      },
      "execution_count": null,
      "outputs": [
        {
          "output_type": "stream",
          "name": "stdout",
          "text": [
            "rohan\n"
          ]
        }
      ]
    },
    {
      "cell_type": "markdown",
      "source": [
        "\n",
        "8. Find the length of a string without using the `len()` function"
      ],
      "metadata": {
        "id": "9P5JsMQQ8kHe"
      }
    },
    {
      "cell_type": "code",
      "source": [
        "\n",
        "#8. Find the length of a string without using the `len()` function.\n",
        "name='Hello my name is rohan'\n",
        "count=0\n",
        "for i in name:\n",
        "    count+=1\n",
        "print(count)"
      ],
      "metadata": {
        "colab": {
          "base_uri": "https://localhost:8080/"
        },
        "id": "9NrG0wgJ28ls",
        "outputId": "be272743-8779-42c9-ed70-591eecbca8f5"
      },
      "execution_count": null,
      "outputs": [
        {
          "output_type": "stream",
          "name": "stdout",
          "text": [
            "22\n"
          ]
        }
      ]
    },
    {
      "cell_type": "markdown",
      "source": [
        "\n",
        "9. Check if a string contains a specific word."
      ],
      "metadata": {
        "id": "xPYTFLvv8sVi"
      }
    },
    {
      "cell_type": "code",
      "source": [
        "\n",
        "name='Hello i am rohan'\n",
        "if 'rohan' in name:\n",
        "    print('rohan is present in string')\n",
        "else:\n",
        "    print('rohan is not present')"
      ],
      "metadata": {
        "colab": {
          "base_uri": "https://localhost:8080/"
        },
        "id": "mEuIjGyV3AcS",
        "outputId": "e759c454-0a24-4b84-f417-449439cbac96"
      },
      "execution_count": null,
      "outputs": [
        {
          "output_type": "stream",
          "name": "stdout",
          "text": [
            "rohan is present in string\n"
          ]
        }
      ]
    },
    {
      "cell_type": "markdown",
      "source": [
        "\n",
        "10. Replace a word in a string with another word."
      ],
      "metadata": {
        "id": "ngUFHavp803a"
      }
    },
    {
      "cell_type": "code",
      "source": [
        "\n",
        "#10. Replace a word in a string with another word.\n",
        "name1='Hello i am rohan'\n",
        "name1.replace('rohan','chatse')\n",
        "print(name1)"
      ],
      "metadata": {
        "colab": {
          "base_uri": "https://localhost:8080/"
        },
        "id": "sdYV9vK73Ea5",
        "outputId": "d78c2dc1-04df-414d-89df-c8313451a80b"
      },
      "execution_count": null,
      "outputs": [
        {
          "output_type": "stream",
          "name": "stdout",
          "text": [
            "Hello i am rohan\n"
          ]
        }
      ]
    },
    {
      "cell_type": "markdown",
      "source": [
        "\n",
        "11. Count the occurrences of a word in a string."
      ],
      "metadata": {
        "id": "xZ27uvQw86E-"
      }
    },
    {
      "cell_type": "code",
      "source": [
        "\n",
        "#11. Count the occurrences of a word in a string.\n",
        "text='hello my name is rohan'\n",
        "name.count(\"rohan\")"
      ],
      "metadata": {
        "colab": {
          "base_uri": "https://localhost:8080/"
        },
        "id": "mghI1yK33IZm",
        "outputId": "55ca271c-ade7-4357-f317-531554263215"
      },
      "execution_count": null,
      "outputs": [
        {
          "output_type": "execute_result",
          "data": {
            "text/plain": [
              "1"
            ]
          },
          "metadata": {},
          "execution_count": 67
        }
      ]
    },
    {
      "cell_type": "markdown",
      "source": [
        "12. Find the first occurrence of a word in a string."
      ],
      "metadata": {
        "id": "k_5ZMo5G9Aox"
      }
    },
    {
      "cell_type": "code",
      "source": [
        "\n",
        "#12. Find the first occurrence of a word in a string.\n",
        "\n",
        "string = \"Hello my name is rohan i am a data scientist.\"\n",
        "\n",
        "text = \"rohan\"\n",
        "\n",
        "first_ocr = string.find(text)\n",
        "print('The first occurrence of the word ',text,'at', first_ocr, 'position')"
      ],
      "metadata": {
        "colab": {
          "base_uri": "https://localhost:8080/"
        },
        "id": "LUBOEE-93L17",
        "outputId": "e423a647-f737-4fd7-c833-28a7de0e23ca"
      },
      "execution_count": null,
      "outputs": [
        {
          "output_type": "stream",
          "name": "stdout",
          "text": [
            "The first occurrence of the word  rohan at 17 position\n"
          ]
        }
      ]
    },
    {
      "cell_type": "markdown",
      "source": [
        "\n",
        "13. Find the last occurrence of a word in a string."
      ],
      "metadata": {
        "id": "7Sgiuz3P9H6k"
      }
    },
    {
      "cell_type": "code",
      "source": [
        "\n",
        "#13. Find the last occurrence of a word in a string.\n",
        "\n",
        "string = \"Hello my name is rohan, rohan chatse The name rohan is given by mother.\"\n",
        "\n",
        "\n",
        "text = 'rohan'\n",
        "\n",
        "# Find the last occurrence of the word\n",
        "last_ocr= string.rfind(text)\n",
        "print('The last occurrence of the ',text,'is at',last_ocr, 'position')"
      ],
      "metadata": {
        "colab": {
          "base_uri": "https://localhost:8080/"
        },
        "id": "oY-lgTRE3VeR",
        "outputId": "ef3abdf2-6567-4161-f893-c9965ea54fbe"
      },
      "execution_count": null,
      "outputs": [
        {
          "output_type": "stream",
          "name": "stdout",
          "text": [
            "The last occurrence of the  rohan is at 46 position\n"
          ]
        }
      ]
    },
    {
      "cell_type": "markdown",
      "source": [
        "\n",
        "14. Split a string into a list of words"
      ],
      "metadata": {
        "id": "Yu1Otu1j9NjO"
      }
    },
    {
      "cell_type": "code",
      "source": [
        "\n",
        "\n",
        "#14. Split a string into a list of words.\n",
        "name='rohan chatse'\n",
        "l=[]\n",
        "for i in name:\n",
        "    l.append(i)\n",
        "l.remove(' ')\n",
        "print(l)"
      ],
      "metadata": {
        "colab": {
          "base_uri": "https://localhost:8080/"
        },
        "id": "dPy5DR383ie5",
        "outputId": "32512310-8b1b-41b9-e4b9-2a204c131631"
      },
      "execution_count": 3,
      "outputs": [
        {
          "output_type": "stream",
          "name": "stdout",
          "text": [
            "['r', 'o', 'h', 'a', 'n', 'c', 'h', 'a', 't', 's', 'e']\n"
          ]
        }
      ]
    },
    {
      "cell_type": "markdown",
      "source": [
        "15. Join a list of words into a string"
      ],
      "metadata": {
        "id": "bGyGCj2o-NDi"
      }
    },
    {
      "cell_type": "code",
      "source": [
        "\n",
        "\n",
        "#15. Join a list of words into a string.\n",
        "l=['r','o','h','a','n']\n",
        "name=\"\"\n",
        "for i in l:\n",
        "    name+=i\n",
        "print(name)"
      ],
      "metadata": {
        "id": "p0ubnFCA-KvE",
        "colab": {
          "base_uri": "https://localhost:8080/"
        },
        "outputId": "43cc1bab-9704-4629-c1a6-a38bb7a42427"
      },
      "execution_count": null,
      "outputs": [
        {
          "output_type": "stream",
          "name": "stdout",
          "text": [
            "rohan\n"
          ]
        }
      ]
    },
    {
      "cell_type": "markdown",
      "source": [
        "\n",
        "16. Convert a string where words are separated by spaces to one where words are separated by underscores."
      ],
      "metadata": {
        "id": "ieMpYf7S9VXp"
      }
    },
    {
      "cell_type": "code",
      "source": [
        "\n",
        "\n",
        "#16. Convert a string where words are separated by spaces to one where words are separated by underscores.\n",
        "text=' Hello my name is rohan'\n",
        "print(text.replace(\" \",\"_\"))"
      ],
      "metadata": {
        "colab": {
          "base_uri": "https://localhost:8080/"
        },
        "id": "mQ4htZxc3mDn",
        "outputId": "0e17a331-59c2-4b0b-e745-c5674be561ce"
      },
      "execution_count": null,
      "outputs": [
        {
          "output_type": "stream",
          "name": "stdout",
          "text": [
            "_Hello_my_name_is_rohan\n"
          ]
        }
      ]
    },
    {
      "cell_type": "markdown",
      "source": [
        "17. Check if a string starts with a specific word or phrase."
      ],
      "metadata": {
        "id": "PH6Sr4wd90nQ"
      }
    },
    {
      "cell_type": "code",
      "source": [
        "\n",
        "\n",
        "#17. Check if a string starts with a specific word or phrase.\n",
        "\n",
        "string=\"Hello my name is rohan\"\n",
        "l=string.split()\n",
        "\n",
        "\n",
        "if l[0]=='Hello':\n",
        "    print('String is valid')\n",
        "else:\n",
        "    print('String is not valid')"
      ],
      "metadata": {
        "colab": {
          "base_uri": "https://localhost:8080/"
        },
        "id": "zEGqdkg-3vOo",
        "outputId": "014ced2a-fe3a-4c71-9b87-5975c9b5fbcd"
      },
      "execution_count": null,
      "outputs": [
        {
          "output_type": "stream",
          "name": "stdout",
          "text": [
            "String is valid\n"
          ]
        }
      ]
    },
    {
      "cell_type": "markdown",
      "source": [
        "\n",
        "18. Check if a string ends with a specific word or phrase"
      ],
      "metadata": {
        "id": "u1MQmmJ-94AQ"
      }
    },
    {
      "cell_type": "code",
      "source": [
        "\n",
        "#18. Check if a string ends with a specific word or phrase.\n",
        "\n",
        "string=\"Hello my name is rohan\"\n",
        "l=string.split()\n",
        "\n",
        "if l[-1]=='rohan':\n",
        "    print('String is valid')\n",
        "else:\n",
        "    print('String is not valid')"
      ],
      "metadata": {
        "colab": {
          "base_uri": "https://localhost:8080/"
        },
        "id": "i2NUUlzM36a7",
        "outputId": "d1c357d7-c7e3-4b86-ab83-a8cae9215744"
      },
      "execution_count": null,
      "outputs": [
        {
          "output_type": "stream",
          "name": "stdout",
          "text": [
            "String is valid\n"
          ]
        }
      ]
    },
    {
      "cell_type": "markdown",
      "source": [
        "\n",
        "19. Convert a string to title case (e.g.\"hello world\" to \"Hello World\")."
      ],
      "metadata": {
        "id": "8yoh7Ca49-oo"
      }
    },
    {
      "cell_type": "code",
      "source": [
        "\n",
        "#19. Convert a string to title case (e.g., \"hello world\" to \"Hello World\").\n",
        "\n",
        "string=\"hello world\"\n",
        "print(string.title())"
      ],
      "metadata": {
        "colab": {
          "base_uri": "https://localhost:8080/"
        },
        "id": "gSOte4X24BIf",
        "outputId": "dacf1e47-ca7c-4ac1-9363-e7813a39026d"
      },
      "execution_count": null,
      "outputs": [
        {
          "output_type": "stream",
          "name": "stdout",
          "text": [
            "Hello World\n"
          ]
        }
      ]
    },
    {
      "cell_type": "markdown",
      "source": [
        "20. Find the longest word in a string."
      ],
      "metadata": {
        "id": "8hrgmTDK-M3U"
      }
    },
    {
      "cell_type": "code",
      "source": [
        "\n",
        "#20. Find the longest word in a string.\n",
        "\n",
        "\n",
        "string=\"Hi my name is rohan\"\n",
        "l=string.split()\n",
        "length=[]\n",
        "for i in l:\n",
        "    length.append(len(i))\n",
        "\n",
        "a=length.index(max(length))\n",
        "\n",
        "print('The longest word in list is ',l[a])"
      ],
      "metadata": {
        "colab": {
          "base_uri": "https://localhost:8080/"
        },
        "id": "BG4l4s-q4Fgh",
        "outputId": "3fd3f086-f64c-4883-e267-40399577cf80"
      },
      "execution_count": 4,
      "outputs": [
        {
          "output_type": "stream",
          "name": "stdout",
          "text": [
            "The longest word in list is  rohan\n"
          ]
        }
      ]
    },
    {
      "cell_type": "markdown",
      "source": [
        "\n",
        "21. Find the shortest word in a string."
      ],
      "metadata": {
        "id": "E0bnT-t9-Up1"
      }
    },
    {
      "cell_type": "code",
      "source": [
        "\n",
        "\n",
        "#21. Find the shortest word in a string.\n",
        "\n",
        "string=\"Hi my name is rohan\"\n",
        "l=string.split()\n",
        "length=[]\n",
        "for i in l:\n",
        "    length.append(len(i))\n",
        "\n",
        "a=length.index(min(length))\n",
        "\n",
        "print('The shortest word in list is ',l[a])"
      ],
      "metadata": {
        "id": "l4CFKqUR4L8g",
        "colab": {
          "base_uri": "https://localhost:8080/"
        },
        "outputId": "d602cd5f-edf1-4685-ed66-1b353449fe93"
      },
      "execution_count": 5,
      "outputs": [
        {
          "output_type": "stream",
          "name": "stdout",
          "text": [
            "The shortest word in list is  Hi\n"
          ]
        }
      ]
    },
    {
      "cell_type": "markdown",
      "source": [
        "22. Reverse the order of words in a string."
      ],
      "metadata": {
        "id": "FE7m5yTQ-b6a"
      }
    },
    {
      "cell_type": "code",
      "source": [
        "\n",
        "\n",
        "\n",
        "#22. Reverse the order of words in a string.\n",
        "\n",
        "\n",
        "string=\"Hello i am rohan\"\n",
        "l=string.split()\n",
        "rstring=\"\"\n",
        "for i in reversed(l):\n",
        "        rstring+=i+\" \"\n",
        "\n",
        "print(rstring)"
      ],
      "metadata": {
        "id": "s5T5FWOP4R4S",
        "colab": {
          "base_uri": "https://localhost:8080/"
        },
        "outputId": "7c434b29-bbca-47e5-dda5-f42fba43b4c3"
      },
      "execution_count": 6,
      "outputs": [
        {
          "output_type": "stream",
          "name": "stdout",
          "text": [
            "rohan am i Hello \n"
          ]
        }
      ]
    },
    {
      "cell_type": "markdown",
      "source": [
        "23. Check if a string is alphanumeric."
      ],
      "metadata": {
        "id": "-Jr3YAPR-her"
      }
    },
    {
      "cell_type": "code",
      "source": [
        "\n",
        "#23. Check if a string is alphanumeric.\n",
        "\n",
        "string='Hello my name is rohan and my age is 20'\n",
        "alphanum='abcdefghijllmnopqrstuvwxyz0123456789'\n",
        "\n",
        "yes=0\n",
        "for i in string:\n",
        "    if i in alphanum:\n",
        "        yes*=0\n",
        "    else:\n",
        "        yes+=1\n",
        "\n",
        "if yes==0:\n",
        "    print('String is alpha numeric')\n",
        "else:\n",
        "    print('String is not alpha numeric')"
      ],
      "metadata": {
        "id": "TAlDPXU14cza",
        "colab": {
          "base_uri": "https://localhost:8080/"
        },
        "outputId": "0ef5b382-2fd5-4c56-96c3-4d71dda32c7f"
      },
      "execution_count": 7,
      "outputs": [
        {
          "output_type": "stream",
          "name": "stdout",
          "text": [
            "String is alpha numeric\n"
          ]
        }
      ]
    },
    {
      "cell_type": "markdown",
      "source": [
        "\n",
        "24. Extract all digits from a string."
      ],
      "metadata": {
        "id": "n0fdDC3_-wEh"
      }
    },
    {
      "cell_type": "code",
      "source": [
        "\n",
        "#24. Extract all digits from a string.\n",
        "\n",
        "string='Hello my name is rohan and my age is 20'\n",
        "digit='0123456789'\n",
        "extract_digit=[]\n",
        "for i in string:\n",
        "    if i in digit:\n",
        "        extract_digit.append(int(i))\n",
        "print(extract_digit)"
      ],
      "metadata": {
        "id": "ma73Bc3S4l64",
        "colab": {
          "base_uri": "https://localhost:8080/"
        },
        "outputId": "5edd6d51-abc5-4def-fb5a-583768e2e4ad"
      },
      "execution_count": 8,
      "outputs": [
        {
          "output_type": "stream",
          "name": "stdout",
          "text": [
            "[2, 0]\n"
          ]
        }
      ]
    },
    {
      "cell_type": "markdown",
      "source": [
        "\n",
        "25. Extract all alphabets from a string."
      ],
      "metadata": {
        "id": "hEpKgL9R-2Iu"
      }
    },
    {
      "cell_type": "code",
      "source": [
        "\n",
        "\n",
        "#25. Extract all alphabets from a string.\n",
        "\n",
        "string='Hello my name is rohan and my age is 20'\n",
        "alphabet='abcdefghijllmnopqrstuvwxyz'\n",
        "extract_alpha=[]\n",
        "for i in string:\n",
        "    if i in alphabet:\n",
        "        extract_alpha.append(i)\n",
        "print(list(set(extract_alpha)))"
      ],
      "metadata": {
        "colab": {
          "base_uri": "https://localhost:8080/"
        },
        "id": "0HLx8OCr4ptN",
        "outputId": "0c437a3b-3e03-44ab-b517-040866149357"
      },
      "execution_count": 9,
      "outputs": [
        {
          "output_type": "stream",
          "name": "stdout",
          "text": [
            "['r', 'n', 'm', 's', 'l', 'o', 'i', 'g', 'y', 'a', 'h', 'd', 'e']\n"
          ]
        }
      ]
    },
    {
      "cell_type": "markdown",
      "source": [
        "26. Count the number of uppercase letters in a string."
      ],
      "metadata": {
        "id": "Z6NlMCDo-89E"
      }
    },
    {
      "cell_type": "code",
      "source": [
        "\n",
        "#26. Count the number of uppercase letters in a string.\n",
        "\n",
        "name='RoHan'\n",
        "count_u=0\n",
        "upper=[]\n",
        "lower=[]\n",
        "\n",
        "for i in name:\n",
        "    if i.isupper():\n",
        "        count_u+=1\n",
        "        upper.append(i)\n",
        "    else:\n",
        "        lower.append(i)\n",
        "\n",
        "print('There are', count_u, 'uppercase letter in a ',name,' which are',upper)\n",
        "#print(str(lower))"
      ],
      "metadata": {
        "colab": {
          "base_uri": "https://localhost:8080/"
        },
        "id": "MgYeSHEb4uEw",
        "outputId": "de8a8fc8-e2b1-400a-fd26-ae72faddd986"
      },
      "execution_count": 10,
      "outputs": [
        {
          "output_type": "stream",
          "name": "stdout",
          "text": [
            "There are 2 uppercase letter in a  RoHan  which are ['R', 'H']\n"
          ]
        }
      ]
    },
    {
      "cell_type": "markdown",
      "source": [
        "27. Count the number of lowercase letters in a string."
      ],
      "metadata": {
        "id": "9MenHkGD_Bcp"
      }
    },
    {
      "cell_type": "code",
      "source": [
        "\n",
        "#27. Count the number of lowercase letters in a string.\n",
        "\n",
        "name='RoHan'\n",
        "count_l=0\n",
        "lower=[]\n",
        "upper=[]\n",
        "\n",
        "for i in name:\n",
        "    if i.islower():\n",
        "        count_l+=1\n",
        "        lower.append(i)\n",
        "    else:\n",
        "        upper.append(i)\n",
        "\n",
        "print('There are', count_l, 'lowercase letter in a ',name,' which are',lower)\n",
        "#print(str(lower))"
      ],
      "metadata": {
        "colab": {
          "base_uri": "https://localhost:8080/"
        },
        "id": "xl61-_Pm402A",
        "outputId": "a927876e-8bd2-440a-a275-26de730c182f"
      },
      "execution_count": null,
      "outputs": [
        {
          "output_type": "stream",
          "name": "stdout",
          "text": [
            "There are 3 lowercase letter in a  RoHan  which are ['o', 'a', 'n']\n"
          ]
        }
      ]
    },
    {
      "cell_type": "markdown",
      "source": [
        "28. Swap the case of each character in a string."
      ],
      "metadata": {
        "id": "Sa6-XdAR_LP9"
      }
    },
    {
      "cell_type": "code",
      "source": [
        "\n",
        "#28. Swap the case of each character in a string.\n",
        "\n",
        "string='Hello My Name is Rohan'\n",
        "\n",
        "swapstr=\"\"\n",
        "\n",
        "for i in string:\n",
        "    if i.islower():\n",
        "        swapstr+=i.upper()\n",
        "    elif i.isupper():\n",
        "        swapstr+=i.lower()\n",
        "    else:\n",
        "        swapstr+=i\n",
        "print(swapstr)"
      ],
      "metadata": {
        "colab": {
          "base_uri": "https://localhost:8080/"
        },
        "id": "3a6RcA8l4_9F",
        "outputId": "254705d9-9db9-4fa2-e2ae-6e1b9088b1b8"
      },
      "execution_count": null,
      "outputs": [
        {
          "output_type": "stream",
          "name": "stdout",
          "text": [
            "hELLO mY nAME IS rOHAN\n"
          ]
        }
      ]
    },
    {
      "cell_type": "markdown",
      "source": [
        "31. Extract the username from an email address string."
      ],
      "metadata": {
        "id": "5fnrPQOf_Nmm"
      }
    },
    {
      "cell_type": "code",
      "source": [
        "\n",
        "\n",
        "#31. Extract the username from an email address string.\n",
        "\n",
        "email='rohancr@gmail.com'\n",
        "usern=[]\n",
        "for i in email:\n",
        "    if i== '@':\n",
        "        break\n",
        "    else:\n",
        "        usern.append(i)\n",
        "username=''\n",
        "for j in usern:\n",
        "    username+=j\n",
        "\n",
        "print(username)"
      ],
      "metadata": {
        "colab": {
          "base_uri": "https://localhost:8080/"
        },
        "id": "0Zizx6QB5GLa",
        "outputId": "c8eb5fd9-9016-4ac2-f6c8-92c904f703ff"
      },
      "execution_count": null,
      "outputs": [
        {
          "output_type": "stream",
          "name": "stdout",
          "text": [
            "rohancr\n"
          ]
        }
      ]
    },
    {
      "cell_type": "markdown",
      "source": [
        "32. Extract the domain name from an email"
      ],
      "metadata": {
        "id": "OZQ1QRU1_TXC"
      }
    },
    {
      "cell_type": "code",
      "source": [
        "\n",
        "#32. Extract the domain name from an email address string.\n",
        "\n",
        "\n",
        "email='rohan45cr@gmail.com'\n",
        "pos=0\n",
        "domain=\"\"\n",
        "for i in email:\n",
        "    if i=='@':\n",
        "        break\n",
        "    else:\n",
        "        pos+=1\n",
        "domain+=email[pos+1::1]\n",
        "print(domain)"
      ],
      "metadata": {
        "colab": {
          "base_uri": "https://localhost:8080/"
        },
        "id": "UwFOeDPE5MUQ",
        "outputId": "eb9c6996-5364-4703-ba20-801cbc553ef5"
      },
      "execution_count": null,
      "outputs": [
        {
          "output_type": "stream",
          "name": "stdout",
          "text": [
            "gmail.com\n"
          ]
        }
      ]
    },
    {
      "cell_type": "markdown",
      "source": [
        "33. Replace multiple spaces in a string"
      ],
      "metadata": {
        "id": "Pe3cNi3g_fl-"
      }
    },
    {
      "cell_type": "code",
      "source": [
        "#33. Replace multiple spaces in a string with a single space."
      ],
      "metadata": {
        "id": "jo_AUECn5o1e"
      },
      "execution_count": null,
      "outputs": []
    },
    {
      "cell_type": "markdown",
      "source": [
        "34. Check if a string is a valid URL."
      ],
      "metadata": {
        "id": "G5FzwnGC_0Zp"
      }
    },
    {
      "cell_type": "code",
      "source": [
        "\n",
        "#34. Check if a string is a valid URL.\n",
        "\n",
        "url=\"https://github.com/\"\n",
        "\n",
        "if 'https://' and '.com' or '.com/' in url:\n",
        "    print('The given url is valid')\n",
        "else:\n",
        "    print('The given url is not valid')"
      ],
      "metadata": {
        "colab": {
          "base_uri": "https://localhost:8080/"
        },
        "id": "_QnR-GJ36FGv",
        "outputId": "50566023-60b9-4318-bc7c-68a2a19e0bbb"
      },
      "execution_count": null,
      "outputs": [
        {
          "output_type": "stream",
          "name": "stdout",
          "text": [
            "The given url is valid\n"
          ]
        }
      ]
    },
    {
      "cell_type": "markdown",
      "source": [
        "35. Extract the protocol (http or https)"
      ],
      "metadata": {
        "id": "mJE0I55G_6bz"
      }
    },
    {
      "cell_type": "code",
      "source": [
        "#35. Extract the protocol (http or https) from a URL string."
      ],
      "metadata": {
        "id": "EinWqHt86JsI"
      },
      "execution_count": null,
      "outputs": []
    },
    {
      "cell_type": "markdown",
      "source": [
        "\n",
        "36. Find the frequency of each character in a string"
      ],
      "metadata": {
        "id": "ujemMQEQAId6"
      }
    },
    {
      "cell_type": "code",
      "source": [
        "\n",
        "#36. Find the frequency of each character in a string.\n",
        "\n",
        "count={}\n",
        "name='rohhann'\n",
        "for i in name:\n",
        "    count[i]=name.count(i)\n",
        "print(count)"
      ],
      "metadata": {
        "colab": {
          "base_uri": "https://localhost:8080/"
        },
        "id": "zRFfkYF56M4s",
        "outputId": "8c5c44d9-aaa3-463f-b0ab-9d426c06f00d"
      },
      "execution_count": null,
      "outputs": [
        {
          "output_type": "stream",
          "name": "stdout",
          "text": [
            "{'r': 1, 'o': 1, 'h': 2, 'a': 1, 'n': 2}\n"
          ]
        }
      ]
    },
    {
      "cell_type": "markdown",
      "source": [
        "37. Remove all punctuation from a string."
      ],
      "metadata": {
        "id": "Bwh7VPMoAT8W"
      }
    },
    {
      "cell_type": "code",
      "source": [
        "\n",
        "\n",
        "#37. Remove all punctuation from a string.\n",
        "\n",
        "string=\"Hello how can i help you ?\"\n",
        "punc='!\"#$%&()*+,-./:;<=>?@[\\]^_`{|}~'\n",
        "\n",
        "str2=[]\n",
        "string2=\"\"\n",
        "for i in string:\n",
        "    if i in punc:\n",
        "        continue\n",
        "    else:\n",
        "        str\n",
        "\n",
        "for i in str2:\n",
        "    string2+=i\n",
        "print(string2)"
      ],
      "metadata": {
        "colab": {
          "base_uri": "https://localhost:8080/"
        },
        "id": "3URH6onI6Qwu",
        "outputId": "294c2dea-13f5-4a7a-c613-985a5bb560bb"
      },
      "execution_count": null,
      "outputs": [
        {
          "output_type": "stream",
          "name": "stdout",
          "text": [
            "\n"
          ]
        }
      ]
    },
    {
      "cell_type": "markdown",
      "source": [
        "38. Check if a string contains only digits."
      ],
      "metadata": {
        "id": "hg0mdhIk7_jj"
      }
    },
    {
      "cell_type": "code",
      "source": [
        "\n",
        "\n",
        "#38. Check if a string contains only digits.\n",
        "\n",
        "string='roh57an'\n",
        "num='0123456789'\n",
        "yes=0\n",
        "\n",
        "for i in num:\n",
        "    if i in string:\n",
        "        yes+=1\n",
        "\n",
        "if yes==0:\n",
        "    print('String do not have any number')\n",
        "else:\n",
        "    print('String have a number')"
      ],
      "metadata": {
        "colab": {
          "base_uri": "https://localhost:8080/"
        },
        "id": "OTrd4W596VE9",
        "outputId": "f32894f2-08ce-42f2-b028-edc4b025a018"
      },
      "execution_count": null,
      "outputs": [
        {
          "output_type": "stream",
          "name": "stdout",
          "text": [
            "String have a number\n"
          ]
        }
      ]
    },
    {
      "cell_type": "markdown",
      "source": [
        "39. Check if a string contains only alphabets"
      ],
      "metadata": {
        "id": "FNw_kPOfAjuR"
      }
    },
    {
      "cell_type": "code",
      "source": [
        "\n",
        "\n",
        "#39. Check if a string contains only alphabets\n",
        "\n",
        "string='roh57an'\n",
        "num='0123456789'\n",
        "yes=0\n",
        "\n",
        "for i in num:\n",
        "    if i in string:\n",
        "        yes+=1\n",
        "\n",
        "if yes==0:\n",
        "    print('String do not have any number')\n",
        "else:\n",
        "    print('String have a number')"
      ],
      "metadata": {
        "colab": {
          "base_uri": "https://localhost:8080/"
        },
        "id": "mdHa6yuc6ZbD",
        "outputId": "82c5c3a0-7342-4002-d6c8-1fa2e5f5c2ed"
      },
      "execution_count": null,
      "outputs": [
        {
          "output_type": "stream",
          "name": "stdout",
          "text": [
            "String have a number\n"
          ]
        }
      ]
    },
    {
      "cell_type": "markdown",
      "source": [
        "40. Convert a string to a list of characters."
      ],
      "metadata": {
        "id": "cjQXr4BSAuJV"
      }
    },
    {
      "cell_type": "code",
      "source": [
        "\n",
        "\n",
        "#40. Convert a string to a list of characters.\n",
        "\n",
        "string='Hello i am rohan'\n",
        "l=[]\n",
        "for i in string:\n",
        "    l.append(i)\n",
        "print(l)"
      ],
      "metadata": {
        "colab": {
          "base_uri": "https://localhost:8080/"
        },
        "id": "AsMZM2HO6tCy",
        "outputId": "65aeb9f0-369a-4492-b048-175fba732988"
      },
      "execution_count": 14,
      "outputs": [
        {
          "output_type": "stream",
          "name": "stdout",
          "text": [
            "['H', 'e', 'l', 'l', 'o', 'i', ' ', 'a', 'm', ' ', 'r', 'o', 'h', 'a', 'n']\n"
          ]
        }
      ]
    },
    {
      "cell_type": "code",
      "source": [
        "\n",
        "#41. Check if two strings are anagrams.\n",
        "#42. Encode a string using a Caesar cipher.\n",
        "#43. Decode a Caesar cipher encoded string.\n",
        "#44. Find the most frequent word in a string"
      ],
      "metadata": {
        "id": "hS6CTlRD6xEn"
      },
      "execution_count": null,
      "outputs": []
    },
    {
      "cell_type": "markdown",
      "source": [
        "44. Find the most frequent word in a string."
      ],
      "metadata": {
        "id": "q_6R6M-PrDVM"
      }
    },
    {
      "cell_type": "code",
      "source": [
        "\n",
        "string='hello i am rohan the name rohan is given by my mother'\n",
        "\n",
        "a=string.split()\n",
        "b=[]\n",
        "for i in a:\n",
        "    b.append(a.count(i))\n",
        "max_value=max(b)\n",
        "\n",
        "d={}\n",
        "\n",
        "for i in a:\n",
        "    d[i]=a.count(i)\n",
        "\n",
        "for i in d.keys():\n",
        "    if d.get(i)==max_value:\n",
        "        print('The most frequent value in string is', i, 'with frequency of ',max_value)"
      ],
      "metadata": {
        "colab": {
          "base_uri": "https://localhost:8080/"
        },
        "id": "tJQOlOVMq303",
        "outputId": "71a9447d-05f2-44b8-e42c-2b135f8781c3"
      },
      "execution_count": null,
      "outputs": [
        {
          "output_type": "stream",
          "name": "stdout",
          "text": [
            "The most frequent value in string is rohan with frequency of  2\n"
          ]
        }
      ]
    },
    {
      "cell_type": "markdown",
      "source": [
        "45. Find all unique words in a string."
      ],
      "metadata": {
        "id": "iao3qCrRA25S"
      }
    },
    {
      "cell_type": "code",
      "source": [
        "\n",
        "#45. Find all unique words in a string.\n",
        "\n",
        "string='hello hello i am rohan'\n",
        "\n",
        "l=string.split()\n",
        "print(list(set(l)))"
      ],
      "metadata": {
        "colab": {
          "base_uri": "https://localhost:8080/"
        },
        "id": "ax01Rd2B61sS",
        "outputId": "18af3efa-9bd1-4e03-e43f-ad4a819e2ac3"
      },
      "execution_count": 15,
      "outputs": [
        {
          "output_type": "stream",
          "name": "stdout",
          "text": [
            "['i', 'rohan', 'am', 'hello']\n"
          ]
        }
      ]
    },
    {
      "cell_type": "markdown",
      "source": [
        "46. Count the number of syllables in a string."
      ],
      "metadata": {
        "id": "vB0I3prxA8qB"
      }
    },
    {
      "cell_type": "code",
      "source": [
        "#46. Count the number of syllables in a string."
      ],
      "metadata": {
        "id": "U9TAKyoe65ki"
      },
      "execution_count": null,
      "outputs": []
    },
    {
      "cell_type": "markdown",
      "source": [
        "47. Check if a string contains any special characters"
      ],
      "metadata": {
        "id": "E_lEGq9lBDZo"
      }
    },
    {
      "cell_type": "code",
      "source": [
        "\n",
        "#47. Check if a string contains any special characters.\n",
        "\n",
        "string='roh@n'\n",
        "char='@#₹_&-+()/*:!!?,.~|•√π÷×¶∆€¥$¢^°={}\\%©®™✓[]<>'\n",
        "\n",
        "yes=0\n",
        "schar=''\n",
        "for i in char:\n",
        "    if i in string:\n",
        "        yes+=1\n",
        "        schar+=i\n",
        "\n",
        "if yes==0:\n",
        "    print('String do not have any special character')\n",
        "else:\n",
        "    print('String have a special character', schar)"
      ],
      "metadata": {
        "id": "KAJx5myq69Fa",
        "colab": {
          "base_uri": "https://localhost:8080/"
        },
        "outputId": "1e798658-9fac-465f-ddb3-c6e889def543"
      },
      "execution_count": 16,
      "outputs": [
        {
          "output_type": "stream",
          "name": "stdout",
          "text": [
            "String have a special character @\n"
          ]
        }
      ]
    },
    {
      "cell_type": "markdown",
      "source": [
        "48. Remove the nth word from a string."
      ],
      "metadata": {
        "id": "h7oxw7_EBQqP"
      }
    },
    {
      "cell_type": "code",
      "source": [
        "\n",
        "#48. Remove the nth word from a string.\n",
        "\n",
        "string='hello my name is rohan'\n",
        "str2=\"\"\n",
        "words=string.split()\n",
        "choice=int(input('which word to remove enter position'))\n",
        "\n",
        "words.remove(words[choice])\n",
        "for i in words:\n",
        "    str2+=i+' '\n",
        "print(str2)"
      ],
      "metadata": {
        "id": "IWJJoYI_7IWu",
        "colab": {
          "base_uri": "https://localhost:8080/"
        },
        "outputId": "9c8edc5d-14a7-4308-8f71-61bd792df4bf"
      },
      "execution_count": 18,
      "outputs": [
        {
          "output_type": "stream",
          "name": "stdout",
          "text": [
            "which word to remove enter position4\n",
            "hello my name is \n"
          ]
        }
      ]
    },
    {
      "cell_type": "markdown",
      "source": [
        "\n",
        "49. Insert a word at the nth position in a string."
      ],
      "metadata": {
        "id": "JbVlilggBVQF"
      }
    },
    {
      "cell_type": "code",
      "source": [
        "\n",
        "\n",
        "#49. Insert a word at the nth position in a string.\n",
        "\n",
        "string='Hello name is rohan'\n",
        "str2=\"\"\n",
        "words = string.split()\n",
        "print(string)\n",
        "index_to_insert = int(input('enter position where to insert note indexing start with 0'))\n",
        "string_to_insert = input('what to insert')\n",
        "words.insert(index_to_insert, string_to_insert)\n",
        "\n",
        "for i in words:\n",
        "    str2+=i+\" \"\n",
        "print(str2)"
      ],
      "metadata": {
        "id": "SBYEqXr77MvL",
        "colab": {
          "base_uri": "https://localhost:8080/"
        },
        "outputId": "455e0fe4-344d-46f7-9d24-61af3e56d559"
      },
      "execution_count": 19,
      "outputs": [
        {
          "output_type": "stream",
          "name": "stdout",
          "text": [
            "Hello name is rohan\n",
            "enter position where to insert note indexing start with 01\n",
            "what to insertmy\n",
            "Hello my name is rohan \n"
          ]
        }
      ]
    },
    {
      "cell_type": "markdown",
      "source": [
        "50. Convert a CSV string to a list of lists."
      ],
      "metadata": {
        "id": "pftL6xZYBe27"
      }
    },
    {
      "cell_type": "code",
      "source": [
        "\n",
        "\n",
        "\n",
        "#50. Convert a CSV string to a list of lists."
      ],
      "metadata": {
        "id": "Kr__WBp_7QJ0"
      },
      "execution_count": null,
      "outputs": []
    },
    {
      "cell_type": "markdown",
      "source": [
        "#List Based Practice Problem"
      ],
      "metadata": {
        "id": "LpKIsvf7vC49"
      }
    },
    {
      "cell_type": "markdown",
      "source": [
        "1.create a list with integers from 1 to 10"
      ],
      "metadata": {
        "id": "HtWrhYzd4aDV"
      }
    },
    {
      "cell_type": "code",
      "source": [
        "\n",
        "\n",
        "#1. Create a list with integers from 1 to 10.\n",
        "\n",
        "l=[]\n",
        "for i in range(1,11):\n",
        "    l.append(i)\n",
        "print(l)"
      ],
      "metadata": {
        "id": "fkdvyMOgvG_0",
        "colab": {
          "base_uri": "https://localhost:8080/"
        },
        "outputId": "82278b80-7d9c-4875-a17b-1920f7be1efb"
      },
      "execution_count": 20,
      "outputs": [
        {
          "output_type": "stream",
          "name": "stdout",
          "text": [
            "[1, 2, 3, 4, 5, 6, 7, 8, 9, 10]\n"
          ]
        }
      ]
    },
    {
      "cell_type": "markdown",
      "source": [
        "2.Find the pength of a list without using the len() function."
      ],
      "metadata": {
        "id": "MKmHDKXE4mkr"
      }
    },
    {
      "cell_type": "code",
      "source": [
        "\n",
        "#2. Find the length of a list without using the `len()` function.\n",
        "l='hello world'\n",
        "length=0\n",
        "for i in l:\n",
        "    length+=1\n",
        "print(length)"
      ],
      "metadata": {
        "id": "MWrmG3DtvPTu",
        "colab": {
          "base_uri": "https://localhost:8080/"
        },
        "outputId": "dbbc2067-0167-4d32-cf5f-4ec4385ff1d8"
      },
      "execution_count": 21,
      "outputs": [
        {
          "output_type": "stream",
          "name": "stdout",
          "text": [
            "11\n"
          ]
        }
      ]
    },
    {
      "cell_type": "markdown",
      "source": [
        "3.Append an element to the wnd of a list."
      ],
      "metadata": {
        "id": "RE68h7Fs4xL0"
      }
    },
    {
      "cell_type": "code",
      "source": [
        "\n",
        "\n",
        "#3. Append an element to the end of a list.\n",
        "l=[1,2,3]\n",
        "num=int(input('enter a number'))\n",
        "l.append(num)\n",
        "l"
      ],
      "metadata": {
        "id": "LMqI9w4yvTxY",
        "colab": {
          "base_uri": "https://localhost:8080/"
        },
        "outputId": "a29c308a-6457-4825-9ed6-91edd960d856"
      },
      "execution_count": 22,
      "outputs": [
        {
          "name": "stdout",
          "output_type": "stream",
          "text": [
            "enter a number4\n"
          ]
        },
        {
          "output_type": "execute_result",
          "data": {
            "text/plain": [
              "[1, 2, 3, 4]"
            ]
          },
          "metadata": {},
          "execution_count": 22
        }
      ]
    },
    {
      "cell_type": "markdown",
      "source": [
        "4.Insert an element at a specific index in a list."
      ],
      "metadata": {
        "id": "ATG3jeoo454t"
      }
    },
    {
      "cell_type": "code",
      "source": [
        "\n",
        "\n",
        "#4. Insert an element at a specific index in a list.\n",
        "\n",
        "l=[1,2,3,4]\n",
        "where=int(input('where to input number'))\n",
        "what=int(input('what to input'))\n",
        "l[where]=what\n",
        "print(l)"
      ],
      "metadata": {
        "id": "brnlmzlovXVC",
        "colab": {
          "base_uri": "https://localhost:8080/"
        },
        "outputId": "f0131b16-e462-458e-deb8-69cd96b045c7"
      },
      "execution_count": 24,
      "outputs": [
        {
          "output_type": "stream",
          "name": "stdout",
          "text": [
            "where to input number3\n",
            "what to input5\n",
            "[1, 2, 3, 5]\n"
          ]
        }
      ]
    },
    {
      "cell_type": "markdown",
      "source": [
        "5.Remove an element from a list by its value."
      ],
      "metadata": {
        "id": "_EYQneiU5BSJ"
      }
    },
    {
      "cell_type": "code",
      "source": [
        "\n",
        "#5. Remove an element from a list by its value\n",
        "l=[1,2,3,4]\n",
        "what=1\n",
        "l.remove(what)\n",
        "l"
      ],
      "metadata": {
        "id": "kMpot1aXvbKH",
        "colab": {
          "base_uri": "https://localhost:8080/"
        },
        "outputId": "65ad7dc6-e9cc-4d92-9af5-d901e48ad95d"
      },
      "execution_count": 25,
      "outputs": [
        {
          "output_type": "execute_result",
          "data": {
            "text/plain": [
              "[2, 3, 4]"
            ]
          },
          "metadata": {},
          "execution_count": 25
        }
      ]
    },
    {
      "cell_type": "markdown",
      "source": [
        "6.Remove an element from a list by its index."
      ],
      "metadata": {
        "id": "6svIR8kg5M4N"
      }
    },
    {
      "cell_type": "code",
      "source": [
        "\n",
        "\n",
        "#6. Remove an element from a list by its index.\n",
        "l=[1,2,3,4,5]\n",
        "what=int(input('Enter index of what to remove'))\n",
        "l.remove(l[what])\n",
        "print(l)"
      ],
      "metadata": {
        "id": "HrkG0xfJvfMF",
        "colab": {
          "base_uri": "https://localhost:8080/"
        },
        "outputId": "c55832f8-66cf-48ee-b7a5-664fa580caa1"
      },
      "execution_count": 26,
      "outputs": [
        {
          "output_type": "stream",
          "name": "stdout",
          "text": [
            "Enter index of what to remove4\n",
            "[1, 2, 3, 4]\n"
          ]
        }
      ]
    },
    {
      "cell_type": "markdown",
      "source": [
        "7.check if an element exists in a list."
      ],
      "metadata": {
        "id": "7DAm85NV5YDo"
      }
    },
    {
      "cell_type": "code",
      "source": [
        "\n",
        "#7. Check if an element exists in a list.\n",
        "\n",
        "l=[1,2,3,4]\n",
        "what=int(input('enter what to check'))\n",
        "if what in l:\n",
        "    print(what, 'exist in list')\n",
        "else:\n",
        "    print(what,'doesnt exist in list')"
      ],
      "metadata": {
        "id": "0xPV6mCJvlQd",
        "colab": {
          "base_uri": "https://localhost:8080/"
        },
        "outputId": "90ab129f-8f5f-47d1-a6fa-338336ccaf95"
      },
      "execution_count": 27,
      "outputs": [
        {
          "output_type": "stream",
          "name": "stdout",
          "text": [
            "enter what to check2\n",
            "2 exist in list\n"
          ]
        }
      ]
    },
    {
      "cell_type": "markdown",
      "source": [
        "8.Find the index of the first occurrence of an element in a list."
      ],
      "metadata": {
        "id": "rdlWye3_5fN6"
      }
    },
    {
      "cell_type": "code",
      "source": [
        "\n",
        "\n",
        "#8. Find the index of the first occurrence of an element in a list.\n",
        "\n",
        "print(l.index(2))"
      ],
      "metadata": {
        "id": "vNX825D9vpED",
        "colab": {
          "base_uri": "https://localhost:8080/"
        },
        "outputId": "67585248-8154-4c72-8d22-d98a375d1c38"
      },
      "execution_count": 28,
      "outputs": [
        {
          "output_type": "stream",
          "name": "stdout",
          "text": [
            "1\n"
          ]
        }
      ]
    },
    {
      "cell_type": "markdown",
      "source": [
        "9.Count the occurrence of an element in a list."
      ],
      "metadata": {
        "id": "fAZ_BbX95rqe"
      }
    },
    {
      "cell_type": "code",
      "source": [
        "\n",
        "\n",
        "#9. Count the occurrences of an element in a list.\n",
        "l=[1,2,2,2,3,4,5]\n",
        "print(l.count(2))"
      ],
      "metadata": {
        "id": "TIPzvCZCvwDv",
        "colab": {
          "base_uri": "https://localhost:8080/"
        },
        "outputId": "c981e186-0db9-4ccf-a71b-f82d7ddc3c0d"
      },
      "execution_count": 29,
      "outputs": [
        {
          "output_type": "stream",
          "name": "stdout",
          "text": [
            "3\n"
          ]
        }
      ]
    },
    {
      "cell_type": "markdown",
      "source": [
        "10. Reverse the order of elements in a  list."
      ],
      "metadata": {
        "id": "GasHQc8q5z1M"
      }
    },
    {
      "cell_type": "code",
      "source": [
        "\n",
        "\n",
        "#10. Reverse the order of elements in a list.\n",
        "\n",
        "l=[1,2,3,4]\n",
        "list2=[]\n",
        "for i in reversed(l):\n",
        "    list2.append(i)\n",
        "\n",
        "l=list2\n",
        "print(l)"
      ],
      "metadata": {
        "id": "j6QuYPvtvzbF",
        "colab": {
          "base_uri": "https://localhost:8080/"
        },
        "outputId": "9eaff7c7-36c3-4a56-9c2c-f3eaceb4ce8f"
      },
      "execution_count": 30,
      "outputs": [
        {
          "output_type": "stream",
          "name": "stdout",
          "text": [
            "[4, 3, 2, 1]\n"
          ]
        }
      ]
    },
    {
      "cell_type": "markdown",
      "source": [
        "11.Sort a list in ascending order."
      ],
      "metadata": {
        "id": "yGoVO1QH5-tp"
      }
    },
    {
      "cell_type": "code",
      "source": [
        "\n",
        "\n",
        "#11. Sort a list in ascending order.\n",
        "\n",
        "l = [5, 2, 9, 1, 5]\n",
        "\n",
        "l.sort()\n",
        "\n",
        "print(l)"
      ],
      "metadata": {
        "id": "3emxczLdv3wq",
        "colab": {
          "base_uri": "https://localhost:8080/"
        },
        "outputId": "801d8638-6420-46fd-8352-af09c2e95a39"
      },
      "execution_count": 31,
      "outputs": [
        {
          "output_type": "stream",
          "name": "stdout",
          "text": [
            "[1, 2, 5, 5, 9]\n"
          ]
        }
      ]
    },
    {
      "cell_type": "markdown",
      "source": [
        "12. Sort a list in descending order."
      ],
      "metadata": {
        "id": "xjWpxfU55_ox"
      }
    },
    {
      "cell_type": "code",
      "source": [
        "\n",
        "#12. Sort a list in descending order.\n",
        "\n",
        "\n",
        "l= [5, 2, 9, 1, 5]\n",
        "\n",
        "l.sort(reverse=True)\n",
        "\n",
        "print(l)"
      ],
      "metadata": {
        "id": "DfJ5UToCv72q",
        "colab": {
          "base_uri": "https://localhost:8080/"
        },
        "outputId": "99ba8779-bd59-4d09-a271-9a68f8e70634"
      },
      "execution_count": 32,
      "outputs": [
        {
          "output_type": "stream",
          "name": "stdout",
          "text": [
            "[9, 5, 5, 2, 1]\n"
          ]
        }
      ]
    },
    {
      "cell_type": "markdown",
      "source": [
        "12.Sort a list in ascending order."
      ],
      "metadata": {
        "id": "5SfMzEuw6Ax-"
      }
    },
    {
      "cell_type": "code",
      "source": [
        "\n",
        "#12. Sort a list in ascending order.\n",
        "\n",
        "\n",
        "l = [5, 2, 9, 1, 5]\n",
        "\n",
        "l.sort()\n",
        "\n",
        "print(l)"
      ],
      "metadata": {
        "id": "OH232DsWv_UO",
        "colab": {
          "base_uri": "https://localhost:8080/"
        },
        "outputId": "6709f50f-0d65-4bdb-b74a-af0ceea13c26"
      },
      "execution_count": 33,
      "outputs": [
        {
          "output_type": "stream",
          "name": "stdout",
          "text": [
            "[1, 2, 5, 5, 9]\n"
          ]
        }
      ]
    },
    {
      "cell_type": "markdown",
      "source": [
        "14. Create a list of odd numbers from 1 to 20."
      ],
      "metadata": {
        "id": "rkriMeNr6B4y"
      }
    },
    {
      "cell_type": "code",
      "source": [
        "\n",
        "#14. Create a list of odd numbers from 1 to 20.\n",
        "\n",
        "l=[]\n",
        "for i in range(1,21,2):\n",
        "    l.append(i)\n",
        "l"
      ],
      "metadata": {
        "id": "PlXNojzowQh8",
        "colab": {
          "base_uri": "https://localhost:8080/"
        },
        "outputId": "2f02f49e-7acb-4532-f163-1a0a6342edbc"
      },
      "execution_count": 34,
      "outputs": [
        {
          "output_type": "execute_result",
          "data": {
            "text/plain": [
              "[1, 3, 5, 7, 9, 11, 13, 15, 17, 19]"
            ]
          },
          "metadata": {},
          "execution_count": 34
        }
      ]
    },
    {
      "cell_type": "markdown",
      "source": [
        "15. Find the sum of all elements in a list."
      ],
      "metadata": {
        "id": "yLwfqQ3C6CxH"
      }
    },
    {
      "cell_type": "code",
      "source": [
        "\n",
        "\n",
        "#15. Find the sum of all elements in a list.\n",
        "\n",
        "\n",
        "l=[1,2,3,4,5]\n",
        "sum=0\n",
        "for i in l:\n",
        "    sum+=i\n",
        "print(sum)"
      ],
      "metadata": {
        "id": "nIbcYW6SwUFh",
        "colab": {
          "base_uri": "https://localhost:8080/"
        },
        "outputId": "e9a874ed-3d49-4a80-a8e5-83750ee8cf27"
      },
      "execution_count": 35,
      "outputs": [
        {
          "output_type": "stream",
          "name": "stdout",
          "text": [
            "15\n"
          ]
        }
      ]
    },
    {
      "cell_type": "markdown",
      "source": [
        "16.Find the maximum value in a list."
      ],
      "metadata": {
        "id": "5_H9FH126Dyr"
      }
    },
    {
      "cell_type": "code",
      "source": [
        "\n",
        "#16. Find the maximum value in a list.\n",
        "\n",
        "\n",
        "print(max(l))"
      ],
      "metadata": {
        "id": "Hu10nQ2nwX_n",
        "colab": {
          "base_uri": "https://localhost:8080/"
        },
        "outputId": "d7bd98d1-19d3-473d-8af5-34e46e74be66"
      },
      "execution_count": 36,
      "outputs": [
        {
          "output_type": "stream",
          "name": "stdout",
          "text": [
            "5\n"
          ]
        }
      ]
    },
    {
      "cell_type": "markdown",
      "source": [
        "17. Find the minimum value in a list."
      ],
      "metadata": {
        "id": "lbCrPW3y6Enr"
      }
    },
    {
      "cell_type": "code",
      "source": [
        "\n",
        "\n",
        "#17. Find the minimum value in a list.\n",
        "\n",
        "\n",
        "print(min(l))"
      ],
      "metadata": {
        "id": "qZLdE7XSwclA",
        "colab": {
          "base_uri": "https://localhost:8080/"
        },
        "outputId": "c12fc847-dd43-4fc7-edff-23f4b0dd78ba"
      },
      "execution_count": 37,
      "outputs": [
        {
          "output_type": "stream",
          "name": "stdout",
          "text": [
            "1\n"
          ]
        }
      ]
    },
    {
      "cell_type": "markdown",
      "source": [
        "18. Create a list of squares of numbers grom 1 to 10."
      ],
      "metadata": {
        "id": "OSQrSxB46Fdq"
      }
    },
    {
      "cell_type": "code",
      "source": [
        "\n",
        "\n",
        "#18. Create a list of squares of numbers from 1 to 10.\n",
        "\n",
        "squares=[]\n",
        "\n",
        "for i in range(1,11):\n",
        "    squares.append(i**2)\n",
        "\n",
        "print(squares)"
      ],
      "metadata": {
        "id": "RytDJzSjwf70",
        "colab": {
          "base_uri": "https://localhost:8080/"
        },
        "outputId": "1aaa8dcc-065b-490d-be13-df000730b512"
      },
      "execution_count": 38,
      "outputs": [
        {
          "output_type": "stream",
          "name": "stdout",
          "text": [
            "[1, 4, 9, 16, 25, 36, 49, 64, 81, 100]\n"
          ]
        }
      ]
    },
    {
      "cell_type": "markdown",
      "source": [
        "19.Create a list of random numbers."
      ],
      "metadata": {
        "id": "4b_5OhUX6GVw"
      }
    },
    {
      "cell_type": "code",
      "source": [
        "\n",
        "#19. Create a list of random numbers.\n",
        "\n",
        "import random\n",
        "\n",
        "l=[]\n",
        "for i in  range(1,20):\n",
        "    l.append( random.randint(1, 20))\n",
        "print(list(set(l)))"
      ],
      "metadata": {
        "id": "vrZ_rrWIwkck",
        "colab": {
          "base_uri": "https://localhost:8080/"
        },
        "outputId": "58953a6d-64f3-4d68-8e18-988c4551bba0"
      },
      "execution_count": 39,
      "outputs": [
        {
          "output_type": "stream",
          "name": "stdout",
          "text": [
            "[2, 3, 7, 8, 9, 12, 13, 14, 16, 17, 18]\n"
          ]
        }
      ]
    },
    {
      "cell_type": "markdown",
      "source": [
        "20.Remove duplicates from a list."
      ],
      "metadata": {
        "id": "ZH3Ywau26HS_"
      }
    },
    {
      "cell_type": "code",
      "source": [
        "\n",
        "\n",
        "#20. Remove duplicates from a list.\n",
        "l=[1,2,2,3,4,5,4,6]\n",
        "print(list(set(l)))"
      ],
      "metadata": {
        "id": "u8QcXSupwoNn",
        "colab": {
          "base_uri": "https://localhost:8080/"
        },
        "outputId": "2b7b3d71-5e01-4727-b121-0e2008d1c462"
      },
      "execution_count": 41,
      "outputs": [
        {
          "output_type": "stream",
          "name": "stdout",
          "text": [
            "[1, 2, 3, 4, 5, 6]\n"
          ]
        }
      ]
    },
    {
      "cell_type": "markdown",
      "source": [
        "21. Find the common elements between two lists."
      ],
      "metadata": {
        "id": "ZFG8Hgem6ICf"
      }
    },
    {
      "cell_type": "code",
      "source": [
        "\n",
        "#21. Find the common elements between two lists.\n",
        "\n",
        "\n",
        "l=[3,4,5,6,7]\n",
        "list2=[1,2,3,4]\n",
        "commons=[]\n",
        "for i in l:\n",
        "    if i in list2:\n",
        "        commons.append(i)\n",
        "print(commons)"
      ],
      "metadata": {
        "id": "VChI-UZywsUk",
        "colab": {
          "base_uri": "https://localhost:8080/"
        },
        "outputId": "1156ef09-236d-49f8-8f02-919804c93749"
      },
      "execution_count": 42,
      "outputs": [
        {
          "output_type": "stream",
          "name": "stdout",
          "text": [
            "[3, 4]\n"
          ]
        }
      ]
    },
    {
      "cell_type": "markdown",
      "source": [
        "22. Find the difference between two lists."
      ],
      "metadata": {
        "id": "9bLAv96V6JAu"
      }
    },
    {
      "cell_type": "code",
      "source": [
        "\n",
        "\n",
        "#22. Find the difference between two lists."
      ],
      "metadata": {
        "id": "TzqEiPMZwyLp"
      },
      "execution_count": null,
      "outputs": []
    },
    {
      "cell_type": "markdown",
      "source": [
        "23.Merge two lists."
      ],
      "metadata": {
        "id": "dUAfyZqP6Jz4"
      }
    },
    {
      "cell_type": "code",
      "source": [
        "\n",
        "#23. Merge two lists.\n",
        "\n",
        "\n",
        "list1=[1,2,3,4]\n",
        "list2=[5,6,7,8]\n",
        "\n",
        "print(list1+list2)"
      ],
      "metadata": {
        "id": "v_rmQJqZw1hj",
        "colab": {
          "base_uri": "https://localhost:8080/"
        },
        "outputId": "920128aa-5a1b-4e32-b7ba-053873b09dd0"
      },
      "execution_count": 43,
      "outputs": [
        {
          "output_type": "stream",
          "name": "stdout",
          "text": [
            "[1, 2, 3, 4, 5, 6, 7, 8]\n"
          ]
        }
      ]
    },
    {
      "cell_type": "markdown",
      "source": [
        "24.Multiply all elements in a list by 2."
      ],
      "metadata": {
        "id": "0luE4YJW6Kk0"
      }
    },
    {
      "cell_type": "code",
      "source": [
        "\n",
        "\n",
        "#24. Multiply all elements in a list by 2.\n",
        "\n",
        "\n",
        "l=[1,2,3,4]\n",
        "list2=[]\n",
        "for i in l:\n",
        "    list2.append(i*2)\n",
        "l=list2\n",
        "print(l)"
      ],
      "metadata": {
        "id": "Xoptvhn8w6Yw",
        "colab": {
          "base_uri": "https://localhost:8080/"
        },
        "outputId": "57a1840c-babc-4855-9b68-db52cf366425"
      },
      "execution_count": 44,
      "outputs": [
        {
          "output_type": "stream",
          "name": "stdout",
          "text": [
            "[2, 4, 6, 8]\n"
          ]
        }
      ]
    },
    {
      "cell_type": "markdown",
      "source": [
        "25. Filter out all even numbers from a list."
      ],
      "metadata": {
        "id": "nkL_PFJr6LhM"
      }
    },
    {
      "cell_type": "code",
      "source": [
        "\n",
        "#25. Filter out all even numbers from a list.\n",
        "\n",
        "l=[1,2,3,4,5,6,7,8]\n",
        "evens=[]\n",
        "for i in l:\n",
        "    if i%2==0:\n",
        "        evens.append(i)\n",
        "evens"
      ],
      "metadata": {
        "id": "UJ6c_qh4w9zd",
        "colab": {
          "base_uri": "https://localhost:8080/"
        },
        "outputId": "a0db7769-6324-43d8-f425-28f8deef2978"
      },
      "execution_count": 45,
      "outputs": [
        {
          "output_type": "execute_result",
          "data": {
            "text/plain": [
              "[2, 4, 6, 8]"
            ]
          },
          "metadata": {},
          "execution_count": 45
        }
      ]
    },
    {
      "cell_type": "markdown",
      "source": [
        "26. Convert a list of strings to a list of integers."
      ],
      "metadata": {
        "id": "Z8m4u8-p6Mep"
      }
    },
    {
      "cell_type": "code",
      "source": [
        "\n",
        "#26. Convert a list of strings to a list of integers.\n",
        "\n",
        "\n",
        "l=['1','2','3','4']\n",
        "l2=[]\n",
        "for i in l:\n",
        "  l2.append(int(i))\n",
        "l=l2\n",
        "print(l)"
      ],
      "metadata": {
        "id": "JN4TFMCcxDKv",
        "colab": {
          "base_uri": "https://localhost:8080/"
        },
        "outputId": "377bb2c4-42f0-4e1b-80c3-c6d10ef3dd86"
      },
      "execution_count": 46,
      "outputs": [
        {
          "output_type": "stream",
          "name": "stdout",
          "text": [
            "[1, 2, 3, 4]\n"
          ]
        }
      ]
    },
    {
      "cell_type": "markdown",
      "source": [
        "27.Convert a list of Integers to a list of strings."
      ],
      "metadata": {
        "id": "ui3826fw6NfR"
      }
    },
    {
      "cell_type": "code",
      "source": [
        "\n",
        "#27. Convert a list of integers to a list of strings.\n",
        "\n",
        "\n",
        "l=[1,2,3,4]\n",
        "l2=[]\n",
        "for i in l:\n",
        "  l2.append(str(i))\n",
        "l"
      ],
      "metadata": {
        "id": "wQD09nAExHBt",
        "colab": {
          "base_uri": "https://localhost:8080/"
        },
        "outputId": "416bcda3-ac23-44fc-82b2-d33a6fcb6183"
      },
      "execution_count": 48,
      "outputs": [
        {
          "output_type": "execute_result",
          "data": {
            "text/plain": [
              "[1, 2, 3, 4]"
            ]
          },
          "metadata": {},
          "execution_count": 48
        }
      ]
    },
    {
      "cell_type": "markdown",
      "source": [
        "28.Flatten a nested list."
      ],
      "metadata": {
        "id": "a99NCCGr6O1E"
      }
    },
    {
      "cell_type": "code",
      "source": [
        "\n",
        "\n",
        "#28. Flatten a nested list.\n",
        "\n",
        "\n",
        "l=[[1,2,3,4],[5,6,7,8],[9,10,11,12]]\n",
        "\n",
        "flatten=[]\n",
        "\n",
        "for i in l:\n",
        "    for j in i:\n",
        "        flatten.append(j)\n",
        "l=flatten\n",
        "\n",
        "print(l)"
      ],
      "metadata": {
        "id": "5_-tICUmxLI7",
        "colab": {
          "base_uri": "https://localhost:8080/"
        },
        "outputId": "4e82f88d-5170-400c-f3ad-70441598dae0"
      },
      "execution_count": 49,
      "outputs": [
        {
          "output_type": "stream",
          "name": "stdout",
          "text": [
            "[1, 2, 3, 4, 5, 6, 7, 8, 9, 10, 11, 12]\n"
          ]
        }
      ]
    },
    {
      "cell_type": "markdown",
      "source": [
        "29. Create a list of the first 10 Fibonacci numbers."
      ],
      "metadata": {
        "id": "Bvexasf76PiL"
      }
    },
    {
      "cell_type": "code",
      "source": [
        "\n",
        "\n",
        "#29. Create a list of the first 10 Fibonacci numbers."
      ],
      "metadata": {
        "id": "qrXnO6DzxP_Y"
      },
      "execution_count": null,
      "outputs": []
    },
    {
      "cell_type": "markdown",
      "source": [
        "30. Check if a list is sorted."
      ],
      "metadata": {
        "id": "et47z6eP6Qee"
      }
    },
    {
      "cell_type": "code",
      "source": [
        "\n",
        "\n",
        "#30. Check if a list is sorted.\n",
        "\n",
        "\n",
        "l=[1,2,3,4]\n",
        "\n",
        "count=0\n",
        "a=0\n",
        "for i in l:\n",
        "    if i> count:\n",
        "        a+=1\n",
        "        count+=i\n",
        "    else:\n",
        "        a*=0\n",
        "if a!=0:\n",
        "    print('List is sorted')\n",
        "else:\n",
        "    print('List is not sorted')"
      ],
      "metadata": {
        "id": "UXkM64bNxTWZ",
        "colab": {
          "base_uri": "https://localhost:8080/"
        },
        "outputId": "e496914c-c63f-4f58-c345-b09a00deb085"
      },
      "execution_count": 50,
      "outputs": [
        {
          "output_type": "stream",
          "name": "stdout",
          "text": [
            "List is sorted\n"
          ]
        }
      ]
    },
    {
      "cell_type": "markdown",
      "source": [
        "31. Rotate a list to the left by n positions."
      ],
      "metadata": {
        "id": "FhdR7Ou_6TzM"
      }
    },
    {
      "cell_type": "code",
      "source": [
        "\n",
        "\n",
        "#31. Rotate a list to the left by `n` positions.\n",
        "\n",
        "\n",
        "l =[1,2,3,4]\n",
        "\n",
        "n=int(input('enter a number'))\n",
        "if n<=len(l):\n",
        "    print(l[n:]+l[:n])\n",
        "else:\n",
        "    print('Enter number within 0 and 4')"
      ],
      "metadata": {
        "id": "7E6303MrxYGm",
        "colab": {
          "base_uri": "https://localhost:8080/"
        },
        "outputId": "5581c578-b3a1-40b0-c98f-dd90fd406bb2"
      },
      "execution_count": 51,
      "outputs": [
        {
          "output_type": "stream",
          "name": "stdout",
          "text": [
            "enter a number2\n",
            "[3, 4, 1, 2]\n"
          ]
        }
      ]
    },
    {
      "cell_type": "markdown",
      "source": [
        "32. Rotate a list to the right by n positions."
      ],
      "metadata": {
        "id": "FPFegrpm6WN7"
      }
    },
    {
      "cell_type": "code",
      "source": [
        "\n",
        "#32. Rotate a list to the right by `n` positions.\n",
        "\n",
        "\n",
        "l =[1,2,3,4]\n",
        "\n",
        "n=int(input('enter a number'))\n",
        "if n<=len(l):\n",
        "    print(l[:n]+l[n:])\n",
        "else:\n",
        "    print('Enter number within 0 and 4')"
      ],
      "metadata": {
        "id": "owrnzgCExcZX",
        "colab": {
          "base_uri": "https://localhost:8080/"
        },
        "outputId": "70c06885-31e9-43e5-a198-50978987fc06"
      },
      "execution_count": 54,
      "outputs": [
        {
          "output_type": "stream",
          "name": "stdout",
          "text": [
            "enter a number2\n",
            "[1, 2, 3, 4]\n"
          ]
        }
      ]
    },
    {
      "cell_type": "markdown",
      "source": [
        "33.Create a list of prime numbers up to 50"
      ],
      "metadata": {
        "id": "0GwMSWsN6ZJ0"
      }
    },
    {
      "cell_type": "markdown",
      "source": [],
      "metadata": {
        "id": "TJfGHX_H9P-Y"
      }
    },
    {
      "cell_type": "code",
      "source": [
        "\n",
        "\n",
        "#33. Create a list of prime numbers up to 50.\n",
        "\n",
        "\n",
        "#34. Split a list into chunks of size `n`."
      ],
      "metadata": {
        "id": "PM-PoVEoxhE6"
      },
      "execution_count": null,
      "outputs": []
    },
    {
      "cell_type": "markdown",
      "source": [
        "35. Find the second largest number in a list."
      ],
      "metadata": {
        "id": "zLLi1nBm6fmN"
      }
    },
    {
      "cell_type": "code",
      "source": [
        "\n",
        "#35. Find the second largest number in a list.\n",
        "\n",
        "l =[1,2,3,4]\n",
        "\n",
        "a=max(l)\n",
        "l.remove(a)\n",
        "b=max(l)\n",
        "print('The second largest element in list is ',b)\n",
        "l.append(a)"
      ],
      "metadata": {
        "id": "PQtVz1t-xlw7",
        "colab": {
          "base_uri": "https://localhost:8080/"
        },
        "outputId": "05db40f3-effd-4b57-80fa-835dac35a60c"
      },
      "execution_count": 55,
      "outputs": [
        {
          "output_type": "stream",
          "name": "stdout",
          "text": [
            "The second largest element in list is  3\n"
          ]
        }
      ]
    },
    {
      "cell_type": "markdown",
      "source": [
        "36.Replace every element in a list with its square."
      ],
      "metadata": {
        "id": "UIg_WnTp6hol"
      }
    },
    {
      "cell_type": "code",
      "source": [
        "\n",
        "\n",
        "#36. Replace every element in a list with its square.\n",
        "\n",
        "\n",
        "l =[1,2,3,4]\n",
        "list2=[]\n",
        "print('Before',l)\n",
        "for i in l:\n",
        "    list2.append(i**2)\n",
        "l=list2\n",
        "print('After',l)"
      ],
      "metadata": {
        "id": "CRPL_-ZwxqD5",
        "colab": {
          "base_uri": "https://localhost:8080/"
        },
        "outputId": "704127b9-cb62-4773-ef00-2ce787be53e4"
      },
      "execution_count": 56,
      "outputs": [
        {
          "output_type": "stream",
          "name": "stdout",
          "text": [
            "Before [1, 2, 3, 4]\n",
            "After [1, 4, 9, 16]\n"
          ]
        }
      ]
    },
    {
      "cell_type": "markdown",
      "source": [
        "37. Convert a list to a dictionary where list elements become keys and their indices become values."
      ],
      "metadata": {
        "id": "vkIx_3Iu6int"
      }
    },
    {
      "cell_type": "code",
      "source": [
        "\n",
        "\n",
        "#37. Convert a list to a dictionary where list elements become keys and their ndices become values.\n",
        "\n",
        "l=['a','b','c','d','e']\n",
        "d={}\n",
        "for i in l:\n",
        "    d[i]=l.index(i)\n",
        "\n",
        "d"
      ],
      "metadata": {
        "id": "lSLc7SsTxuHQ",
        "colab": {
          "base_uri": "https://localhost:8080/"
        },
        "outputId": "183654b0-269b-4f53-d8da-786891c06bb8"
      },
      "execution_count": 57,
      "outputs": [
        {
          "output_type": "execute_result",
          "data": {
            "text/plain": [
              "{'a': 0, 'b': 1, 'c': 2, 'd': 3, 'e': 4}"
            ]
          },
          "metadata": {},
          "execution_count": 57
        }
      ]
    },
    {
      "cell_type": "markdown",
      "source": [
        "38. Shuffle the elements of a list randomly."
      ],
      "metadata": {
        "id": "gST2RJiC6jes"
      }
    },
    {
      "cell_type": "code",
      "source": [
        "\n",
        "\n",
        "#38. Shuffle the elements of a list randomly.\n",
        "\n",
        "import random\n",
        "\n",
        "l = [1, 2, 3, 4, 5]\n",
        "random.shuffle(l)\n",
        "\n",
        "print(l)"
      ],
      "metadata": {
        "id": "6I-7T8xmxxle",
        "colab": {
          "base_uri": "https://localhost:8080/"
        },
        "outputId": "a8aef32b-e230-4508-a8d2-afeedfeaa631"
      },
      "execution_count": 58,
      "outputs": [
        {
          "output_type": "stream",
          "name": "stdout",
          "text": [
            "[4, 1, 3, 5, 2]\n"
          ]
        }
      ]
    },
    {
      "cell_type": "markdown",
      "source": [
        "39.Create a list of the first 10 factorial numbers."
      ],
      "metadata": {
        "id": "nQQzH8oj6kfk"
      }
    },
    {
      "cell_type": "code",
      "source": [
        "\n",
        "\n",
        "#39. Create a list of the first 10 factorial numbers.\n",
        "\n",
        "l=[]\n",
        "\n",
        "count=1\n",
        "\n",
        "for i in range(1,11):\n",
        "    for j in range(1,i):\n",
        "        count*=j\n",
        "    l.append(count)\n",
        "    count=1\n",
        "print(l)"
      ],
      "metadata": {
        "id": "tiBZl-hgx2Ub"
      },
      "execution_count": null,
      "outputs": []
    },
    {
      "cell_type": "markdown",
      "source": [
        "40.Check if two lists have at least one element in common."
      ],
      "metadata": {
        "id": "bRdwlrxd6l4-"
      }
    },
    {
      "cell_type": "code",
      "source": [
        "\n",
        "#40. Check if two lists have at least one element in common.\n",
        "\n",
        "list1=[1,2,3,4]\n",
        "list2=[3,4,5,6]\n",
        "\n",
        "a=0\n",
        "b=0\n",
        "commons=[]\n",
        "for i in list2:\n",
        "    if i in list1:\n",
        "        a+=1\n",
        "        commons.append(i)\n",
        "    else:\n",
        "        b+=1\n",
        "if a!=0 :\n",
        "    print('There are some element ate common in list which are',commons)\n",
        "else:\n",
        "    print('There is no elements in common im list')"
      ],
      "metadata": {
        "id": "Lqxkcvw3x6cw",
        "colab": {
          "base_uri": "https://localhost:8080/"
        },
        "outputId": "055a2681-64d2-4659-ac88-7af064f381b6"
      },
      "execution_count": 59,
      "outputs": [
        {
          "output_type": "stream",
          "name": "stdout",
          "text": [
            "There are some element ate common in list which are [3, 4]\n"
          ]
        }
      ]
    },
    {
      "cell_type": "markdown",
      "source": [
        "41.Remove all elements from a list."
      ],
      "metadata": {
        "id": "_1m8wIzy6m78"
      }
    },
    {
      "cell_type": "code",
      "source": [
        "\n",
        "\n",
        "#41. Remove all elements from a list.\n",
        "\n",
        "l=[1,2,3,4,5]\n",
        "\n",
        "for i in range(len(l)):\n",
        "    l.pop()\n",
        "\n",
        "print(l)"
      ],
      "metadata": {
        "id": "UflkDFiWx_UN",
        "colab": {
          "base_uri": "https://localhost:8080/"
        },
        "outputId": "270647d3-520e-4ae2-d85f-d11056a72af4"
      },
      "execution_count": 60,
      "outputs": [
        {
          "output_type": "stream",
          "name": "stdout",
          "text": [
            "[]\n"
          ]
        }
      ]
    },
    {
      "cell_type": "markdown",
      "source": [
        "42. Replace negative numbers in a list with 0"
      ],
      "metadata": {
        "id": "L1vCIf-S6oMd"
      }
    },
    {
      "cell_type": "code",
      "source": [
        "\n",
        "\n",
        "#42. Replace negative numbers in a list with 0.\n",
        "\n",
        "l=[-4,-3,-2,-1,0,1,2,3,4]\n",
        "\n",
        "for i in l:\n",
        "    if i >0:\n",
        "        l[i]=0\n",
        "if l[0]<0:\n",
        "    l[0]=0\n",
        "print(l)"
      ],
      "metadata": {
        "id": "ovF_fIK2yEz3",
        "colab": {
          "base_uri": "https://localhost:8080/"
        },
        "outputId": "fd05353c-e8c3-485d-b735-d8e927392cdc"
      },
      "execution_count": 61,
      "outputs": [
        {
          "output_type": "stream",
          "name": "stdout",
          "text": [
            "[0, 0, 0, 0, 0, 1, 2, 3, 4]\n"
          ]
        }
      ]
    },
    {
      "cell_type": "markdown",
      "source": [
        "43.Convert a string into a list of words."
      ],
      "metadata": {
        "id": "V4G4rebJ6phz"
      }
    },
    {
      "cell_type": "code",
      "source": [
        "\n",
        "#43. Convert a string into a list of words.\n",
        "\n",
        "\n",
        "l=[]\n",
        "string='hello world'\n",
        "for i in string:\n",
        "    l.append(i)\n",
        "print(l)"
      ],
      "metadata": {
        "id": "YbWteeztyIvp",
        "colab": {
          "base_uri": "https://localhost:8080/"
        },
        "outputId": "346efc66-7a23-444a-ce6c-9b3e561dbc15"
      },
      "execution_count": 62,
      "outputs": [
        {
          "output_type": "stream",
          "name": "stdout",
          "text": [
            "['h', 'e', 'l', 'l', 'o', ' ', 'w', 'o', 'r', 'l', 'd']\n"
          ]
        }
      ]
    },
    {
      "cell_type": "markdown",
      "source": [
        "44. Convert a list of words into a string."
      ],
      "metadata": {
        "id": "Ix0vcvxo6qVz"
      }
    },
    {
      "cell_type": "code",
      "source": [
        "\n",
        "\n",
        "#44. Convert a list of words into a string.\n",
        "\n",
        "\n",
        "l=['h', 'e', 'l', 'l', 'o', ' ', 'w', 'o', 'r', 'l', 'd']\n",
        "\n",
        "string=\"\"\n",
        "for i in l:\n",
        "    string+=i\n",
        "print(string)"
      ],
      "metadata": {
        "id": "ewVGFQJGyL9L",
        "colab": {
          "base_uri": "https://localhost:8080/"
        },
        "outputId": "c3d6f049-dcf6-4166-c39c-1955b9b0e8a7"
      },
      "execution_count": 63,
      "outputs": [
        {
          "output_type": "stream",
          "name": "stdout",
          "text": [
            "hello world\n"
          ]
        }
      ]
    },
    {
      "cell_type": "markdown",
      "source": [
        "45.Create a list of the first n power of 2."
      ],
      "metadata": {
        "id": "rZS_AVrn6raz"
      }
    },
    {
      "cell_type": "code",
      "source": [
        "\n",
        "\n",
        "#45. Create a list of the first `n` powers of 2.\n",
        "\n",
        "\n",
        "l=[]\n",
        "n=int(input('Enter a number'))\n",
        "for i in range(1,n+1):\n",
        "    l.append(i**2)\n",
        "\n",
        "print(l)"
      ],
      "metadata": {
        "id": "NKGIFTbkyPNz",
        "colab": {
          "base_uri": "https://localhost:8080/"
        },
        "outputId": "ea1e69ea-8cb6-4270-b90a-9c90d9ac500b"
      },
      "execution_count": 64,
      "outputs": [
        {
          "output_type": "stream",
          "name": "stdout",
          "text": [
            "Enter a number10\n",
            "[1, 4, 9, 16, 25, 36, 49, 64, 81, 100]\n"
          ]
        }
      ]
    },
    {
      "cell_type": "markdown",
      "source": [
        "46.Find the longest string in a list of strings."
      ],
      "metadata": {
        "id": "NkvavTVx6sN1"
      }
    },
    {
      "cell_type": "code",
      "source": [
        "\n",
        "\n",
        "#46. Find the longest string in a list of strings\n",
        "\n",
        "strings=['hii','hiii','hiiii']\n",
        "print(max(strings))"
      ],
      "metadata": {
        "id": "-KU0fA6QyS4d",
        "colab": {
          "base_uri": "https://localhost:8080/"
        },
        "outputId": "216a792c-a24f-4bd2-e95a-0f27689842ac"
      },
      "execution_count": 65,
      "outputs": [
        {
          "output_type": "stream",
          "name": "stdout",
          "text": [
            "hiiii\n"
          ]
        }
      ]
    },
    {
      "cell_type": "markdown",
      "source": [
        "47. Find the shortest string in a list of strings"
      ],
      "metadata": {
        "id": "wFtyHW4i6s-s"
      }
    },
    {
      "cell_type": "code",
      "source": [
        "\n",
        "#47. Find the shortest string in a list of strings\n",
        "\n",
        "strings=['hii','hiii','hiiii']\n",
        "print(min(strings))"
      ],
      "metadata": {
        "id": "GTraAykwyWwL",
        "colab": {
          "base_uri": "https://localhost:8080/"
        },
        "outputId": "f3a0a8b0-dbd8-409f-a397-e6b8fef84916"
      },
      "execution_count": 66,
      "outputs": [
        {
          "output_type": "stream",
          "name": "stdout",
          "text": [
            "hii\n"
          ]
        }
      ]
    },
    {
      "cell_type": "markdown",
      "source": [
        "48. Create a list of the first n triangular numbers."
      ],
      "metadata": {
        "id": "mWkoJMyn6t2N"
      }
    },
    {
      "cell_type": "code",
      "source": [
        "\n",
        "\n",
        "#48. Create a list of the first `n` triangular numbers.\n",
        "\n",
        "\n",
        "l=[]\n",
        "n=int(input('Enter a number'))\n",
        "\n",
        "for i in range(1, n):\n",
        "    l.append(i * (i + 1) // 2)\n",
        "\n",
        "print('The first 10 tringular numbers are ',l)"
      ],
      "metadata": {
        "id": "R-iH6hVnyaSU",
        "colab": {
          "base_uri": "https://localhost:8080/"
        },
        "outputId": "c886ad57-6146-47fa-97e5-426b957661ac"
      },
      "execution_count": 67,
      "outputs": [
        {
          "output_type": "stream",
          "name": "stdout",
          "text": [
            "Enter a number10\n",
            "The first 10 tringular numbers are  [1, 3, 6, 10, 15, 21, 28, 36, 45]\n"
          ]
        }
      ]
    },
    {
      "cell_type": "markdown",
      "source": [
        "49.Check if a list contains another list as a sequence."
      ],
      "metadata": {
        "id": "1yP4G7_V6u_o"
      }
    },
    {
      "cell_type": "code",
      "source": [
        "\n",
        "\n",
        "#49. Check if a list contains another list as a subsequence.\n",
        "\n",
        "\n",
        "l =[1,[2,3,4,5],6,7]\n",
        "sublist=[2,3,4,5]\n",
        "\n",
        "if sublist in l:\n",
        "    print('Sublist is present')\n",
        "else:\n",
        "    print('Sublist not present')"
      ],
      "metadata": {
        "id": "mjJ98LFcyfae",
        "colab": {
          "base_uri": "https://localhost:8080/"
        },
        "outputId": "b94cbd3d-6d85-4301-8eda-7d7046d90703"
      },
      "execution_count": 68,
      "outputs": [
        {
          "output_type": "stream",
          "name": "stdout",
          "text": [
            "Sublist is present\n"
          ]
        }
      ]
    },
    {
      "cell_type": "markdown",
      "source": [
        "50.Swap two elements in a list by their indices."
      ],
      "metadata": {
        "id": "FMQ6vGRg6v4l"
      }
    },
    {
      "cell_type": "code",
      "source": [
        "\n",
        "\n",
        "#50. Swap two elements in a list by their indices.\n",
        "\n",
        "l=[1,2,3,4]\n",
        "print('Before',l)\n",
        "a=l[0]\n",
        "\n",
        "l[0]=l[3]\n",
        "l[3]=a\n",
        "\n",
        "print('After',l)"
      ],
      "metadata": {
        "id": "Cd95e-9-yjOv",
        "colab": {
          "base_uri": "https://localhost:8080/"
        },
        "outputId": "09a14165-6c3e-4e83-d676-d425f894da6e"
      },
      "execution_count": 69,
      "outputs": [
        {
          "output_type": "stream",
          "name": "stdout",
          "text": [
            "Before [1, 2, 3, 4]\n",
            "After [4, 2, 3, 1]\n"
          ]
        }
      ]
    },
    {
      "cell_type": "code",
      "source": [],
      "metadata": {
        "id": "FNaD8ommywAj"
      },
      "execution_count": null,
      "outputs": []
    },
    {
      "cell_type": "markdown",
      "source": [
        "#Tuple questions"
      ],
      "metadata": {
        "id": "L0iCwUskyxlm"
      }
    },
    {
      "cell_type": "markdown",
      "source": [
        "1.Create a tuple with Integers from 1 to 5."
      ],
      "metadata": {
        "id": "-KKHH2L96w3t"
      }
    },
    {
      "cell_type": "code",
      "source": [
        "\n",
        "#1.Create a tuple with integers from 1 to 5.\n",
        "\n",
        "\n",
        "tup=(1,2,3,4,5)\n",
        "tup"
      ],
      "metadata": {
        "id": "Jz6cWR9Cy2UZ",
        "colab": {
          "base_uri": "https://localhost:8080/"
        },
        "outputId": "ddb07c35-025e-441c-bc6a-3f8760ac1ac2"
      },
      "execution_count": 70,
      "outputs": [
        {
          "output_type": "execute_result",
          "data": {
            "text/plain": [
              "(1, 2, 3, 4, 5)"
            ]
          },
          "metadata": {},
          "execution_count": 70
        }
      ]
    },
    {
      "cell_type": "markdown",
      "source": [
        "2. Access the third element of a tuple."
      ],
      "metadata": {
        "id": "vxXFrl_R_5n1"
      }
    },
    {
      "cell_type": "code",
      "source": [
        "\n",
        "#2. Access the third element of a tuple.\n",
        "\n",
        "print(tup[2])"
      ],
      "metadata": {
        "id": "RpxFqQZ0PoWs",
        "colab": {
          "base_uri": "https://localhost:8080/"
        },
        "outputId": "7fd47f3f-7ba0-43f4-a3f1-f3077d95744f"
      },
      "execution_count": 71,
      "outputs": [
        {
          "output_type": "stream",
          "name": "stdout",
          "text": [
            "3\n"
          ]
        }
      ]
    },
    {
      "cell_type": "markdown",
      "source": [
        "3. Find the length of a tuple without len function."
      ],
      "metadata": {
        "id": "dqNA_p5N_69y"
      }
    },
    {
      "cell_type": "code",
      "source": [
        "\n",
        "#3. Find the length of a tuple without using the `len()` function.\n",
        "\n",
        "\n",
        "tupe=(1,2,3,4,5)\n",
        "len=0\n",
        "for i in tupe:\n",
        "    len+=1\n",
        "print(len)"
      ],
      "metadata": {
        "id": "Jdw9X1rLPvYB",
        "colab": {
          "base_uri": "https://localhost:8080/"
        },
        "outputId": "139087b9-7b3b-4ab2-87ca-db8c596ea2bb"
      },
      "execution_count": 72,
      "outputs": [
        {
          "output_type": "stream",
          "name": "stdout",
          "text": [
            "5\n"
          ]
        }
      ]
    },
    {
      "cell_type": "markdown",
      "source": [
        "4. Count the occurrence of an element in a tuple."
      ],
      "metadata": {
        "id": "VhrX3jxL_8Mq"
      }
    },
    {
      "cell_type": "code",
      "source": [
        "\n",
        "#4. Count the occurrences of an element in a tuple.\n",
        "\n",
        "print(tupe.count(2))"
      ],
      "metadata": {
        "id": "c-d1nb8_PwbG",
        "colab": {
          "base_uri": "https://localhost:8080/"
        },
        "outputId": "82d9e611-f737-4ae1-b6b1-7cd18f3749cc"
      },
      "execution_count": 73,
      "outputs": [
        {
          "output_type": "stream",
          "name": "stdout",
          "text": [
            "1\n"
          ]
        }
      ]
    },
    {
      "cell_type": "markdown",
      "source": [
        "5.Fins the index of the first occurrence of an element in a tuple."
      ],
      "metadata": {
        "id": "vntpSaxUBlpt"
      }
    },
    {
      "cell_type": "code",
      "source": [
        "\n",
        "#5. Find the index of the first occurrence of an element in a tuple.\n",
        "\n",
        "\n",
        "tup=(1,2,2,3,4,5)\n",
        "\n",
        "count=0\n",
        "n=int(input('enter a number'))\n",
        "for i in tup:\n",
        "    if i ==n:\n",
        "        break\n",
        "    else:\n",
        "        count+=1\n",
        "print('The', n ,'is at ',count,'position if index starts from zero')"
      ],
      "metadata": {
        "id": "YUZrpNAOP2lC",
        "colab": {
          "base_uri": "https://localhost:8080/"
        },
        "outputId": "1ead92f1-9a8c-437f-f2da-dcd8c2dfbdba"
      },
      "execution_count": 74,
      "outputs": [
        {
          "output_type": "stream",
          "name": "stdout",
          "text": [
            "enter a number2\n",
            "The 2 is at  1 position if index starts from zero\n"
          ]
        }
      ]
    },
    {
      "cell_type": "markdown",
      "source": [
        "6. Check if an element exists in a tuple."
      ],
      "metadata": {
        "id": "VcjC9y_p_9qS"
      }
    },
    {
      "cell_type": "code",
      "source": [
        "\n",
        "#6. Check if an element exists in a tuple.\n",
        "\n",
        "\n",
        "t=(1,2,3,4,5)\n",
        "n=int(input('enter a number to check'))\n",
        "if n in t:\n",
        "    print('The element', n,'is in tuple')\n",
        "else:\n",
        "    print('The element', n,'is in tuple')"
      ],
      "metadata": {
        "id": "kkRTINCcP8jW",
        "colab": {
          "base_uri": "https://localhost:8080/"
        },
        "outputId": "2f016010-5e18-4f62-eb6d-1661b8a2c3be"
      },
      "execution_count": 75,
      "outputs": [
        {
          "output_type": "stream",
          "name": "stdout",
          "text": [
            "enter a number to check2\n",
            "The element 2 is in tuple\n"
          ]
        }
      ]
    },
    {
      "cell_type": "markdown",
      "source": [
        "7. Convert a tuple to a list."
      ],
      "metadata": {
        "id": "oYKhRUBN__CV"
      }
    },
    {
      "cell_type": "code",
      "source": [
        "\n",
        "#7. Convert a tuple to a list.\n",
        "\n",
        "\n",
        "t=(1,2,3,42)\n",
        "print(list(t))"
      ],
      "metadata": {
        "id": "0f-U7HjAQAO0",
        "colab": {
          "base_uri": "https://localhost:8080/"
        },
        "outputId": "f6983625-ba39-4f26-eb6f-a4e10bf34542"
      },
      "execution_count": 76,
      "outputs": [
        {
          "output_type": "stream",
          "name": "stdout",
          "text": [
            "[1, 2, 3, 42]\n"
          ]
        }
      ]
    },
    {
      "cell_type": "markdown",
      "source": [
        "7.Convert a list to a tuple."
      ],
      "metadata": {
        "id": "SwgoCRYeAAmF"
      }
    },
    {
      "cell_type": "code",
      "source": [
        "\n",
        "#8. Convert a list to a tuple.\n",
        "\n",
        "\n",
        "l=[1,2,3,4,5]\n",
        "print(tuple(l))"
      ],
      "metadata": {
        "id": "jOOTDhCaQDTi",
        "colab": {
          "base_uri": "https://localhost:8080/"
        },
        "outputId": "fa6fe74b-327e-49e1-fb7e-1046af67c561"
      },
      "execution_count": 77,
      "outputs": [
        {
          "output_type": "stream",
          "name": "stdout",
          "text": [
            "(1, 2, 3, 4, 5)\n"
          ]
        }
      ]
    },
    {
      "cell_type": "markdown",
      "source": [
        "9. Unpack the elements of a tuple into variables."
      ],
      "metadata": {
        "id": "Jxn-Sve4AC9h"
      }
    },
    {
      "cell_type": "code",
      "source": [
        "\n",
        "#9. Unpack the elements of a tuple into variables.\n",
        "\n",
        "t= (1, 2, 3,4)\n",
        "a, b, c, d = t\n",
        "print(a,b,c,d)"
      ],
      "metadata": {
        "id": "T9fhVEnEQGxS",
        "colab": {
          "base_uri": "https://localhost:8080/"
        },
        "outputId": "f26c2bff-eb93-49f6-c094-bf92c0b0c18a"
      },
      "execution_count": 82,
      "outputs": [
        {
          "output_type": "stream",
          "name": "stdout",
          "text": [
            "1 2 3 4\n"
          ]
        }
      ]
    },
    {
      "cell_type": "markdown",
      "source": [
        "10.Create a tuple if even number from 1 to 10."
      ],
      "metadata": {
        "id": "HMFibIkoAEcA"
      }
    },
    {
      "cell_type": "code",
      "source": [
        "\n",
        "\n",
        "#10. Create a tuple of even numbers from 1 to 10.\n",
        "\n",
        "evens=(2,4,6,8,10)\n",
        "evens"
      ],
      "metadata": {
        "id": "MVYl2kLXQMLZ",
        "colab": {
          "base_uri": "https://localhost:8080/"
        },
        "outputId": "03026c9f-1e2f-4f24-d3c2-93f7f916b6f1"
      },
      "execution_count": 83,
      "outputs": [
        {
          "output_type": "execute_result",
          "data": {
            "text/plain": [
              "(2, 4, 6, 8, 10)"
            ]
          },
          "metadata": {},
          "execution_count": 83
        }
      ]
    },
    {
      "cell_type": "markdown",
      "source": [
        "11.Create a tuple of odd numbers from 1 to 10"
      ],
      "metadata": {
        "id": "09Zz3Ok8AF7X"
      }
    },
    {
      "cell_type": "code",
      "source": [
        "\n",
        "#11. Create a tuple of odd numbers from 1 to 10.\n",
        "\n",
        "odd=(1,3,5,7,9)\n",
        "odd"
      ],
      "metadata": {
        "id": "_r1w1Pf2QP0J",
        "colab": {
          "base_uri": "https://localhost:8080/"
        },
        "outputId": "93fc1154-a8ea-4d2d-bb7f-e9f1c37a4477"
      },
      "execution_count": 84,
      "outputs": [
        {
          "output_type": "execute_result",
          "data": {
            "text/plain": [
              "(1, 3, 5, 7, 9)"
            ]
          },
          "metadata": {},
          "execution_count": 84
        }
      ]
    },
    {
      "cell_type": "markdown",
      "source": [
        "12. Concatenate two tuples."
      ],
      "metadata": {
        "id": "3H9bKuD9AGud"
      }
    },
    {
      "cell_type": "code",
      "source": [
        "\n",
        "#12. Concatenate two tuples.\n",
        "\n",
        "\n",
        "print(evens+odd)"
      ],
      "metadata": {
        "id": "23N5_JMaQS8t",
        "colab": {
          "base_uri": "https://localhost:8080/"
        },
        "outputId": "b1600eb8-4eb7-4bf2-e18b-8c385ba94f5d"
      },
      "execution_count": 85,
      "outputs": [
        {
          "output_type": "stream",
          "name": "stdout",
          "text": [
            "(2, 4, 6, 8, 10, 1, 3, 5, 7, 9)\n"
          ]
        }
      ]
    },
    {
      "cell_type": "markdown",
      "source": [
        "13. Repeat a tuple three times"
      ],
      "metadata": {
        "id": "A2Py27NUAHn1"
      }
    },
    {
      "cell_type": "code",
      "source": [
        "\n",
        "#13. Repeat a tuple three times.\n",
        "\n",
        "\n",
        "print(t*3)"
      ],
      "metadata": {
        "id": "UOhoJz3BQXW0",
        "colab": {
          "base_uri": "https://localhost:8080/"
        },
        "outputId": "d524ec82-9eb9-4916-facf-730b580e9c6e"
      },
      "execution_count": 86,
      "outputs": [
        {
          "output_type": "stream",
          "name": "stdout",
          "text": [
            "(1, 2, 3, 4, 1, 2, 3, 4, 1, 2, 3, 4)\n"
          ]
        }
      ]
    },
    {
      "cell_type": "markdown",
      "source": [
        "14. Check if a tuple is empty."
      ],
      "metadata": {
        "id": "WHTmx348AJWe"
      }
    },
    {
      "cell_type": "code",
      "source": [
        "\n",
        "#14. Check if a tuple is empty.\n",
        "\n",
        "\n",
        "t = ()\n",
        "\n",
        "if not t:\n",
        "    print(\"The tuple is empty\")\n",
        "else:\n",
        "    print(\"The tuple is not empty\")"
      ],
      "metadata": {
        "id": "UGC3H314Qar5",
        "colab": {
          "base_uri": "https://localhost:8080/"
        },
        "outputId": "d9800c93-4b82-42d1-cf46-4ca934215d84"
      },
      "execution_count": 87,
      "outputs": [
        {
          "output_type": "stream",
          "name": "stdout",
          "text": [
            "The tuple is empty\n"
          ]
        }
      ]
    },
    {
      "cell_type": "markdown",
      "source": [
        "15. Create a nested tuple."
      ],
      "metadata": {
        "id": "AeCB_yAmAKOy"
      }
    },
    {
      "cell_type": "code",
      "source": [
        "\n",
        "#15. Create a nested tuple.\n",
        "\n",
        "\n",
        "t=((1,2,3),(4,5,6),(7,8,9))\n",
        "print(t)"
      ],
      "metadata": {
        "id": "EH4DcJXZQfjB",
        "colab": {
          "base_uri": "https://localhost:8080/"
        },
        "outputId": "859ec5f9-50d9-470d-9d90-bcb3096e6059"
      },
      "execution_count": 88,
      "outputs": [
        {
          "output_type": "stream",
          "name": "stdout",
          "text": [
            "((1, 2, 3), (4, 5, 6), (7, 8, 9))\n"
          ]
        }
      ]
    },
    {
      "cell_type": "markdown",
      "source": [
        "16. Access the first element of a nested tuple."
      ],
      "metadata": {
        "id": "h5HwzaurALDx"
      }
    },
    {
      "cell_type": "code",
      "source": [
        "\n",
        "#16. Access the first element of a nested tuple.\n",
        "t=((1,2,3),(4,5,6),(7,8,9))\n",
        "print(t)\n",
        "\n",
        "for i in t:\n",
        "    for j in i:\n",
        "        print('The fitst element of nested tuple is',j)\n",
        "        break\n",
        "    break"
      ],
      "metadata": {
        "id": "ohc1JKlVQil0",
        "colab": {
          "base_uri": "https://localhost:8080/"
        },
        "outputId": "d316fa9c-7037-4aef-ad42-61c01f0ec682"
      },
      "execution_count": 89,
      "outputs": [
        {
          "output_type": "stream",
          "name": "stdout",
          "text": [
            "((1, 2, 3), (4, 5, 6), (7, 8, 9))\n",
            "The fitst element of nested tuple is 1\n"
          ]
        }
      ]
    },
    {
      "cell_type": "markdown",
      "source": [
        "17. Create a tuple with a single element."
      ],
      "metadata": {
        "id": "bZvORuqJAL36"
      }
    },
    {
      "cell_type": "code",
      "source": [
        "\n",
        "#17. Create a tuple with a single element.\n",
        "\n",
        "\n",
        "t=('element')\n",
        "t"
      ],
      "metadata": {
        "id": "lXL4E7-3QmJs",
        "colab": {
          "base_uri": "https://localhost:8080/",
          "height": 35
        },
        "outputId": "9ecb70ce-69a8-419f-87ae-49fb2f136c2d"
      },
      "execution_count": 90,
      "outputs": [
        {
          "output_type": "execute_result",
          "data": {
            "text/plain": [
              "'element'"
            ],
            "application/vnd.google.colaboratory.intrinsic+json": {
              "type": "string"
            }
          },
          "metadata": {},
          "execution_count": 90
        }
      ]
    },
    {
      "cell_type": "markdown",
      "source": [
        "18.Compare two tuples."
      ],
      "metadata": {
        "id": "OMNSPMPGANHY"
      }
    },
    {
      "cell_type": "code",
      "source": [
        "\n",
        "#18. Compare two tuples.\n",
        "tuple1=(1,2,3,4)\n",
        "tuple2=(1,2,3,4)\n",
        "if tuple1== tuple2:\n",
        "    print('Both are same')\n",
        "else:\n",
        "    print('Both tuple are not same')"
      ],
      "metadata": {
        "id": "NLU-LVfmQqOF",
        "colab": {
          "base_uri": "https://localhost:8080/"
        },
        "outputId": "cfc6d549-e953-49fc-cc02-916a90a4c2ec"
      },
      "execution_count": 91,
      "outputs": [
        {
          "output_type": "stream",
          "name": "stdout",
          "text": [
            "Both are same\n"
          ]
        }
      ]
    },
    {
      "cell_type": "markdown",
      "source": [
        "19. Delete a tuple."
      ],
      "metadata": {
        "id": "3rWA8dhkAOAe"
      }
    },
    {
      "cell_type": "code",
      "source": [
        "#19. Delete a tuple."
      ],
      "metadata": {
        "id": "Pm35fjv_QuwO"
      },
      "execution_count": null,
      "outputs": []
    },
    {
      "cell_type": "markdown",
      "source": [
        "20. Slice a tuple."
      ],
      "metadata": {
        "id": "3w4PvFwXAPHq"
      }
    },
    {
      "cell_type": "code",
      "source": [
        "\n",
        "#20. Slice a tuple.\n",
        "t=(1,2,3,4,5)\n",
        "print(t[0:3])"
      ],
      "metadata": {
        "id": "My4uAFyNQyW-",
        "colab": {
          "base_uri": "https://localhost:8080/"
        },
        "outputId": "0896adc1-7dc1-40e7-e0ea-80bec5170255"
      },
      "execution_count": 92,
      "outputs": [
        {
          "output_type": "stream",
          "name": "stdout",
          "text": [
            "(1, 2, 3)\n"
          ]
        }
      ]
    },
    {
      "cell_type": "markdown",
      "source": [
        "21. Find the maximum value in a tuple."
      ],
      "metadata": {
        "id": "LFBXYNTfAQDv"
      }
    },
    {
      "cell_type": "code",
      "source": [
        "\n",
        "#21. Find the maximum value in a tuple.\n",
        "\n",
        "\n",
        "print(max(t))"
      ],
      "metadata": {
        "id": "BXtN06KZQ4Kb",
        "colab": {
          "base_uri": "https://localhost:8080/"
        },
        "outputId": "dc0b0091-707e-43a4-c916-1e89495e39e5"
      },
      "execution_count": 93,
      "outputs": [
        {
          "output_type": "stream",
          "name": "stdout",
          "text": [
            "5\n"
          ]
        }
      ]
    },
    {
      "cell_type": "markdown",
      "source": [
        "22. Find the minimum value in a tuple."
      ],
      "metadata": {
        "id": "oaGbHzKCARNb"
      }
    },
    {
      "cell_type": "code",
      "source": [
        "\n",
        "\n",
        "#22. Find the minimum value in a tuple.\n",
        "\n",
        "\n",
        "print(min(t))"
      ],
      "metadata": {
        "id": "uX_s7VK7Q5Gj",
        "colab": {
          "base_uri": "https://localhost:8080/"
        },
        "outputId": "b743e0e4-cd09-4f81-f961-9f4af9b43d1b"
      },
      "execution_count": 94,
      "outputs": [
        {
          "output_type": "stream",
          "name": "stdout",
          "text": [
            "1\n"
          ]
        }
      ]
    },
    {
      "cell_type": "markdown",
      "source": [
        "22.Convert a string to a tuple of characters."
      ],
      "metadata": {
        "id": "BEPaL_ywASGB"
      }
    },
    {
      "cell_type": "code",
      "source": [
        "\n",
        "\n",
        "#23. Convert a string to a tuple of characters.\n",
        "\n",
        "\n",
        "string='Hello'\n",
        "l=[]\n",
        "for i in string:\n",
        "    l.append(i)\n",
        "\n",
        "print(tuple(l))"
      ],
      "metadata": {
        "id": "7s15fnVTQ8Kk",
        "colab": {
          "base_uri": "https://localhost:8080/"
        },
        "outputId": "0a336634-7b14-45aa-c4f9-c876f80673c2"
      },
      "execution_count": 95,
      "outputs": [
        {
          "output_type": "stream",
          "name": "stdout",
          "text": [
            "('H', 'e', 'l', 'l', 'o')\n"
          ]
        }
      ]
    },
    {
      "cell_type": "markdown",
      "source": [
        "24. Convert a tulle of characters to a string."
      ],
      "metadata": {
        "id": "wipKqBO6AS_G"
      }
    },
    {
      "cell_type": "code",
      "source": [
        "\n",
        "#24. Convert a tuple of characters to a string.\n",
        "\n",
        "\n",
        "string=''\n",
        "t=('s','r','a','c')\n",
        "for i in t:\n",
        "    string+=i\n",
        "print(string)"
      ],
      "metadata": {
        "id": "zEpvCs14Q_r3",
        "colab": {
          "base_uri": "https://localhost:8080/"
        },
        "outputId": "473e8d4d-28f8-4226-ea96-18a7e1ad0243"
      },
      "execution_count": 96,
      "outputs": [
        {
          "output_type": "stream",
          "name": "stdout",
          "text": [
            "srac\n"
          ]
        }
      ]
    },
    {
      "cell_type": "markdown",
      "source": [
        "25. Create a tuple from multiple data types."
      ],
      "metadata": {
        "id": "O8DXGIkLAT0b"
      }
    },
    {
      "cell_type": "code",
      "source": [
        "\n",
        "\n",
        "#25. Create a tuple from multiple data types.\n",
        "\n",
        "\n",
        "t=(1,'string',True,3.142)\n",
        "t"
      ],
      "metadata": {
        "id": "61RIom3yRCsm",
        "colab": {
          "base_uri": "https://localhost:8080/"
        },
        "outputId": "7b014e0d-c87c-491d-9310-94299869dbea"
      },
      "execution_count": 97,
      "outputs": [
        {
          "output_type": "execute_result",
          "data": {
            "text/plain": [
              "(1, 'string', True, 3.142)"
            ]
          },
          "metadata": {},
          "execution_count": 97
        }
      ]
    },
    {
      "cell_type": "markdown",
      "source": [
        "26. Check if two tuples are identical"
      ],
      "metadata": {
        "id": "jJuQj8IhAUxI"
      }
    },
    {
      "cell_type": "code",
      "source": [
        "\n",
        "\n",
        "#26. Check if two tuples are identical.\n",
        "tuple1=(1,2,3,4)\n",
        "tuple2=(5,6,7,8)\n",
        "\n",
        "a=0\n",
        "for i in tuple1:\n",
        "   a+=1\n",
        "b=0\n",
        "for j in tuple2:\n",
        "   b+=1\n",
        "\n",
        "if a==b:\n",
        "   print('Both tuple are identical')\n",
        "else:\n",
        "   print('Tuple are not identical')"
      ],
      "metadata": {
        "id": "TuW3dIjORGaU",
        "colab": {
          "base_uri": "https://localhost:8080/"
        },
        "outputId": "d1f21a78-8e6c-4c36-9c64-4ace87d9f0ad"
      },
      "execution_count": 98,
      "outputs": [
        {
          "output_type": "stream",
          "name": "stdout",
          "text": [
            "Both tuple are identical\n"
          ]
        }
      ]
    },
    {
      "cell_type": "markdown",
      "source": [
        "27. Sort the elements of a tuple."
      ],
      "metadata": {
        "id": "imC3W0fpAVmn"
      }
    },
    {
      "cell_type": "code",
      "source": [
        "\n",
        "#27. Sort the elements of a tuple.\n",
        "\n",
        "t=(1,2,3,4)\n",
        "print(sorted(t))"
      ],
      "metadata": {
        "id": "TXcTp4hyRK3k",
        "colab": {
          "base_uri": "https://localhost:8080/"
        },
        "outputId": "2e18f39f-d82d-4e5c-aa1c-cb93c94c6cad"
      },
      "execution_count": 99,
      "outputs": [
        {
          "output_type": "stream",
          "name": "stdout",
          "text": [
            "[1, 2, 3, 4]\n"
          ]
        }
      ]
    },
    {
      "cell_type": "markdown",
      "source": [
        "28.Convert a tuple of integers to a tuple of strings."
      ],
      "metadata": {
        "id": "02oI31l3AWYV"
      }
    },
    {
      "cell_type": "code",
      "source": [
        "\n",
        "#28. Convert a tuple of integers to a tuple of strings.\n",
        "\n",
        "\n",
        "t=(1,2,3,4)\n",
        "tuple2=str(t)\n",
        "print(type(tuple2))"
      ],
      "metadata": {
        "id": "JgL9cvPORN4s",
        "colab": {
          "base_uri": "https://localhost:8080/"
        },
        "outputId": "36982cbc-346b-4b81-f008-17613252f570"
      },
      "execution_count": 100,
      "outputs": [
        {
          "output_type": "stream",
          "name": "stdout",
          "text": [
            "<class 'str'>\n"
          ]
        }
      ]
    },
    {
      "cell_type": "markdown",
      "source": [
        "29. Convert a tuple of strings to a tuple of integers"
      ],
      "metadata": {
        "id": "it6G2dSSEzTZ"
      }
    },
    {
      "cell_type": "code",
      "source": [
        "\n",
        "#29. Convert a tuple of strings to a tuple of integers.\n",
        "t=('1','2','3','4','5')\n",
        "t2=[]\n",
        "for i in t:\n",
        "  t2.append(int(i))\n",
        "t=tuple(t2)\n",
        "\n",
        "t"
      ],
      "metadata": {
        "id": "FKgVV1agRRjR",
        "colab": {
          "base_uri": "https://localhost:8080/"
        },
        "outputId": "eeec2aa4-ecd8-4d0e-de98-03a3d3472ea6"
      },
      "execution_count": 101,
      "outputs": [
        {
          "output_type": "execute_result",
          "data": {
            "text/plain": [
              "(1, 2, 3, 4, 5)"
            ]
          },
          "metadata": {},
          "execution_count": 101
        }
      ]
    },
    {
      "cell_type": "markdown",
      "source": [
        "30. Merge two tuples."
      ],
      "metadata": {
        "id": "3YFbTgo5AXke"
      }
    },
    {
      "cell_type": "code",
      "source": [
        "\n",
        "\n",
        "#30. Merge two tuples.\n",
        "\n",
        "tuple1=(1,2,3,4)\n",
        "tuple2=(5,6,7,8)\n",
        "\n",
        "print(tuple1+tuple2)"
      ],
      "metadata": {
        "id": "ERgnl8KQRUlt",
        "colab": {
          "base_uri": "https://localhost:8080/"
        },
        "outputId": "2770a06f-83b1-41cc-ead8-b0263b885729"
      },
      "execution_count": 102,
      "outputs": [
        {
          "output_type": "stream",
          "name": "stdout",
          "text": [
            "(1, 2, 3, 4, 5, 6, 7, 8)\n"
          ]
        }
      ]
    },
    {
      "cell_type": "markdown",
      "source": [
        "31. Flatten a nested tuple."
      ],
      "metadata": {
        "id": "16GZ4nzxAYez"
      }
    },
    {
      "cell_type": "code",
      "source": [
        "\n",
        "#31. Flatten a nested tuple.\n",
        "\n",
        "\n",
        "tuple1=((1,2,3,4),(5,6,7,8),(9,10,11,12))\n",
        "\n",
        "l=[]\n",
        "for i in tuple1:\n",
        "    for j in i:\n",
        "        l.append(j)\n",
        "print(tuple(l))"
      ],
      "metadata": {
        "id": "3l4LJHVWRXdd",
        "colab": {
          "base_uri": "https://localhost:8080/"
        },
        "outputId": "f07fd7d9-fb3b-4480-ea04-25b28c3f9ddf"
      },
      "execution_count": 103,
      "outputs": [
        {
          "output_type": "stream",
          "name": "stdout",
          "text": [
            "(1, 2, 3, 4, 5, 6, 7, 8, 9, 10, 11, 12)\n"
          ]
        }
      ]
    },
    {
      "cell_type": "markdown",
      "source": [
        "32. Create a tuple of the first 5  prime numbers."
      ],
      "metadata": {
        "id": "X9qwyMBJAZhx"
      }
    },
    {
      "cell_type": "code",
      "source": [
        "\n",
        "#32. Create a tuple of the first 5 prime numbers.\n",
        "\n",
        "\n",
        "primes=(1,3,5,7,11)\n",
        "primes"
      ],
      "metadata": {
        "id": "M109NGwaRa3t",
        "colab": {
          "base_uri": "https://localhost:8080/"
        },
        "outputId": "a7fed291-a102-43bd-d515-3cc08fbcf1d9"
      },
      "execution_count": 104,
      "outputs": [
        {
          "output_type": "execute_result",
          "data": {
            "text/plain": [
              "(1, 3, 5, 7, 11)"
            ]
          },
          "metadata": {},
          "execution_count": 104
        }
      ]
    },
    {
      "cell_type": "markdown",
      "source": [
        "33. Check if a tuple is a palindrome."
      ],
      "metadata": {
        "id": "RleRApylAaTu"
      }
    },
    {
      "cell_type": "code",
      "source": [
        "\n",
        "\n",
        "#33. Check if a tuple is a palindrome.\n",
        "\n",
        "\n",
        "tuple1=(1,2,3,2,1)\n",
        "\n",
        "if tuple1[::-1]==tuple1[0::]:\n",
        "    print('Tuple is palindrome')\n",
        "else:\n",
        "    print('Tuple is not palindrome')"
      ],
      "metadata": {
        "id": "GfgpTG16ReFB",
        "colab": {
          "base_uri": "https://localhost:8080/"
        },
        "outputId": "5aef0c67-3918-4093-e050-176da3b6413b"
      },
      "execution_count": 105,
      "outputs": [
        {
          "output_type": "stream",
          "name": "stdout",
          "text": [
            "Tuple is palindrome\n"
          ]
        }
      ]
    },
    {
      "cell_type": "markdown",
      "source": [
        "34.Create a tuple of squares of numbers from 1 to 5."
      ],
      "metadata": {
        "id": "aC96it2ZAbFO"
      }
    },
    {
      "cell_type": "code",
      "source": [
        "\n",
        "#34. Create a tuple of squares of numbers from 1 to 5.\n",
        "\n",
        "squares=(1,4,9,16,25)\n",
        "squares"
      ],
      "metadata": {
        "id": "1I4NWEhZRjG9",
        "colab": {
          "base_uri": "https://localhost:8080/"
        },
        "outputId": "a44524e1-e466-4846-d0b5-0e7ab638d7c5"
      },
      "execution_count": 106,
      "outputs": [
        {
          "output_type": "execute_result",
          "data": {
            "text/plain": [
              "(1, 4, 9, 16, 25)"
            ]
          },
          "metadata": {},
          "execution_count": 106
        }
      ]
    },
    {
      "cell_type": "markdown",
      "source": [
        "35. Filter out all even numbers from a tuple."
      ],
      "metadata": {
        "id": "4f9EkIFIAb1j"
      }
    },
    {
      "cell_type": "code",
      "source": [
        "\n",
        "#35. Filter out all even numbers from a tuple.\n",
        "\n",
        "\n",
        "t=(1,2,3,2,1,4,6,8)\n",
        "l=[]\n",
        "for i in t:\n",
        "    if i%2==0:\n",
        "        l.append(i)\n",
        "tuple(set(l))"
      ],
      "metadata": {
        "id": "1wrWPb2YRmkt",
        "colab": {
          "base_uri": "https://localhost:8080/"
        },
        "outputId": "e94bc2ce-19f4-4f7f-c043-bef78d334ed4"
      },
      "execution_count": 107,
      "outputs": [
        {
          "output_type": "execute_result",
          "data": {
            "text/plain": [
              "(8, 2, 4, 6)"
            ]
          },
          "metadata": {},
          "execution_count": 107
        }
      ]
    },
    {
      "cell_type": "markdown",
      "source": [
        "36. Multiply all elements in a tuple by 2."
      ],
      "metadata": {
        "id": "pxg65rw1AcrY"
      }
    },
    {
      "cell_type": "code",
      "source": [
        "\n",
        "\n",
        "#36. Multiply all elements in a tuple by 2.\n",
        "\n",
        "t=(2,4,6,8)\n",
        "l=[]\n",
        "\n",
        "for i in t:\n",
        "    l.append(i*2)\n",
        "\n",
        "print(l)"
      ],
      "metadata": {
        "id": "jOTiP93zRp8_",
        "colab": {
          "base_uri": "https://localhost:8080/"
        },
        "outputId": "a3bcbdc9-d06d-496a-fad6-e2b6e35aacf0"
      },
      "execution_count": 108,
      "outputs": [
        {
          "output_type": "stream",
          "name": "stdout",
          "text": [
            "[4, 8, 12, 16]\n"
          ]
        }
      ]
    },
    {
      "cell_type": "markdown",
      "source": [
        "37. Create a tuple of random numbers."
      ],
      "metadata": {
        "id": "Z2dGXigxAddU"
      }
    },
    {
      "cell_type": "code",
      "source": [
        "\n",
        "\n",
        "#37Create a tuple of random numbers.\n",
        "\n",
        "import random\n",
        "l=[]\n",
        "for i in range(1,10):\n",
        "   l.append(random.randint(1,20))\n",
        "tuple(l)"
      ],
      "metadata": {
        "id": "qSuJmmrLRvFe",
        "colab": {
          "base_uri": "https://localhost:8080/"
        },
        "outputId": "831c8989-5306-4908-d1a6-68e77a9ff988"
      },
      "execution_count": 109,
      "outputs": [
        {
          "output_type": "execute_result",
          "data": {
            "text/plain": [
              "(13, 17, 10, 5, 3, 8, 17, 18, 20)"
            ]
          },
          "metadata": {},
          "execution_count": 109
        }
      ]
    },
    {
      "cell_type": "markdown",
      "source": [
        "38. Check if a tuple is sorted."
      ],
      "metadata": {
        "id": "6Y_439KEAeMc"
      }
    },
    {
      "cell_type": "code",
      "source": [
        "\n",
        "#38. Check if a tuple is sorted.\n",
        "\n",
        "t=(1,2,3,4,5)\n",
        "var=0\n",
        "count=0\n",
        "for i in t:\n",
        "    if var<i:\n",
        "        var=i\n",
        "        count+=1\n",
        "    else:\n",
        "        count*=0\n",
        "\n",
        "if count !=0:\n",
        "    print('Tuple is sorted')\n",
        "else:\n",
        "    print('Tuple is not sorted')"
      ],
      "metadata": {
        "id": "57WBtFHTRytr",
        "colab": {
          "base_uri": "https://localhost:8080/"
        },
        "outputId": "4ccc0a19-c011-4132-d929-6b75e1b56875"
      },
      "execution_count": 110,
      "outputs": [
        {
          "output_type": "stream",
          "name": "stdout",
          "text": [
            "Tuple is sorted\n"
          ]
        }
      ]
    },
    {
      "cell_type": "markdown",
      "source": [
        "39. Rotate a tuple to the left by n position."
      ],
      "metadata": {
        "id": "8KcghrxdAe8O"
      }
    },
    {
      "cell_type": "code",
      "source": [
        "\n",
        "#39. Rotate a tuple to the left by `n` positions.\n",
        "\n",
        "tuple1 =(1,2,3,4)\n",
        "\n",
        "n=2\n",
        "if n<=len(tuple1):\n",
        "    print(list(tuple1[n:])+list(tuple1[:n]))\n",
        "else:\n",
        "    print('Enter number within 0 and 4')"
      ],
      "metadata": {
        "id": "ekEtMeGvR4VY",
        "colab": {
          "base_uri": "https://localhost:8080/",
          "height": 246
        },
        "outputId": "e32c35b8-6722-4ec3-d4e2-e4244aae7b12"
      },
      "execution_count": 111,
      "outputs": [
        {
          "output_type": "error",
          "ename": "TypeError",
          "evalue": "ignored",
          "traceback": [
            "\u001b[0;31m---------------------------------------------------------------------------\u001b[0m",
            "\u001b[0;31mTypeError\u001b[0m                                 Traceback (most recent call last)",
            "\u001b[0;32m<ipython-input-111-e0c004339190>\u001b[0m in \u001b[0;36m<cell line: 6>\u001b[0;34m()\u001b[0m\n\u001b[1;32m      4\u001b[0m \u001b[0;34m\u001b[0m\u001b[0m\n\u001b[1;32m      5\u001b[0m \u001b[0mn\u001b[0m\u001b[0;34m=\u001b[0m\u001b[0;36m2\u001b[0m\u001b[0;34m\u001b[0m\u001b[0;34m\u001b[0m\u001b[0m\n\u001b[0;32m----> 6\u001b[0;31m \u001b[0;32mif\u001b[0m \u001b[0mn\u001b[0m\u001b[0;34m<=\u001b[0m\u001b[0mlen\u001b[0m\u001b[0;34m(\u001b[0m\u001b[0mtuple1\u001b[0m\u001b[0;34m)\u001b[0m\u001b[0;34m:\u001b[0m\u001b[0;34m\u001b[0m\u001b[0;34m\u001b[0m\u001b[0m\n\u001b[0m\u001b[1;32m      7\u001b[0m     \u001b[0mprint\u001b[0m\u001b[0;34m(\u001b[0m\u001b[0mlist\u001b[0m\u001b[0;34m(\u001b[0m\u001b[0mtuple1\u001b[0m\u001b[0;34m[\u001b[0m\u001b[0mn\u001b[0m\u001b[0;34m:\u001b[0m\u001b[0;34m]\u001b[0m\u001b[0;34m)\u001b[0m\u001b[0;34m+\u001b[0m\u001b[0mlist\u001b[0m\u001b[0;34m(\u001b[0m\u001b[0mtuple1\u001b[0m\u001b[0;34m[\u001b[0m\u001b[0;34m:\u001b[0m\u001b[0mn\u001b[0m\u001b[0;34m]\u001b[0m\u001b[0;34m)\u001b[0m\u001b[0;34m)\u001b[0m\u001b[0;34m\u001b[0m\u001b[0;34m\u001b[0m\u001b[0m\n\u001b[1;32m      8\u001b[0m \u001b[0;32melse\u001b[0m\u001b[0;34m:\u001b[0m\u001b[0;34m\u001b[0m\u001b[0;34m\u001b[0m\u001b[0m\n",
            "\u001b[0;31mTypeError\u001b[0m: 'int' object is not callable"
          ]
        }
      ]
    },
    {
      "cell_type": "markdown",
      "source": [
        "40. Rotate a tuple to the right by n positions."
      ],
      "metadata": {
        "id": "V4MGdtkCAfrU"
      }
    },
    {
      "cell_type": "code",
      "source": [
        "\n",
        "\n",
        "#40. Rotate a tuple to the right by `n` positions.\n",
        "\n",
        "tuple1 =(1,2,3,4)\n",
        "\n",
        "n=int(input('enter a number'))\n",
        "if n<=len(tuple1):\n",
        "    print(tuple1[:n]+tuple1[n:])\n",
        "else:\n",
        "    print('Enter number within 0 and 4')"
      ],
      "metadata": {
        "id": "zjGAcnB9R75C",
        "colab": {
          "base_uri": "https://localhost:8080/",
          "height": 264
        },
        "outputId": "9263258a-f923-4317-8ca7-8fd7c3659c2e"
      },
      "execution_count": 113,
      "outputs": [
        {
          "name": "stdout",
          "output_type": "stream",
          "text": [
            "enter a number2\n"
          ]
        },
        {
          "output_type": "error",
          "ename": "TypeError",
          "evalue": "ignored",
          "traceback": [
            "\u001b[0;31m---------------------------------------------------------------------------\u001b[0m",
            "\u001b[0;31mTypeError\u001b[0m                                 Traceback (most recent call last)",
            "\u001b[0;32m<ipython-input-113-aeed887bca58>\u001b[0m in \u001b[0;36m<cell line: 6>\u001b[0;34m()\u001b[0m\n\u001b[1;32m      4\u001b[0m \u001b[0;34m\u001b[0m\u001b[0m\n\u001b[1;32m      5\u001b[0m \u001b[0mn\u001b[0m\u001b[0;34m=\u001b[0m\u001b[0mint\u001b[0m\u001b[0;34m(\u001b[0m\u001b[0minput\u001b[0m\u001b[0;34m(\u001b[0m\u001b[0;34m'enter a number'\u001b[0m\u001b[0;34m)\u001b[0m\u001b[0;34m)\u001b[0m\u001b[0;34m\u001b[0m\u001b[0;34m\u001b[0m\u001b[0m\n\u001b[0;32m----> 6\u001b[0;31m \u001b[0;32mif\u001b[0m \u001b[0mn\u001b[0m\u001b[0;34m<=\u001b[0m\u001b[0mlen\u001b[0m\u001b[0;34m(\u001b[0m\u001b[0mtuple1\u001b[0m\u001b[0;34m)\u001b[0m\u001b[0;34m:\u001b[0m\u001b[0;34m\u001b[0m\u001b[0;34m\u001b[0m\u001b[0m\n\u001b[0m\u001b[1;32m      7\u001b[0m     \u001b[0mprint\u001b[0m\u001b[0;34m(\u001b[0m\u001b[0mtuple1\u001b[0m\u001b[0;34m[\u001b[0m\u001b[0;34m:\u001b[0m\u001b[0mn\u001b[0m\u001b[0;34m]\u001b[0m\u001b[0;34m+\u001b[0m\u001b[0mtuple1\u001b[0m\u001b[0;34m[\u001b[0m\u001b[0mn\u001b[0m\u001b[0;34m:\u001b[0m\u001b[0;34m]\u001b[0m\u001b[0;34m)\u001b[0m\u001b[0;34m\u001b[0m\u001b[0;34m\u001b[0m\u001b[0m\n\u001b[1;32m      8\u001b[0m \u001b[0;32melse\u001b[0m\u001b[0;34m:\u001b[0m\u001b[0;34m\u001b[0m\u001b[0;34m\u001b[0m\u001b[0m\n",
            "\u001b[0;31mTypeError\u001b[0m: 'int' object is not callable"
          ]
        }
      ]
    },
    {
      "cell_type": "markdown",
      "source": [
        "41. Create a tuole of the first 5 Fibonacci numbers."
      ],
      "metadata": {
        "id": "Qx_2lar5AgbM"
      }
    },
    {
      "cell_type": "code",
      "source": [
        "\n",
        "\n",
        "#41. Create a tuple of the first 5 Fibonacci numbers."
      ],
      "metadata": {
        "id": "CW4ZiuaGSAEQ"
      },
      "execution_count": null,
      "outputs": []
    },
    {
      "cell_type": "markdown",
      "source": [
        "42.Create a tuple from user input."
      ],
      "metadata": {
        "id": "PKX-2a0rAhVy"
      }
    },
    {
      "cell_type": "code",
      "source": [
        "\n",
        "#42. Create a tuple from user input.\n",
        "\n",
        "\n",
        "tuple1=[]\n",
        "\n",
        "for i in range(5):\n",
        "    n=int(input('enter a number'))\n",
        "    tuple1.append(n)\n",
        "\n",
        "print(tuple(tuple1))"
      ],
      "metadata": {
        "id": "UcnvSp1ySDAu",
        "colab": {
          "base_uri": "https://localhost:8080/"
        },
        "outputId": "811fb742-4eb9-4b5c-f154-8c5690540ca6"
      },
      "execution_count": 114,
      "outputs": [
        {
          "output_type": "stream",
          "name": "stdout",
          "text": [
            "enter a number10\n",
            "enter a number1\n",
            "enter a number2\n",
            "enter a number3\n",
            "enter a number4\n",
            "(10, 1, 2, 3, 4)\n"
          ]
        }
      ]
    },
    {
      "cell_type": "markdown",
      "source": [
        "43. Swap two elements in a tuple"
      ],
      "metadata": {
        "id": "7p7XAdtsAh_g"
      }
    },
    {
      "cell_type": "code",
      "source": [
        "\n",
        "#43. Swap two elements in a tuple.\n",
        "\n",
        "tuple1 =(1,2,3,4)\n",
        "\n",
        "a=list(tuple1)\n",
        "print(a)\n",
        "b=a[0]\n",
        "a[0]=a[3]\n",
        "a[3]=b\n",
        "\n",
        "print('Tuple after swaping',tuple(a))"
      ],
      "metadata": {
        "id": "MgCkvxAJSGMl",
        "colab": {
          "base_uri": "https://localhost:8080/"
        },
        "outputId": "5746c2ff-acf0-49f1-c917-fefc21ec39ba"
      },
      "execution_count": 115,
      "outputs": [
        {
          "output_type": "stream",
          "name": "stdout",
          "text": [
            "[1, 2, 3, 4]\n",
            "Tuple after swaping (4, 2, 3, 1)\n"
          ]
        }
      ]
    },
    {
      "cell_type": "markdown",
      "source": [
        "44. Reverse the elements of a tuple."
      ],
      "metadata": {
        "id": "cdN9fMBzAipj"
      }
    },
    {
      "cell_type": "code",
      "source": [
        "\n",
        "#44. Reverse the elements of a tuple.\n",
        "\n",
        "t=(1,2,3,4)\n",
        "print(t[::-1])"
      ],
      "metadata": {
        "id": "zcsDHJ8LSJaW",
        "colab": {
          "base_uri": "https://localhost:8080/"
        },
        "outputId": "d29af674-f945-47b8-c42f-0110942bb6c3"
      },
      "execution_count": 116,
      "outputs": [
        {
          "output_type": "stream",
          "name": "stdout",
          "text": [
            "(4, 3, 2, 1)\n"
          ]
        }
      ]
    },
    {
      "cell_type": "markdown",
      "source": [
        "45.Create a tuole of the first n power of 2."
      ],
      "metadata": {
        "id": "UFoOdak2AjXN"
      }
    },
    {
      "cell_type": "code",
      "source": [
        "\n",
        "#45. Create a tuple of the first `n` powers of 2.\n",
        "\n",
        "\n",
        "tuple1=[]\n",
        "\n",
        "n=int(input('enter a number'))\n",
        "for i in range(1,n):\n",
        "    tuple1.append(i**2)\n",
        "\n",
        "print(tuple(tuple1))"
      ],
      "metadata": {
        "id": "uwfHY7y1SMG8",
        "colab": {
          "base_uri": "https://localhost:8080/"
        },
        "outputId": "9faf64a9-e565-40ac-8eaa-82744740aa75"
      },
      "execution_count": 117,
      "outputs": [
        {
          "output_type": "stream",
          "name": "stdout",
          "text": [
            "enter a number10\n",
            "(1, 4, 9, 16, 25, 36, 49, 64, 81)\n"
          ]
        }
      ]
    },
    {
      "cell_type": "markdown",
      "source": [
        "46.Find the longest string in a tuple of strings."
      ],
      "metadata": {
        "id": "PPQAmGSLAkCo"
      }
    },
    {
      "cell_type": "code",
      "source": [
        "\n",
        "\n",
        "#46. Find the longest string in a tuple of strings.\n",
        "\n",
        "\n",
        "tuple1=('hii','hiii','hiiiiii')\n",
        "print(max(tuple1))"
      ],
      "metadata": {
        "id": "vq6kT9i1SQGM",
        "colab": {
          "base_uri": "https://localhost:8080/"
        },
        "outputId": "8df8e887-8841-4d91-d1c8-25d04314181d"
      },
      "execution_count": 118,
      "outputs": [
        {
          "output_type": "stream",
          "name": "stdout",
          "text": [
            "hiiiiii\n"
          ]
        }
      ]
    },
    {
      "cell_type": "markdown",
      "source": [
        "47. Find the shortest string in a tuple if strings."
      ],
      "metadata": {
        "id": "UQixnI-3Aky2"
      }
    },
    {
      "cell_type": "code",
      "source": [
        "\n",
        "#47. Find the shortest string in a tuple of strings.\n",
        "\n",
        "\n",
        "tuple1=('hii','hiii','hiiiiii')\n",
        "print(min(tuple1))"
      ],
      "metadata": {
        "id": "KV9b8Pf3STex",
        "colab": {
          "base_uri": "https://localhost:8080/"
        },
        "outputId": "9e93d473-221c-4989-9f1c-3d12d1290160"
      },
      "execution_count": 119,
      "outputs": [
        {
          "output_type": "stream",
          "name": "stdout",
          "text": [
            "hii\n"
          ]
        }
      ]
    },
    {
      "cell_type": "markdown",
      "source": [
        "48. Create a tuple of the first n triangular numbers."
      ],
      "metadata": {
        "id": "ZO0tWba7Alh2"
      }
    },
    {
      "cell_type": "code",
      "source": [
        "\n",
        "#48. Create a tuple of the first `n` triangular numbers.\n",
        "\n",
        "\n",
        "n=int(input('enter a number'))\n",
        "tringular=0\n",
        "l=[]\n",
        "\n",
        "for i in range(1,n+1):\n",
        "    l.append(tringular)\n",
        "    tringular+=i\n",
        "print('First', n ,'tringular numbers are', tuple(l))"
      ],
      "metadata": {
        "id": "dCYkBo5fSWxo",
        "colab": {
          "base_uri": "https://localhost:8080/"
        },
        "outputId": "57770265-32f1-4b24-9384-4715951b9c6e"
      },
      "execution_count": 120,
      "outputs": [
        {
          "output_type": "stream",
          "name": "stdout",
          "text": [
            "enter a number4\n",
            "First 4 tringular numbers are (0, 1, 3, 6)\n"
          ]
        }
      ]
    },
    {
      "cell_type": "markdown",
      "source": [
        "49. Check if a tuple contains another tuple as a subsequence."
      ],
      "metadata": {
        "id": "WWyS2ynaAmPe"
      }
    },
    {
      "cell_type": "code",
      "source": [
        "\n",
        "#49. Check if a tuple contains another tuple as a subsequence.\n",
        "\n",
        "tuple1=(1,(2,3,4,5),6)\n",
        "subtuple=(2,3,4,5)\n",
        "\n",
        "if subtuple in tuple1:\n",
        "    print('subtuple is present')\n",
        "else:\n",
        "    print('subtuple is not present')"
      ],
      "metadata": {
        "id": "LPK2gGZhScR-",
        "colab": {
          "base_uri": "https://localhost:8080/"
        },
        "outputId": "319dd9c0-fa14-440c-d99c-82356018fbe8"
      },
      "execution_count": 121,
      "outputs": [
        {
          "output_type": "stream",
          "name": "stdout",
          "text": [
            "subtuple is present\n"
          ]
        }
      ]
    },
    {
      "cell_type": "markdown",
      "source": [
        "50. Create a tuple of alternating 1s and 0s of length n."
      ],
      "metadata": {
        "id": "GzjufKdMAm8j"
      }
    },
    {
      "cell_type": "code",
      "source": [
        "\n",
        "\n",
        "#50. Create a tuple of alternating 1s and 0s of length `n`.\n",
        "\n",
        "tuple1=[]\n",
        "len=int(input('enter a length'))\n",
        "\n",
        "for i in range(len):\n",
        "    if i%2==0:\n",
        "        tuple1.append(0)\n",
        "    else:\n",
        "        tuple1.append(1)\n",
        "\n",
        "print(tuple(tuple1))"
      ],
      "metadata": {
        "id": "9VBtcfdgSfhd",
        "colab": {
          "base_uri": "https://localhost:8080/"
        },
        "outputId": "0af18330-1146-4f9e-b38f-14205238ad4b"
      },
      "execution_count": 122,
      "outputs": [
        {
          "output_type": "stream",
          "name": "stdout",
          "text": [
            "enter a length10\n",
            "(0, 1, 0, 1, 0, 1, 0, 1, 0, 1)\n"
          ]
        }
      ]
    },
    {
      "cell_type": "markdown",
      "source": [
        "\n",
        "#sets practice questions"
      ],
      "metadata": {
        "id": "DF0kgOb-SnKs"
      }
    },
    {
      "cell_type": "markdown",
      "source": [
        "1.Create a set with Integers from 1 to 5."
      ],
      "metadata": {
        "id": "R41qS09qAnri"
      }
    },
    {
      "cell_type": "code",
      "source": [
        "\n",
        "#1. Create a set with integers from 1 to 5.\n",
        "\n",
        "sets={1,2,3,4,5}\n",
        "print(sets)"
      ],
      "metadata": {
        "id": "VDWsY-e7SpBl",
        "colab": {
          "base_uri": "https://localhost:8080/"
        },
        "outputId": "61ce0d5a-2fa9-4e3b-9848-b5e36288e33b"
      },
      "execution_count": 123,
      "outputs": [
        {
          "output_type": "stream",
          "name": "stdout",
          "text": [
            "{1, 2, 3, 4, 5}\n"
          ]
        }
      ]
    },
    {
      "cell_type": "markdown",
      "source": [
        "2. Add an element to a set."
      ],
      "metadata": {
        "id": "kJnCGYOgApHZ"
      }
    },
    {
      "cell_type": "code",
      "source": [
        "\n",
        "#2. Add an element to a set.\n",
        "\n",
        "sets={1,2,3,4,5}\n",
        "\n",
        "sets.add(6)\n",
        "print(sets)"
      ],
      "metadata": {
        "id": "K1sCcNHdSsRY",
        "colab": {
          "base_uri": "https://localhost:8080/"
        },
        "outputId": "c4dc1495-0aab-4155-8498-d2aca5eda4bf"
      },
      "execution_count": 124,
      "outputs": [
        {
          "output_type": "stream",
          "name": "stdout",
          "text": [
            "{1, 2, 3, 4, 5, 6}\n"
          ]
        }
      ]
    },
    {
      "cell_type": "markdown",
      "source": [
        "3. Remove an element from a set."
      ],
      "metadata": {
        "id": "-FW_INMKAp25"
      }
    },
    {
      "cell_type": "code",
      "source": [
        "\n",
        "#3. Remove an element from a set.\n",
        "\n",
        "sets={1,2,3,4,5}\n",
        "sets.remove(5)\n",
        "print(sets)"
      ],
      "metadata": {
        "id": "kSu7f54rSw3b",
        "colab": {
          "base_uri": "https://localhost:8080/"
        },
        "outputId": "5fcd5ba0-cbec-406f-d7cc-437ac38bf685"
      },
      "execution_count": 125,
      "outputs": [
        {
          "output_type": "stream",
          "name": "stdout",
          "text": [
            "{1, 2, 3, 4}\n"
          ]
        }
      ]
    },
    {
      "cell_type": "markdown",
      "source": [
        "4. Check if an element exists in a set."
      ],
      "metadata": {
        "id": "A0bYNR6nAqqj"
      }
    },
    {
      "cell_type": "code",
      "source": [
        "\n",
        "#4. Check if an element exists in a set.\n",
        "\n",
        "sets={1,2,3,4,5}\n",
        "n=int(input('Enter a number to check'))\n",
        "if n in sets:\n",
        "    print(n,' Is in set')\n",
        "else:\n",
        "    print(n, 'is not in set')"
      ],
      "metadata": {
        "id": "stoverRbS02m",
        "colab": {
          "base_uri": "https://localhost:8080/"
        },
        "outputId": "a51a001e-b2a7-464a-bfb3-89764d9e7446"
      },
      "execution_count": 126,
      "outputs": [
        {
          "output_type": "stream",
          "name": "stdout",
          "text": [
            "Enter a number to check4\n",
            "4  Is in set\n"
          ]
        }
      ]
    },
    {
      "cell_type": "markdown",
      "source": [
        "5. Find the length if a set without using the len() function."
      ],
      "metadata": {
        "id": "1XzUYce-Arbb"
      }
    },
    {
      "cell_type": "code",
      "source": [
        "\n",
        "#5. Find the length of a set without using the `len()` function.\n",
        "\n",
        "sets={1,2,3,4,5}\n",
        "len=0\n",
        "for i in sets:\n",
        "    len+=1\n",
        "print('The length of set is ',len)"
      ],
      "metadata": {
        "id": "b-_sBFDHS5IF",
        "colab": {
          "base_uri": "https://localhost:8080/"
        },
        "outputId": "3987408c-2e06-4bee-83e4-06734321a096"
      },
      "execution_count": 127,
      "outputs": [
        {
          "output_type": "stream",
          "name": "stdout",
          "text": [
            "The length of set is  5\n"
          ]
        }
      ]
    },
    {
      "cell_type": "markdown",
      "source": [
        "6. clear all elements from a set."
      ],
      "metadata": {
        "id": "yXXH204WAsiZ"
      }
    },
    {
      "cell_type": "code",
      "source": [
        "\n",
        "\n",
        "#6. Clear all elements from a set.\n",
        "\n",
        "sets={1,2,3,4,5}\n",
        "\n",
        "for i in list(sets):\n",
        "    sets.pop()\n",
        "print(sets)"
      ],
      "metadata": {
        "id": "b8U27QNeS9tp",
        "colab": {
          "base_uri": "https://localhost:8080/"
        },
        "outputId": "9b31e67b-26c9-4bd6-b0fa-9b7835f3ba97"
      },
      "execution_count": 128,
      "outputs": [
        {
          "output_type": "stream",
          "name": "stdout",
          "text": [
            "set()\n"
          ]
        }
      ]
    },
    {
      "cell_type": "markdown",
      "source": [
        "7. Create a set of even numbers from 1 to 10."
      ],
      "metadata": {
        "id": "zUQd_DqEAtO8"
      }
    },
    {
      "cell_type": "code",
      "source": [
        "\n",
        "#7. Create a set of even numbers from 1 to 10\n",
        "\n",
        "evens={2}\n",
        "\n",
        "for i in range(1,11):\n",
        "    if i %2==0:\n",
        "        evens.add(i)\n",
        "print(evens)"
      ],
      "metadata": {
        "id": "PSR_jci0TBO4",
        "colab": {
          "base_uri": "https://localhost:8080/"
        },
        "outputId": "12aa5d2d-1ecf-46e6-a150-2f6d3799c1c5"
      },
      "execution_count": 129,
      "outputs": [
        {
          "output_type": "stream",
          "name": "stdout",
          "text": [
            "{2, 4, 6, 8, 10}\n"
          ]
        }
      ]
    },
    {
      "cell_type": "markdown",
      "source": [
        "8.Create a set of odd numbers from 1 to 10."
      ],
      "metadata": {
        "id": "jo-G3CWaAuCJ"
      }
    },
    {
      "cell_type": "code",
      "source": [
        "\n",
        "#8. Create a set of odd numbers from 1 to 10.\n",
        "\n",
        "odds={3}\n",
        "for i in range(1,11):\n",
        "    if i %2==0:\n",
        "        pass\n",
        "    else:\n",
        "        odds.add(i)\n",
        "print(odds)"
      ],
      "metadata": {
        "id": "res0kf-7TELf",
        "colab": {
          "base_uri": "https://localhost:8080/"
        },
        "outputId": "70e5662a-5c2e-445d-acd8-cebaeb14c0b0"
      },
      "execution_count": 130,
      "outputs": [
        {
          "output_type": "stream",
          "name": "stdout",
          "text": [
            "{1, 3, 5, 7, 9}\n"
          ]
        }
      ]
    },
    {
      "cell_type": "markdown",
      "source": [
        "9. Find the union if two sets."
      ],
      "metadata": {
        "id": "i6c37kZjAuvU"
      }
    },
    {
      "cell_type": "code",
      "source": [
        "\n",
        "#9. Find the union of two sets.\n",
        "\n",
        "evens={2}\n",
        "odds={3}\n",
        "for i in range(1,11):\n",
        "    if i %2==0:\n",
        "        evens.add(i)\n",
        "    else:\n",
        "        odds.add(i)\n",
        "unions=evens.union(odds)\n",
        "print(unions)"
      ],
      "metadata": {
        "id": "_e45fC9_TH5V",
        "colab": {
          "base_uri": "https://localhost:8080/"
        },
        "outputId": "5cb43f2d-0a9f-47fa-d49a-f7454395568f"
      },
      "execution_count": 131,
      "outputs": [
        {
          "output_type": "stream",
          "name": "stdout",
          "text": [
            "{1, 2, 3, 4, 5, 6, 7, 8, 9, 10}\n"
          ]
        }
      ]
    },
    {
      "cell_type": "markdown",
      "source": [
        "10. Find the intersection of two sets."
      ],
      "metadata": {
        "id": "XopJJUiaAvdu"
      }
    },
    {
      "cell_type": "code",
      "source": [
        "\n",
        "\n",
        "#10. Find the intersection of two sets.\n",
        "\n",
        "set1={1,2,3,4,5}\n",
        "set2={4,5,6,7,8}\n",
        "intersec=set1.intersection(set2)\n",
        "print(intersec)"
      ],
      "metadata": {
        "id": "x7XsYoTJTLNd",
        "colab": {
          "base_uri": "https://localhost:8080/"
        },
        "outputId": "23cad0e6-cd71-4e1e-de74-3304a71ce90f"
      },
      "execution_count": 132,
      "outputs": [
        {
          "output_type": "stream",
          "name": "stdout",
          "text": [
            "{4, 5}\n"
          ]
        }
      ]
    },
    {
      "cell_type": "markdown",
      "source": [
        "11.Find the difference between two sets."
      ],
      "metadata": {
        "id": "O9OujS9HAwVE"
      }
    },
    {
      "cell_type": "code",
      "source": [
        "\n",
        "#11. Find the difference between two sets.\n",
        "\n",
        "set1 = {1, 2, 3, 4, 5}\n",
        "set2 = {4, 5, 6, 7, 8}\n",
        "\n",
        "differ= set1.difference(set2)\n",
        "\n",
        "print(differ)"
      ],
      "metadata": {
        "id": "Z5ufjuUcTP8v",
        "colab": {
          "base_uri": "https://localhost:8080/"
        },
        "outputId": "f1e69dac-d4d9-4aba-d271-e71d4b54b595"
      },
      "execution_count": 133,
      "outputs": [
        {
          "output_type": "stream",
          "name": "stdout",
          "text": [
            "{1, 2, 3}\n"
          ]
        }
      ]
    },
    {
      "cell_type": "markdown",
      "source": [
        "12. Check if a set is a subset of another set."
      ],
      "metadata": {
        "id": "i74C2vNUAxGp"
      }
    },
    {
      "cell_type": "code",
      "source": [
        "\n",
        "#12. Check if a set is a subset of another set.\n",
        "\n",
        "set1={1,2,3,4,5}\n",
        "set2={2,3,5}\n",
        "\n",
        "count=0\n",
        "\n",
        "for i in set2:\n",
        "    if i in set1:\n",
        "        count+=1\n",
        "    else:\n",
        "        count*=0\n",
        "if count!=0:\n",
        "    print(set2, 'is a subset of ', set1)\n",
        "else:\n",
        "    print(set2,' is not a subset of', set1)"
      ],
      "metadata": {
        "id": "NIm8-eAoTTFK",
        "colab": {
          "base_uri": "https://localhost:8080/"
        },
        "outputId": "831c9812-8b95-4ddb-ed2f-998e5eb439c3"
      },
      "execution_count": 134,
      "outputs": [
        {
          "output_type": "stream",
          "name": "stdout",
          "text": [
            "{2, 3, 5} is a subset of  {1, 2, 3, 4, 5}\n"
          ]
        }
      ]
    },
    {
      "cell_type": "markdown",
      "source": [
        "13. Check if a set is a superset of another set."
      ],
      "metadata": {
        "id": "a-_qFYS1Ax1J"
      }
    },
    {
      "cell_type": "code",
      "source": [
        "\n",
        "#13. Check if a set is a superset of another set.\n",
        "\n",
        "set1={1,2,3,4,5}\n",
        "set2={2,3,5}\n",
        "\n",
        "count=0\n",
        "\n",
        "for i in set2:\n",
        "    if i in set1:\n",
        "        count+=1\n",
        "    else:\n",
        "        count*=0\n",
        "if count!=0:\n",
        "    print(set1, 'is a superset of ', set2)\n",
        "else:\n",
        "    print(set1,' is not a superset of', set2)"
      ],
      "metadata": {
        "id": "nZQugv-TTXlZ"
      },
      "execution_count": null,
      "outputs": []
    },
    {
      "cell_type": "markdown",
      "source": [
        "14. Create a set from a list."
      ],
      "metadata": {
        "id": "Uj3OFfxlAyjM"
      }
    },
    {
      "cell_type": "code",
      "source": [
        "\n",
        "#14. Create a set from a list.\n",
        "\n",
        "l=[1,2,3,4]\n",
        "a=set(l)\n",
        "print(a)"
      ],
      "metadata": {
        "id": "ulFzGzD0TdJx",
        "colab": {
          "base_uri": "https://localhost:8080/"
        },
        "outputId": "41b6f65c-2a5a-467a-c5b7-977dadca8384"
      },
      "execution_count": 135,
      "outputs": [
        {
          "output_type": "stream",
          "name": "stdout",
          "text": [
            "{1, 2, 3, 4}\n"
          ]
        }
      ]
    },
    {
      "cell_type": "markdown",
      "source": [
        "15. Convert a set to a list."
      ],
      "metadata": {
        "id": "dUP2KRFHAzca"
      }
    },
    {
      "cell_type": "code",
      "source": [
        "\n",
        "#15. Convert a set to a list.\n",
        "\n",
        "s={1,2,3,4}\n",
        "b=list(s)\n",
        "print(b)"
      ],
      "metadata": {
        "id": "0cWOKs5mTgvV",
        "colab": {
          "base_uri": "https://localhost:8080/"
        },
        "outputId": "82abe42d-c447-4c46-b769-601d5e1759fd"
      },
      "execution_count": 136,
      "outputs": [
        {
          "output_type": "stream",
          "name": "stdout",
          "text": [
            "[1, 2, 3, 4]\n"
          ]
        }
      ]
    },
    {
      "cell_type": "markdown",
      "source": [
        "16. Remove a random element from a set."
      ],
      "metadata": {
        "id": "9EvNzFVdA0Mp"
      }
    },
    {
      "cell_type": "code",
      "source": [
        "\n",
        "#16. Remove a random element from a set.\n",
        "\n",
        "import random\n",
        "\n",
        "sets={1,2,3,4}\n",
        "a=random.choice(list(sets))\n",
        "\n",
        "sets.remove(a)\n",
        "print(a,'Removed from', sets)"
      ],
      "metadata": {
        "id": "pTyC3UK0TkM_",
        "colab": {
          "base_uri": "https://localhost:8080/"
        },
        "outputId": "e80143c9-f757-45db-fb88-5f602e0c2c25"
      },
      "execution_count": 137,
      "outputs": [
        {
          "output_type": "stream",
          "name": "stdout",
          "text": [
            "2 Removed from {1, 3, 4}\n"
          ]
        }
      ]
    },
    {
      "cell_type": "markdown",
      "source": [
        "17. Pop an element from a set."
      ],
      "metadata": {
        "id": "Ua1KmqTcA07u"
      }
    },
    {
      "cell_type": "code",
      "source": [
        "#17. Pop an element from a set."
      ],
      "metadata": {
        "id": "-uy1T5tqTnq3"
      },
      "execution_count": null,
      "outputs": []
    },
    {
      "cell_type": "markdown",
      "source": [
        "18.Check if two sets have no elements in common."
      ],
      "metadata": {
        "id": "9uJlDS34A12O"
      }
    },
    {
      "cell_type": "code",
      "source": [
        "\n",
        "#18. Check if two sets have no elements in common.\n",
        "\n",
        "set1={1,2,3,4,5}\n",
        "set2={6,7,8}\n",
        "intersec=set1.intersection(set2)\n",
        "print(intersec)\n",
        "\n",
        "if intersec :\n",
        "    print('Sets have elements in common')\n",
        "else:\n",
        "    print('Sets have no elements in common')"
      ],
      "metadata": {
        "id": "0G-ZUOovTq3x",
        "colab": {
          "base_uri": "https://localhost:8080/"
        },
        "outputId": "9c68fab9-4e4a-4e7f-d2b4-90d1ac0c73ee"
      },
      "execution_count": 138,
      "outputs": [
        {
          "output_type": "stream",
          "name": "stdout",
          "text": [
            "set()\n",
            "Sets have no elements in common\n"
          ]
        }
      ]
    },
    {
      "cell_type": "markdown",
      "source": [
        "19. Find the symmetric difference between two sets."
      ],
      "metadata": {
        "id": "XQNgWW8bA2jm"
      }
    },
    {
      "cell_type": "code",
      "source": [
        "\n",
        "#19. Find the symmetric difference between two sets.\n",
        "\n",
        "set1 = {1, 2, 3, 4, 5}\n",
        "set2 = {4, 5, 6, 7, 8}\n",
        "\n",
        "symdiff = set1.symmetric_difference(set2)\n",
        "\n",
        "print(symdiff)"
      ],
      "metadata": {
        "id": "VeOtgZiwTvaC",
        "colab": {
          "base_uri": "https://localhost:8080/"
        },
        "outputId": "3b54f047-1b37-4c3f-b304-085ff44cd05f"
      },
      "execution_count": 139,
      "outputs": [
        {
          "output_type": "stream",
          "name": "stdout",
          "text": [
            "{1, 2, 3, 6, 7, 8}\n"
          ]
        }
      ]
    },
    {
      "cell_type": "markdown",
      "source": [
        "20. Update a set with elements from another set."
      ],
      "metadata": {
        "id": "baGdRCq2A3m-"
      }
    },
    {
      "cell_type": "code",
      "source": [
        "\n",
        "#20. Update a set with elements from another set.\n",
        "\n",
        "set1={1,2,3,4,5}\n",
        "set2={6,7,8}\n",
        "\n",
        "for i in set2:\n",
        "    set1.add(i)\n",
        "print(set1)"
      ],
      "metadata": {
        "id": "ll7Dc7QwTzKl",
        "colab": {
          "base_uri": "https://localhost:8080/"
        },
        "outputId": "206b6b23-e923-4a1e-d95b-acfab10c4c6d"
      },
      "execution_count": 140,
      "outputs": [
        {
          "output_type": "stream",
          "name": "stdout",
          "text": [
            "{1, 2, 3, 4, 5, 6, 7, 8}\n"
          ]
        }
      ]
    },
    {
      "cell_type": "markdown",
      "source": [
        "21. Create a set of the first 5 prime  numbers."
      ],
      "metadata": {
        "id": "7w1LoZm_A4YP"
      }
    },
    {
      "cell_type": "code",
      "source": [
        "\n",
        "#21. Create a set of the first 5 prime numbers."
      ],
      "metadata": {
        "id": "LUTB4BsbT2zJ"
      },
      "execution_count": null,
      "outputs": []
    },
    {
      "cell_type": "markdown",
      "source": [
        "22. Check if two seta are identical."
      ],
      "metadata": {
        "id": "eanxIoRyA5G2"
      }
    },
    {
      "cell_type": "code",
      "source": [
        "\n",
        "#22. Check if two sets are identical.\n",
        "\n",
        "if len(set1)==len(set2):\n",
        "    print('Sets are identcal')\n",
        "else:\n",
        "    print('Sets are not identucal')"
      ],
      "metadata": {
        "id": "8wzCjFBVT6Um",
        "colab": {
          "base_uri": "https://localhost:8080/",
          "height": 246
        },
        "outputId": "3ac4bf51-7895-469d-e2d4-fdb5ab63b8f0"
      },
      "execution_count": 141,
      "outputs": [
        {
          "output_type": "error",
          "ename": "TypeError",
          "evalue": "ignored",
          "traceback": [
            "\u001b[0;31m---------------------------------------------------------------------------\u001b[0m",
            "\u001b[0;31mTypeError\u001b[0m                                 Traceback (most recent call last)",
            "\u001b[0;32m<ipython-input-141-5f0f2dea862e>\u001b[0m in \u001b[0;36m<cell line: 3>\u001b[0;34m()\u001b[0m\n\u001b[1;32m      1\u001b[0m \u001b[0;31m#22. Check if two sets are identical.\u001b[0m\u001b[0;34m\u001b[0m\u001b[0;34m\u001b[0m\u001b[0m\n\u001b[1;32m      2\u001b[0m \u001b[0;34m\u001b[0m\u001b[0m\n\u001b[0;32m----> 3\u001b[0;31m \u001b[0;32mif\u001b[0m \u001b[0mlen\u001b[0m\u001b[0;34m(\u001b[0m\u001b[0mset1\u001b[0m\u001b[0;34m)\u001b[0m\u001b[0;34m==\u001b[0m\u001b[0mlen\u001b[0m\u001b[0;34m(\u001b[0m\u001b[0mset2\u001b[0m\u001b[0;34m)\u001b[0m\u001b[0;34m:\u001b[0m\u001b[0;34m\u001b[0m\u001b[0;34m\u001b[0m\u001b[0m\n\u001b[0m\u001b[1;32m      4\u001b[0m     \u001b[0mprint\u001b[0m\u001b[0;34m(\u001b[0m\u001b[0;34m'Sets are identcal'\u001b[0m\u001b[0;34m)\u001b[0m\u001b[0;34m\u001b[0m\u001b[0;34m\u001b[0m\u001b[0m\n\u001b[1;32m      5\u001b[0m \u001b[0;32melse\u001b[0m\u001b[0;34m:\u001b[0m\u001b[0;34m\u001b[0m\u001b[0;34m\u001b[0m\u001b[0m\n",
            "\u001b[0;31mTypeError\u001b[0m: 'int' object is not callable"
          ]
        }
      ]
    },
    {
      "cell_type": "markdown",
      "source": [
        "23. Create a frozen set."
      ],
      "metadata": {
        "id": "HCYzeRC0A501"
      }
    },
    {
      "cell_type": "code",
      "source": [
        "\n",
        "#23. Create a frozen set.\n",
        "\n",
        "my_set = {1, 2, 3, 4, 5}\n",
        "s = frozenset(my_set)\n",
        "print(s)"
      ],
      "metadata": {
        "id": "7LkZN6-6T9QE",
        "colab": {
          "base_uri": "https://localhost:8080/"
        },
        "outputId": "3e9841a5-ff4e-4ac5-9513-45c241b3d15c"
      },
      "execution_count": 143,
      "outputs": [
        {
          "output_type": "stream",
          "name": "stdout",
          "text": [
            "frozenset({1, 2, 3, 4, 5})\n"
          ]
        }
      ]
    },
    {
      "cell_type": "markdown",
      "source": [
        "24. Check if a set is disjoint with another set."
      ],
      "metadata": {
        "id": "N71OdyZmA6hh"
      }
    },
    {
      "cell_type": "code",
      "source": [
        "\n",
        "#24. Check if a set is disjoint with another set\n",
        "\n",
        "\n",
        "set1 = {1, 2, 3}\n",
        "set2 = {4, 5, 6}\n",
        "\n",
        "disjoint = set1.isdisjoint(set2)\n",
        "\n",
        "if disjoint:\n",
        "    print(\"set1 and set2 are disjoint.\")\n",
        "else:\n",
        "    print(\"set1 and set2 have some common elements.\")"
      ],
      "metadata": {
        "id": "2WaBoXy0UAef",
        "colab": {
          "base_uri": "https://localhost:8080/"
        },
        "outputId": "b4baa82c-2ccc-4dd8-efed-19f4192c59b7"
      },
      "execution_count": 144,
      "outputs": [
        {
          "output_type": "stream",
          "name": "stdout",
          "text": [
            "set1 and set2 are disjoint.\n"
          ]
        }
      ]
    },
    {
      "cell_type": "markdown",
      "source": [
        "25. Create a set of squares of numbers from 1 to 5."
      ],
      "metadata": {
        "id": "T2Unhu13A7OA"
      }
    },
    {
      "cell_type": "code",
      "source": [
        "\n",
        "#25. Create a set of squares of numbers from 1 to 5.\n",
        "\n",
        "sets={4}\n",
        "for i in range(1,6):\n",
        "    sets.add(i**2)\n",
        "print(sets)"
      ],
      "metadata": {
        "id": "m317eH2yUFGG",
        "colab": {
          "base_uri": "https://localhost:8080/"
        },
        "outputId": "d05d3533-b716-474d-a0ed-4c8e80565435"
      },
      "execution_count": 145,
      "outputs": [
        {
          "output_type": "stream",
          "name": "stdout",
          "text": [
            "{1, 4, 9, 16, 25}\n"
          ]
        }
      ]
    },
    {
      "cell_type": "markdown",
      "source": [
        "26. Filter out all even numbers from a set."
      ],
      "metadata": {
        "id": "Srhf4u-TA8Qg"
      }
    },
    {
      "cell_type": "code",
      "source": [
        "\n",
        "#26. Filter out all even numbers from a set.\n",
        "\n",
        "set1={1,2,3,4,5}\n",
        "evens={2}\n",
        "for i in set1:\n",
        "    if i%2==0:\n",
        "        evens.add(i)\n",
        "print(evens)"
      ],
      "metadata": {
        "id": "PeyHJNKaUKBo",
        "colab": {
          "base_uri": "https://localhost:8080/"
        },
        "outputId": "44019187-c97b-4263-a999-2c5b5fb0f825"
      },
      "execution_count": 146,
      "outputs": [
        {
          "output_type": "stream",
          "name": "stdout",
          "text": [
            "{2, 4}\n"
          ]
        }
      ]
    },
    {
      "cell_type": "markdown",
      "source": [
        "27. Multiply all elements in a set by 2."
      ],
      "metadata": {
        "id": "xv7_G1hfA9XH"
      }
    },
    {
      "cell_type": "code",
      "source": [
        "\n",
        "#27. Multiply all elements in a set by 2.\n",
        "\n",
        "set1={1,2,3,4,5}\n",
        "set2={2}\n",
        "for i in set1:\n",
        "    set2.add(i*2)\n",
        "set1=set2\n",
        "print(set1)"
      ],
      "metadata": {
        "id": "UaSdvhnjUNXR",
        "colab": {
          "base_uri": "https://localhost:8080/"
        },
        "outputId": "2a11a638-5a24-4b99-d997-fcd03022887a"
      },
      "execution_count": 147,
      "outputs": [
        {
          "output_type": "stream",
          "name": "stdout",
          "text": [
            "{2, 4, 6, 8, 10}\n"
          ]
        }
      ]
    },
    {
      "cell_type": "markdown",
      "source": [
        "28. Create a set of random numbers."
      ],
      "metadata": {
        "id": "ytscYpOTA-M3"
      }
    },
    {
      "cell_type": "code",
      "source": [
        "\n",
        "#28. Create a set of random numbers.\n",
        "\n",
        "import random\n",
        "\n",
        "sets={1}\n",
        "for i in range(10):\n",
        "    sets.add(random.randint(1,20))\n",
        "print(sets)"
      ],
      "metadata": {
        "id": "a4pVnc2IURWn",
        "colab": {
          "base_uri": "https://localhost:8080/"
        },
        "outputId": "af21ea8a-4908-41d7-f3ab-4457bccdea61"
      },
      "execution_count": 148,
      "outputs": [
        {
          "output_type": "stream",
          "name": "stdout",
          "text": [
            "{1, 3, 5, 9, 10, 11, 13, 18}\n"
          ]
        }
      ]
    },
    {
      "cell_type": "markdown",
      "source": [
        "29. Check if a set is empty."
      ],
      "metadata": {
        "id": "twlSRq0UA_JA"
      }
    },
    {
      "cell_type": "code",
      "source": [
        "\n",
        "#29. Check if a set is empty.\n",
        "\n",
        "s={1,2,3}\n",
        "if s:\n",
        "    print('Set is not empty')\n",
        "else:\n",
        "    print('Set is empty')"
      ],
      "metadata": {
        "id": "-5oTnnKJUUeU",
        "colab": {
          "base_uri": "https://localhost:8080/"
        },
        "outputId": "eaa119d5-771d-418a-f8f6-09d450f8cc0a"
      },
      "execution_count": 149,
      "outputs": [
        {
          "output_type": "stream",
          "name": "stdout",
          "text": [
            "Set is not empty\n"
          ]
        }
      ]
    },
    {
      "cell_type": "markdown",
      "source": [
        "30. Create a nested set"
      ],
      "metadata": {
        "id": "6CzQoaVOA_4M"
      }
    },
    {
      "cell_type": "code",
      "source": [
        "\n",
        "\n",
        "#30. Create a nested set (hint: use frozenset)."
      ],
      "metadata": {
        "id": "cnl7TvRKUYas"
      },
      "execution_count": null,
      "outputs": []
    },
    {
      "cell_type": "markdown",
      "source": [],
      "metadata": {
        "id": "7TdFIIHOBAp6"
      }
    },
    {
      "cell_type": "code",
      "source": [
        "\n",
        "#31. Remove an element from a set using the discard method.\n",
        "\n",
        "#32. Compare two sets."
      ],
      "metadata": {
        "id": "iYfgsMGUUb6K"
      },
      "execution_count": null,
      "outputs": []
    },
    {
      "cell_type": "markdown",
      "source": [
        "33. Create a set from a string."
      ],
      "metadata": {
        "id": "1m3tIH_gBBeM"
      }
    },
    {
      "cell_type": "code",
      "source": [
        "\n",
        "#33. Create a set from a string.\n",
        "\n",
        "strings='hello'\n",
        "l=[]\n",
        "\n",
        "for i in strings:\n",
        "    l.append(i)\n",
        "s=set(l)\n",
        "\n",
        "print(s)"
      ],
      "metadata": {
        "id": "SmK6M-JsUfNB",
        "colab": {
          "base_uri": "https://localhost:8080/"
        },
        "outputId": "863df865-2bb9-4c24-df07-9a3933e382fc"
      },
      "execution_count": 151,
      "outputs": [
        {
          "output_type": "stream",
          "name": "stdout",
          "text": [
            "{'l', 'o', 'h', 'e'}\n"
          ]
        }
      ]
    },
    {
      "cell_type": "code",
      "source": [],
      "metadata": {
        "id": "3dJ3-VP6-1Qw"
      },
      "execution_count": null,
      "outputs": []
    },
    {
      "cell_type": "markdown",
      "source": [
        "34. Convert a sst of strings to a set of integers."
      ],
      "metadata": {
        "id": "YGF6xJ6MBCSx"
      }
    },
    {
      "cell_type": "code",
      "source": [
        "\n",
        "#34. Convert a set of strings to a set of integers.\n",
        "\n",
        "strings={'1','2','3','4','5'}\n",
        "l=[]\n",
        "for i in strings:\n",
        "    l.append(int(i))\n",
        "strings=set(l)\n",
        "print(strings)"
      ],
      "metadata": {
        "id": "Fs55uBpkUisz",
        "colab": {
          "base_uri": "https://localhost:8080/"
        },
        "outputId": "0851b229-f035-4862-a963-46cf89780aea"
      },
      "execution_count": 152,
      "outputs": [
        {
          "output_type": "stream",
          "name": "stdout",
          "text": [
            "{1, 2, 3, 4, 5}\n"
          ]
        }
      ]
    },
    {
      "cell_type": "markdown",
      "source": [
        "35. Convert a sst of integers to a set of strings."
      ],
      "metadata": {
        "id": "Dd8DhuLrBDAK"
      }
    },
    {
      "cell_type": "code",
      "source": [
        "\n",
        "\n",
        "#35. Convert a set of integers to a set of strings.\n",
        "\n",
        "strings={1,2,3,4,5}\n",
        "l=[]\n",
        "for i in strings:\n",
        "    l.append(str(i))\n",
        "integers=set(l)\n",
        "print(integers)"
      ],
      "metadata": {
        "id": "kDDlVCYUUoOL",
        "colab": {
          "base_uri": "https://localhost:8080/"
        },
        "outputId": "ed9db805-869d-4853-f4b1-d2ed62baa777"
      },
      "execution_count": 153,
      "outputs": [
        {
          "output_type": "stream",
          "name": "stdout",
          "text": [
            "{'3', '1', '2', '5', '4'}\n"
          ]
        }
      ]
    },
    {
      "cell_type": "markdown",
      "source": [
        "36. Create a set from a tuple."
      ],
      "metadata": {
        "id": "n6YJAlwOBDuF"
      }
    },
    {
      "cell_type": "code",
      "source": [
        "\n",
        "#36. Create a set from a tuple.\n",
        "\n",
        "t=(1,2,3,4,5)\n",
        "print(set(t))"
      ],
      "metadata": {
        "id": "ke2W6mOVUsbw",
        "colab": {
          "base_uri": "https://localhost:8080/"
        },
        "outputId": "472fddf6-667e-4b7b-8e69-9dd35ec7f57c"
      },
      "execution_count": 154,
      "outputs": [
        {
          "output_type": "stream",
          "name": "stdout",
          "text": [
            "{1, 2, 3, 4, 5}\n"
          ]
        }
      ]
    },
    {
      "cell_type": "markdown",
      "source": [
        "36. Convert a set to a tuple."
      ],
      "metadata": {
        "id": "BxhI2-e_BEaf"
      }
    },
    {
      "cell_type": "code",
      "source": [
        "\n",
        "#37. Convert a set to a tuple.\n",
        "\n",
        "s=(1,2,3,4,5)\n",
        "\n",
        "print(tuple(s))"
      ],
      "metadata": {
        "id": "lX-BmSjCUvqo",
        "colab": {
          "base_uri": "https://localhost:8080/"
        },
        "outputId": "b165cee2-35d7-43df-aa24-e8edb5cb3e91"
      },
      "execution_count": 155,
      "outputs": [
        {
          "output_type": "stream",
          "name": "stdout",
          "text": [
            "(1, 2, 3, 4, 5)\n"
          ]
        }
      ]
    },
    {
      "cell_type": "markdown",
      "source": [
        "38. Find the maximum value in a set."
      ],
      "metadata": {
        "id": "02GZT2KCBFsy"
      }
    },
    {
      "cell_type": "code",
      "source": [
        "\n",
        "#38. Find the maximum value in a set.\n",
        "\n",
        "s={1,2,3,4,5}\n",
        "print('Maximum value of set', s ,'is' ,max(s))"
      ],
      "metadata": {
        "id": "lzhbKn8PUzvs",
        "colab": {
          "base_uri": "https://localhost:8080/"
        },
        "outputId": "593aca8c-5e9a-4da3-fa29-763442791e77"
      },
      "execution_count": 156,
      "outputs": [
        {
          "output_type": "stream",
          "name": "stdout",
          "text": [
            "Maximum value of set {1, 2, 3, 4, 5} is 5\n"
          ]
        }
      ]
    },
    {
      "cell_type": "markdown",
      "source": [
        "39. Find the minimum value in a set."
      ],
      "metadata": {
        "id": "0ta8Sh7oBGgg"
      }
    },
    {
      "cell_type": "code",
      "source": [
        "\n",
        "#39. Find the minimum value in a set.\n",
        "\n",
        "s={1,2,3,4,5}\n",
        "print('Minimun value of set', s, 'is', min(s))"
      ],
      "metadata": {
        "id": "_7bfboLqU255",
        "colab": {
          "base_uri": "https://localhost:8080/"
        },
        "outputId": "8598b51d-4169-49ae-96e4-4aaa0a770c2b"
      },
      "execution_count": 157,
      "outputs": [
        {
          "output_type": "stream",
          "name": "stdout",
          "text": [
            "Minimun value of set {1, 2, 3, 4, 5} is 1\n"
          ]
        }
      ]
    },
    {
      "cell_type": "markdown",
      "source": [
        "40. Create a set from user input."
      ],
      "metadata": {
        "id": "ANZmVDMaBHdn"
      }
    },
    {
      "cell_type": "code",
      "source": [
        "\n",
        "#40. Create a set from user input.\n",
        "\n",
        "sets={0}\n",
        "\n",
        "for i in range(1,6):\n",
        "    n=int(input('Enter a number'))\n",
        "    sets.add(n)\n",
        "print(sets)"
      ],
      "metadata": {
        "id": "2SpM7gyEU537",
        "colab": {
          "base_uri": "https://localhost:8080/"
        },
        "outputId": "fde6490c-d24b-44ae-f128-9f313bb5878d"
      },
      "execution_count": 158,
      "outputs": [
        {
          "output_type": "stream",
          "name": "stdout",
          "text": [
            "Enter a number2\n",
            "Enter a number3\n",
            "Enter a number2\n",
            "Enter a number3\n",
            "Enter a number4\n",
            "{0, 2, 3, 4}\n"
          ]
        }
      ]
    },
    {
      "cell_type": "markdown",
      "source": [
        "41. Check if the intersection of two sets is empty."
      ],
      "metadata": {
        "id": "e4NhS8asQmxG"
      }
    },
    {
      "cell_type": "code",
      "source": [
        "\n",
        "#41. Check if the intersection of two sets is empty.\n",
        "\n",
        "set1={1,2,3,4,5}\n",
        "set2={6,7,8}\n",
        "intersec=set1.intersection(set2)\n",
        "\n",
        "\n",
        "if intersec :\n",
        "    print('Intersection of sets is not emptt')\n",
        "else:\n",
        "    print('Intersection of sets is empty')"
      ],
      "metadata": {
        "id": "yGgPPmdFU9EQ",
        "colab": {
          "base_uri": "https://localhost:8080/"
        },
        "outputId": "fcf8fb0b-177d-4943-cf95-05ff644d712d"
      },
      "execution_count": 159,
      "outputs": [
        {
          "output_type": "stream",
          "name": "stdout",
          "text": [
            "Intersection of sets is empty\n"
          ]
        }
      ]
    },
    {
      "cell_type": "markdown",
      "source": [
        "42. Create a swt of the first five Fibonacci numbers."
      ],
      "metadata": {
        "id": "JGPcxdkGBIIT"
      }
    },
    {
      "cell_type": "code",
      "source": [
        "#42. Create a set of the first 5 Fibonacci numbers."
      ],
      "metadata": {
        "id": "eAntatihVBHV"
      },
      "execution_count": null,
      "outputs": []
    },
    {
      "cell_type": "markdown",
      "source": [
        "43. Remove duplicates from a list using sets."
      ],
      "metadata": {
        "id": "WPxYtkeRBJCN"
      }
    },
    {
      "cell_type": "code",
      "source": [
        "\n",
        "#43. Remove duplicates from a list using sets.\n",
        "\n",
        "l=[1,2,2,3,4,5,5,6,2,5]\n",
        "set(l)"
      ],
      "metadata": {
        "id": "99zOmLbYVETL",
        "colab": {
          "base_uri": "https://localhost:8080/"
        },
        "outputId": "e5ec0873-74e9-4778-8c1b-b02ae5ddf7c4"
      },
      "execution_count": 160,
      "outputs": [
        {
          "output_type": "execute_result",
          "data": {
            "text/plain": [
              "{1, 2, 3, 4, 5, 6}"
            ]
          },
          "metadata": {},
          "execution_count": 160
        }
      ]
    },
    {
      "cell_type": "markdown",
      "source": [
        "44. Check if two sets have the same elements , regardless if their count."
      ],
      "metadata": {
        "id": "RRgxXEOGBJti"
      }
    },
    {
      "cell_type": "code",
      "source": [
        "\n",
        "#44. Check if two sets have the same elements, regardless of their count.\n",
        "\n",
        "set1={1,2,34}\n",
        "set2={1,2,7,8}\n",
        "commons=[]\n",
        "for i in set2:\n",
        "    if i in set1:\n",
        "        commons.append(i)\n",
        "if commons:\n",
        "    print('The sets have some commons elements which are', commons)\n",
        "else:\n",
        "    print('There are no commons elements in sets')"
      ],
      "metadata": {
        "id": "W-aUB6kJVHJJ",
        "colab": {
          "base_uri": "https://localhost:8080/"
        },
        "outputId": "a009fe1d-3b6a-4c06-c90f-33556da8c773"
      },
      "execution_count": 161,
      "outputs": [
        {
          "output_type": "stream",
          "name": "stdout",
          "text": [
            "The sets have some commons elements which are [1, 2]\n"
          ]
        }
      ]
    },
    {
      "cell_type": "markdown",
      "source": [
        "45. Create a set of the first n power of 2."
      ],
      "metadata": {
        "id": "mRcriY5QBKjs"
      }
    },
    {
      "cell_type": "code",
      "source": [
        "\n",
        "#45. Create a set of the first `n` powers of 2.\n",
        "\n",
        "squares=[]\n",
        "n= int(input('Enter a number'))\n",
        "for i in range(1,n+1):\n",
        "    squares.append(i**2)\n",
        "print(set(squares))"
      ],
      "metadata": {
        "id": "1dEMiJ9RVLNh",
        "colab": {
          "base_uri": "https://localhost:8080/"
        },
        "outputId": "9a4db123-3d89-439d-e538-0b99c8f83478"
      },
      "execution_count": 162,
      "outputs": [
        {
          "output_type": "stream",
          "name": "stdout",
          "text": [
            "Enter a number10\n",
            "{64, 1, 4, 36, 100, 9, 16, 49, 81, 25}\n"
          ]
        }
      ]
    },
    {
      "cell_type": "markdown",
      "source": [
        "46. Find the common elements between a set and a list."
      ],
      "metadata": {
        "id": "bJj8pgLPBLYI"
      }
    },
    {
      "cell_type": "code",
      "source": [
        "\n",
        "#46. Find the common elements between a set and a list.\n",
        "\n",
        "set1={1,2,3,4}\n",
        "l=[3,4]\n",
        "commons=[]\n",
        "for i in l:\n",
        "    if i in set1:\n",
        "        commons.append(i)\n",
        "\n",
        "if commons:\n",
        "    print('The commons elements are',  commons)\n",
        "else:\n",
        "    print('There are no commons elenents')"
      ],
      "metadata": {
        "id": "0_SpunjxVOTI",
        "colab": {
          "base_uri": "https://localhost:8080/"
        },
        "outputId": "426cd491-e0c9-4d6c-96ed-6e627935a1a0"
      },
      "execution_count": 164,
      "outputs": [
        {
          "output_type": "stream",
          "name": "stdout",
          "text": [
            "The commons elements are [3, 4]\n"
          ]
        }
      ]
    },
    {
      "cell_type": "markdown",
      "source": [
        "47.  Create a set of the first n triangular numbers."
      ],
      "metadata": {
        "id": "wf5RjGZzBMEW"
      }
    },
    {
      "cell_type": "code",
      "source": [
        "#47. Create a set of the first `n` triangular numbers."
      ],
      "metadata": {
        "id": "rLmnjKZzVTYv"
      },
      "execution_count": null,
      "outputs": []
    },
    {
      "cell_type": "markdown",
      "source": [
        "48. Check if a set contains another set as a subset."
      ],
      "metadata": {
        "id": "a5_IL4M2BM0B"
      }
    },
    {
      "cell_type": "code",
      "source": [
        "\n",
        "#48. Check if a set contains another set as a subset.\n",
        "\n",
        "set1={1,2,3,4,5}\n",
        "set2={2,3,4}\n",
        "\n",
        "if set1.intersection(set2):\n",
        "    print('Set2 is subset of set1')\n",
        "else:\n",
        "    print('Set2 is not subset of set1')"
      ],
      "metadata": {
        "id": "0WpSN-ORVYD-",
        "colab": {
          "base_uri": "https://localhost:8080/"
        },
        "outputId": "c5a1a33b-0543-4127-a7e8-66849b66417b"
      },
      "execution_count": 165,
      "outputs": [
        {
          "output_type": "stream",
          "name": "stdout",
          "text": [
            "Set2 is subset of set1\n"
          ]
        }
      ]
    },
    {
      "cell_type": "markdown",
      "source": [
        "49. Create a set if alternating 1s and 0s of length n."
      ],
      "metadata": {
        "id": "C2tCXJJ3BNii"
      }
    },
    {
      "cell_type": "code",
      "source": [
        "\n",
        "#49. Create a set of alternating 1s and 0s of length `n`.\n",
        "\n",
        "#not possible"
      ],
      "metadata": {
        "id": "Ggkd35HAVb-s"
      },
      "execution_count": null,
      "outputs": []
    },
    {
      "cell_type": "markdown",
      "source": [
        "50. Merge multiple sets into one."
      ],
      "metadata": {
        "id": "dyDvHzd1BOYc"
      }
    },
    {
      "cell_type": "code",
      "source": [
        "\n",
        "#50. Merge multiple sets into one.\n",
        "\n",
        "set1={1,2,3,4}\n",
        "set2={5,6,7,8}\n",
        "set3={9,10,11,12}\n",
        "set4={13,14,15,16}\n",
        "\n",
        "universal =list(set1) + list(set2) + list(set3) + list(set4)\n",
        "\n",
        "print(set(universal))"
      ],
      "metadata": {
        "id": "wvijx1whVfUN",
        "colab": {
          "base_uri": "https://localhost:8080/"
        },
        "outputId": "c380c120-5291-4f23-fad8-9c022dee362b"
      },
      "execution_count": 166,
      "outputs": [
        {
          "output_type": "stream",
          "name": "stdout",
          "text": [
            "{1, 2, 3, 4, 5, 6, 7, 8, 9, 10, 11, 12, 13, 14, 15, 16}\n"
          ]
        }
      ]
    },
    {
      "cell_type": "code",
      "source": [],
      "metadata": {
        "id": "_YNCEU--jtjW"
      },
      "execution_count": null,
      "outputs": []
    }
  ]
}