{
  "nbformat": 4,
  "nbformat_minor": 0,
  "metadata": {
    "colab": {
      "provenance": []
    },
    "kernelspec": {
      "name": "python3",
      "display_name": "Python 3"
    },
    "language_info": {
      "name": "python"
    }
  },
  "cells": [
    {
      "cell_type": "markdown",
      "source": [
        "#Basic Level:"
      ],
      "metadata": {
        "id": "0kScjhYJf8yh"
      }
    },
    {
      "cell_type": "markdown",
      "source": [
        "1. Write a Python program to print the numbers from 1 to 10 using a `for` loop."
      ],
      "metadata": {
        "id": "8mB7bXP2ez09"
      }
    },
    {
      "cell_type": "code",
      "source": [
        "for i in range(1,11):\n",
        "  print(i)"
      ],
      "metadata": {
        "colab": {
          "base_uri": "https://localhost:8080/"
        },
        "id": "hwjMxG7ee-Qn",
        "outputId": "14e78ac6-9c33-4f45-acc8-3cc5b45240d0"
      },
      "execution_count": null,
      "outputs": [
        {
          "output_type": "stream",
          "name": "stdout",
          "text": [
            "1\n",
            "2\n",
            "3\n",
            "4\n",
            "5\n",
            "6\n",
            "7\n",
            "8\n",
            "9\n",
            "10\n"
          ]
        }
      ]
    },
    {
      "cell_type": "markdown",
      "source": [
        "2. Create a program that calculates the sum of all numbers in a list using a `for` loop."
      ],
      "metadata": {
        "id": "AFg1ZNb_e-n1"
      }
    },
    {
      "cell_type": "code",
      "source": [
        "l=[1,2,3,4,5,6,7,8,9,10]\n",
        "sum=0\n",
        "for i in l:\n",
        "  sum+=i\n",
        "print(sum)"
      ],
      "metadata": {
        "colab": {
          "base_uri": "https://localhost:8080/"
        },
        "id": "SjmqwjM3fEcK",
        "outputId": "4bf19e7e-10cb-4766-de61-1bb86651cfff"
      },
      "execution_count": null,
      "outputs": [
        {
          "output_type": "stream",
          "name": "stdout",
          "text": [
            "55\n"
          ]
        }
      ]
    },
    {
      "cell_type": "markdown",
      "source": [
        "3. Write a program to print the characters of a string in reverse order using a `for` loop."
      ],
      "metadata": {
        "id": "lZDTMtrjfExF"
      }
    },
    {
      "cell_type": "code",
      "source": [
        "string='Hello World'\n",
        "for i in string[::-1]:\n",
        "  print(i)"
      ],
      "metadata": {
        "colab": {
          "base_uri": "https://localhost:8080/"
        },
        "id": "eF7SHmmJfJyT",
        "outputId": "ac2bde29-584c-4d14-acc6-0a4132203c9c"
      },
      "execution_count": null,
      "outputs": [
        {
          "output_type": "stream",
          "name": "stdout",
          "text": [
            "d\n",
            "l\n",
            "r\n",
            "o\n",
            "W\n",
            " \n",
            "o\n",
            "l\n",
            "l\n",
            "e\n",
            "H\n"
          ]
        }
      ]
    },
    {
      "cell_type": "markdown",
      "source": [
        "4. Develop a program that finds the factorial of a given number using a `for` loop"
      ],
      "metadata": {
        "id": "m-O5pz6VfKDM"
      }
    },
    {
      "cell_type": "code",
      "source": [
        "n=int(input('enter a number'))\n",
        "fact=1\n",
        "for i in range(1,n+1):\n",
        "  fact*=i\n",
        "print(fact)"
      ],
      "metadata": {
        "colab": {
          "base_uri": "https://localhost:8080/"
        },
        "id": "Aee2LQxMfQlq",
        "outputId": "baec19ec-5bb1-4a9b-c19a-921f7cc4fb42"
      },
      "execution_count": null,
      "outputs": [
        {
          "output_type": "stream",
          "name": "stdout",
          "text": [
            "enter a number4\n",
            "24\n"
          ]
        }
      ]
    },
    {
      "cell_type": "markdown",
      "source": [
        "5. Create a program to print the multiplication table of a given number using a `for` loop."
      ],
      "metadata": {
        "id": "0dC7z_RofQ5O"
      }
    },
    {
      "cell_type": "code",
      "source": [
        "n=2\n",
        "for i in range(1,11):\n",
        "   print(i*n)"
      ],
      "metadata": {
        "colab": {
          "base_uri": "https://localhost:8080/"
        },
        "id": "vHr0q09gfWVC",
        "outputId": "38eb09b1-a915-474d-883c-5ae09e8d95c3"
      },
      "execution_count": null,
      "outputs": [
        {
          "output_type": "stream",
          "name": "stdout",
          "text": [
            "2\n",
            "4\n",
            "6\n",
            "8\n",
            "10\n",
            "12\n",
            "14\n",
            "16\n",
            "18\n",
            "20\n"
          ]
        }
      ]
    },
    {
      "cell_type": "markdown",
      "source": [
        "6. Write a program that counts the number of even and odd numbers in a list using a `for` loop."
      ],
      "metadata": {
        "id": "wSnv8vrbfWru"
      }
    },
    {
      "cell_type": "code",
      "source": [
        "l=[1,2,3,4,5,6,7,8,10]\n",
        "\n",
        "even=[]\n",
        "odd=[]\n",
        "for i in l:\n",
        "  if i %2==0:\n",
        "     even.append(i)\n",
        "  else:\n",
        "     odd.append(i)\n",
        "\n",
        "print ('There are',len(even),' even numbers and' ,len(odd),'odd numbers in a list')"
      ],
      "metadata": {
        "colab": {
          "base_uri": "https://localhost:8080/"
        },
        "id": "N93uAnZFfbBd",
        "outputId": "ec19d04e-c042-4550-d21a-6d18cbac767d"
      },
      "execution_count": null,
      "outputs": [
        {
          "output_type": "stream",
          "name": "stdout",
          "text": [
            "There are 5  even numbers and 4 odd numbers in a list\n"
          ]
        }
      ]
    },
    {
      "cell_type": "markdown",
      "source": [
        "7. Develop a program that prints the squares of numbers from 1 to 5 using a `for` loop."
      ],
      "metadata": {
        "id": "ut7P9F_MfbUc"
      }
    },
    {
      "cell_type": "code",
      "source": [
        "for i in range(1,6):\n",
        "  print(i**2)"
      ],
      "metadata": {
        "colab": {
          "base_uri": "https://localhost:8080/"
        },
        "id": "Q_-u-HoYfkFh",
        "outputId": "c6b646fb-054a-43ea-c49e-0173ceccde77"
      },
      "execution_count": null,
      "outputs": [
        {
          "output_type": "stream",
          "name": "stdout",
          "text": [
            "1\n",
            "4\n",
            "9\n",
            "16\n",
            "25\n"
          ]
        }
      ]
    },
    {
      "cell_type": "markdown",
      "source": [
        "8. Create a program to find the length of a string without using the `len()` function."
      ],
      "metadata": {
        "id": "7vbO4wbdfkUb"
      }
    },
    {
      "cell_type": "code",
      "source": [
        "string='Hello my name is rohan'\n",
        "count=0\n",
        "\n",
        "for i in string:\n",
        "  count+=1\n",
        "\n",
        "print(count)"
      ],
      "metadata": {
        "colab": {
          "base_uri": "https://localhost:8080/"
        },
        "id": "PXv1RK_7fqrA",
        "outputId": "85d5fcbd-f95c-4913-df29-99bcff607efc"
      },
      "execution_count": null,
      "outputs": [
        {
          "output_type": "stream",
          "name": "stdout",
          "text": [
            "22\n"
          ]
        }
      ]
    },
    {
      "cell_type": "markdown",
      "source": [
        "9. Write a program that calculates the average of a list of numbers using a `for` loop."
      ],
      "metadata": {
        "id": "pE2HaHHufq43"
      }
    },
    {
      "cell_type": "code",
      "source": [
        "l=[11,13,14,11]\n",
        "sum=0\n",
        "for i in l:\n",
        "  sum+=i\n",
        "\n",
        "print(sum/len(l))"
      ],
      "metadata": {
        "colab": {
          "base_uri": "https://localhost:8080/"
        },
        "id": "OUHUPeZgft06",
        "outputId": "4f754a17-4205-4cdd-d821-714047ab6001"
      },
      "execution_count": null,
      "outputs": [
        {
          "output_type": "stream",
          "name": "stdout",
          "text": [
            "12.25\n"
          ]
        }
      ]
    },
    {
      "cell_type": "markdown",
      "source": [
        "10. Develop a program that prints the first `n` Fibonacci numbers using a `for` loop."
      ],
      "metadata": {
        "id": "NJaZYGRZfuIa"
      }
    },
    {
      "cell_type": "code",
      "source": [
        "a=0\n",
        "b=1\n",
        "num = int(input(\"Enter the value of n\"))\n",
        "\n",
        "if num <= 0:\n",
        "    print(\"Please enter a positive integer.\")\n",
        "elif num == 1:\n",
        "    print(a)\n",
        "elif num >= 2:\n",
        "    print(a, b, end=\" \")\n",
        "    for i in range(2, num):\n",
        "        c = a + b\n",
        "        print(c, end=\" \")\n",
        "        a, b = b, c\n",
        "\n"
      ],
      "metadata": {
        "id": "EP-E8CGvf0QO",
        "colab": {
          "base_uri": "https://localhost:8080/"
        },
        "outputId": "5cfa1568-e1fe-4975-9f53-f6ef0fe64cc0"
      },
      "execution_count": null,
      "outputs": [
        {
          "output_type": "stream",
          "name": "stdout",
          "text": [
            "Enter the value of n10\n",
            "0 1 1 2 3 5 8 13 21 34 "
          ]
        }
      ]
    },
    {
      "cell_type": "markdown",
      "source": [
        "#Intermediate Level"
      ],
      "metadata": {
        "id": "6v7deS8lf0kI"
      }
    },
    {
      "cell_type": "markdown",
      "source": [
        "11. Write a program to check if a given list contains any duplicates using a `for` loop."
      ],
      "metadata": {
        "id": "N1uynR7gXhxs"
      }
    },
    {
      "cell_type": "code",
      "source": [
        "l=[1,2,3,4,5,5,5,6,6,7,8]\n",
        "\n",
        "duplicate=[]\n",
        "count=[]\n",
        "\n",
        "for i in l:\n",
        "  if i in count:\n",
        "      duplicate.append(i)\n",
        "  else:\n",
        "      count.append(i)\n",
        "\n",
        "if duplicate:\n",
        "   print('There are duplicates in list')\n",
        "else:\n",
        "   print('There are no duplicates')"
      ],
      "metadata": {
        "colab": {
          "base_uri": "https://localhost:8080/"
        },
        "id": "OCYNxGKeXmQz",
        "outputId": "d1fca89e-e832-4aa6-9776-5e1137fc0ea6"
      },
      "execution_count": null,
      "outputs": [
        {
          "output_type": "stream",
          "name": "stdout",
          "text": [
            "There are duplicates in list\n"
          ]
        }
      ]
    },
    {
      "cell_type": "markdown",
      "source": [
        "12. Create a program that prints the prime numbers in a given range using a `for` loop."
      ],
      "metadata": {
        "id": "482NnppKXmnY"
      }
    },
    {
      "cell_type": "code",
      "source": [
        "from sympy import isprime\n",
        "\n",
        "n=10\n",
        "primes=[i for i in range(n+1) if isprime(i)]\n",
        "primes\n",
        "\n",
        "\n"
      ],
      "metadata": {
        "id": "7aZRF7kEXsCg",
        "colab": {
          "base_uri": "https://localhost:8080/"
        },
        "outputId": "16fbeff3-80d4-4e5e-ec15-9ea2d403f32b"
      },
      "execution_count": null,
      "outputs": [
        {
          "output_type": "execute_result",
          "data": {
            "text/plain": [
              "[2, 3, 5, 7]"
            ]
          },
          "metadata": {},
          "execution_count": 32
        }
      ]
    },
    {
      "cell_type": "markdown",
      "source": [
        "13. Develop a program that counts the number of vowels in a string using a `for` loop."
      ],
      "metadata": {
        "id": "ApsCLvlDXsr4"
      }
    },
    {
      "cell_type": "code",
      "source": [
        "string='rohan'\n",
        "vowels='aeiou'\n",
        "count=[]\n",
        "for i in string:\n",
        "  if i in vowels:\n",
        "     count.append(i)\n",
        "print('There are', len(count), 'in string which are', count)"
      ],
      "metadata": {
        "colab": {
          "base_uri": "https://localhost:8080/"
        },
        "id": "FWslJ_w2XyIZ",
        "outputId": "bd1f6fc9-59b4-47ea-aa1e-d564a6198115"
      },
      "execution_count": null,
      "outputs": [
        {
          "output_type": "stream",
          "name": "stdout",
          "text": [
            "There are 2 in string which are ['o', 'a']\n"
          ]
        }
      ]
    },
    {
      "cell_type": "markdown",
      "source": [
        "14. Write a program to find the maximum element in a 2D list using a nested `for` loop."
      ],
      "metadata": {
        "id": "QwNkMgXqXyYB"
      }
    },
    {
      "cell_type": "code",
      "source": [
        "l=[[1,2,3],[4,5,6],[7,8,9]]\n",
        "l2=[]\n",
        "for i in l:\n",
        "  for j in i:\n",
        "     l2.append(j)\n",
        "print(max(l2))"
      ],
      "metadata": {
        "colab": {
          "base_uri": "https://localhost:8080/"
        },
        "id": "3rzxwWcFX2lF",
        "outputId": "06aeffaf-099d-4292-a08e-21e2c1673fa9"
      },
      "execution_count": null,
      "outputs": [
        {
          "output_type": "stream",
          "name": "stdout",
          "text": [
            "9\n"
          ]
        }
      ]
    },
    {
      "cell_type": "markdown",
      "source": [
        "15. Create a program that removes all occurrences of a specific element from a list using a `for` loop."
      ],
      "metadata": {
        "id": "HMkUONZiX2_l"
      }
    },
    {
      "cell_type": "code",
      "source": [
        "l=[1,2,3,4,5,3,6,3,6]\n",
        "n=3\n",
        "print('Before',l)\n",
        "for i in l:\n",
        "  if i==n:\n",
        "    l.remove(i)\n",
        "print('After',l)"
      ],
      "metadata": {
        "colab": {
          "base_uri": "https://localhost:8080/"
        },
        "id": "qHnYZ0wJYS1h",
        "outputId": "da8f3314-9446-4d22-c619-4a5c3e4a3ea2"
      },
      "execution_count": null,
      "outputs": [
        {
          "output_type": "stream",
          "name": "stdout",
          "text": [
            "Before [1, 2, 3, 4, 5, 3, 6, 3, 6]\n",
            "After [1, 2, 4, 5, 6, 6]\n"
          ]
        }
      ]
    },
    {
      "cell_type": "markdown",
      "source": [
        "16. Develop a program that generates a multiplication table for numbers from 1 to 5 using a nested `for` loop."
      ],
      "metadata": {
        "id": "ThFPHp2VYTmk"
      }
    },
    {
      "cell_type": "code",
      "source": [
        "l=[[],[],[],[],[]]\n",
        "for i in range(1,6):\n",
        "   for j in range(1,11):\n",
        "     l[i-1].append(i*j)\n",
        "l"
      ],
      "metadata": {
        "colab": {
          "base_uri": "https://localhost:8080/"
        },
        "id": "SIW9-v6gYZ_c",
        "outputId": "882592cc-7d63-40e3-bde4-2e78211547cd"
      },
      "execution_count": null,
      "outputs": [
        {
          "output_type": "execute_result",
          "data": {
            "text/plain": [
              "[[1, 2, 3, 4, 5, 6, 7, 8, 9, 10],\n",
              " [2, 4, 6, 8, 10, 12, 14, 16, 18, 20],\n",
              " [3, 6, 9, 12, 15, 18, 21, 24, 27, 30],\n",
              " [4, 8, 12, 16, 20, 24, 28, 32, 36, 40],\n",
              " [5, 10, 15, 20, 25, 30, 35, 40, 45, 50]]"
            ]
          },
          "metadata": {},
          "execution_count": 18
        }
      ]
    },
    {
      "cell_type": "markdown",
      "source": [
        "17. Write a program that converts a list of Fahrenheit temperatures to Celsius using a `for` loop."
      ],
      "metadata": {
        "id": "1QcUtaZxYggf"
      }
    },
    {
      "cell_type": "code",
      "source": [
        "\n",
        "temp_f = [75.2, 89.5, 62.7, 53.1, 98.0]\n",
        "temp=[]\n",
        "for i in temp_f:\n",
        "   temp.append((i- 32) * 5//9)\n",
        "print('Temprature in degree', temp)"
      ],
      "metadata": {
        "colab": {
          "base_uri": "https://localhost:8080/"
        },
        "id": "KUPEyAdqYrhh",
        "outputId": "3a748a17-89d5-4caa-efbb-27f159a1a45f"
      },
      "execution_count": null,
      "outputs": [
        {
          "output_type": "stream",
          "name": "stdout",
          "text": [
            "Temprature in degree [24.0, 31.0, 17.0, 11.0, 36.0]\n"
          ]
        }
      ]
    },
    {
      "cell_type": "markdown",
      "source": [
        "18. Create a program to print the common elements from two lists using a `for` loop."
      ],
      "metadata": {
        "id": "HrIN0gXfYaZ8"
      }
    },
    {
      "cell_type": "code",
      "source": [
        "l1=[1,2,3,4,5,6]\n",
        "l2=[5,6,7,8,9]\n",
        "\n",
        "common=[]\n",
        "for i in l1:\n",
        " if i in l2:\n",
        "   common.append(i)\n",
        "\n",
        "print('The common elements are', common)"
      ],
      "metadata": {
        "colab": {
          "base_uri": "https://localhost:8080/"
        },
        "id": "oDXKOPxYYsSI",
        "outputId": "8505d347-1bd5-4ca3-efc4-cbe391c02343"
      },
      "execution_count": null,
      "outputs": [
        {
          "output_type": "stream",
          "name": "stdout",
          "text": [
            "The common elements are [5, 6]\n"
          ]
        }
      ]
    },
    {
      "cell_type": "markdown",
      "source": [
        "19. Develop a program that prints the pattern of right-angled triangles using a `for` loop. Use ‘*’ to draw the pattern"
      ],
      "metadata": {
        "id": "w83oavPlYspW"
      }
    },
    {
      "cell_type": "code",
      "source": [
        "for i in range(1,11):\n",
        "   print(i*' *')"
      ],
      "metadata": {
        "colab": {
          "base_uri": "https://localhost:8080/"
        },
        "id": "v5Y9PK7qYzhI",
        "outputId": "fc65272b-a12d-4de4-f625-3fe436cd7fe8"
      },
      "execution_count": null,
      "outputs": [
        {
          "output_type": "stream",
          "name": "stdout",
          "text": [
            " *\n",
            " * *\n",
            " * * *\n",
            " * * * *\n",
            " * * * * *\n",
            " * * * * * *\n",
            " * * * * * * *\n",
            " * * * * * * * *\n",
            " * * * * * * * * *\n",
            " * * * * * * * * * *\n"
          ]
        }
      ]
    },
    {
      "cell_type": "markdown",
      "source": [
        "20. Write a program to find the greatest common divisor (GCD) of two numbers using a `for` loop."
      ],
      "metadata": {
        "id": "K8seGlPCYz02"
      }
    },
    {
      "cell_type": "code",
      "source": [
        "\n",
        "\n",
        "num1 = 3\n",
        "num2 = 4\n",
        "\n",
        "\n",
        "smaller = min(num1, num2)\n",
        "\n",
        "gcd_value = 1\n",
        "\n",
        "for i in range(1, smaller + 1):\n",
        "    if num1 % i == 0 and num2 % i == 0:\n",
        "        gcd_value = i\n",
        "\n",
        "print('GCD of', num1, 'and', num2, 'is', gcd_value)"
      ],
      "metadata": {
        "colab": {
          "base_uri": "https://localhost:8080/"
        },
        "id": "OZjTq4qRkv2i",
        "outputId": "74c7e8ee-1e39-4e2d-cc9b-5e5c805c7dc5"
      },
      "execution_count": null,
      "outputs": [
        {
          "output_type": "stream",
          "name": "stdout",
          "text": [
            "GCD of 3 and 4 is 1\n"
          ]
        }
      ]
    },
    {
      "cell_type": "markdown",
      "source": [
        "#Advanced level"
      ],
      "metadata": {
        "id": "fw-IdLUz9zp5"
      }
    },
    {
      "cell_type": "markdown",
      "source": [
        "21.Create a program that calculates the sum of the digits of numbers in a list using a list comprehension."
      ],
      "metadata": {
        "id": "dvJQiplU94F3"
      }
    },
    {
      "cell_type": "code",
      "source": [
        "l=[11,12,145,1123]\n",
        "\n",
        "def func(num):\n",
        "  sum=0\n",
        "  for i in str(num):\n",
        "    sum+=int(i)\n",
        "  return sum\n",
        "\n",
        "sum=[func(i) for i in l]\n",
        "print(sum)"
      ],
      "metadata": {
        "id": "8H9NH1iQ-F-b",
        "colab": {
          "base_uri": "https://localhost:8080/"
        },
        "outputId": "1ab55303-3b6d-413c-8c54-64ad0a19031b"
      },
      "execution_count": 75,
      "outputs": [
        {
          "output_type": "stream",
          "name": "stdout",
          "text": [
            "[2, 3, 10, 7]\n"
          ]
        }
      ]
    },
    {
      "cell_type": "markdown",
      "source": [
        "22.Write a program to find the prime factors of a given number using a `for` loop and list comprehension."
      ],
      "metadata": {
        "id": "NetgZeWq-GQA"
      }
    },
    {
      "cell_type": "code",
      "source": [],
      "metadata": {
        "id": "cJW393s3-RGY"
      },
      "execution_count": null,
      "outputs": []
    },
    {
      "cell_type": "markdown",
      "source": [
        "23.Develop a program that extracts unique elements from a list and stores them in a new list using a list\n",
        "comprehension."
      ],
      "metadata": {
        "id": "tqVSbdBH-RhI"
      }
    },
    {
      "cell_type": "code",
      "source": [
        "l1=[1,2,2,3,4,5,6]\n",
        "\n",
        "l=[list(set(l1))]\n",
        "print(l)"
      ],
      "metadata": {
        "id": "w9eOTCCv-Vc6",
        "colab": {
          "base_uri": "https://localhost:8080/"
        },
        "outputId": "062e6ed0-f637-43ef-f627-feb77c84e3e1"
      },
      "execution_count": 16,
      "outputs": [
        {
          "output_type": "stream",
          "name": "stdout",
          "text": [
            "[[1, 2, 3, 4, 5, 6]]\n"
          ]
        }
      ]
    },
    {
      "cell_type": "markdown",
      "source": [
        "24.Create a program that generates a list of all palindromic numbers up to a specified limit using a list\n",
        "comprehension"
      ],
      "metadata": {
        "id": "wuJjaJk3-WS0"
      }
    },
    {
      "cell_type": "code",
      "source": [
        "\n",
        "def is_palindrome(num):\n",
        "    num_str = str(num)\n",
        "    return num_str == num_str[::-1]\n",
        "\n",
        "l=[i for i in range(1,100) if is_palindrome(i) if len(str(i))==2]\n",
        "print(l)"
      ],
      "metadata": {
        "id": "4xhdbmsT-dTu",
        "colab": {
          "base_uri": "https://localhost:8080/"
        },
        "outputId": "d1eaeb70-3519-417d-ddec-83174575d812"
      },
      "execution_count": 12,
      "outputs": [
        {
          "output_type": "stream",
          "name": "stdout",
          "text": [
            "[11, 22, 33, 44, 55, 66, 77, 88, 99]\n"
          ]
        }
      ]
    },
    {
      "cell_type": "markdown",
      "source": [
        "25. Write a program to flatten a nested list using list comprehension."
      ],
      "metadata": {
        "id": "dW70EFv_-dyQ"
      }
    },
    {
      "cell_type": "code",
      "source": [
        "l=[[1,2,3],[4,5,6],[7,8,9]]\n",
        "flatten=[]\n",
        "for i in l :\n",
        "  for j in i:\n",
        "    flatten.append(j)\n",
        "flatten"
      ],
      "metadata": {
        "id": "B8qPQqb9-jgF",
        "colab": {
          "base_uri": "https://localhost:8080/"
        },
        "outputId": "ab1421bf-9119-4158-c5da-43d4335c3965"
      },
      "execution_count": null,
      "outputs": [
        {
          "output_type": "execute_result",
          "data": {
            "text/plain": [
              "[1, 2, 3, 4, 5, 6, 7, 8, 9]"
            ]
          },
          "metadata": {},
          "execution_count": 20
        }
      ]
    },
    {
      "cell_type": "markdown",
      "source": [
        "26.Develop a program that computes the sum of even and odd numbers in a list separately using list\n",
        "comprehension."
      ],
      "metadata": {
        "id": "dyk--KC7-ker"
      }
    },
    {
      "cell_type": "code",
      "source": [
        "l = [1, 2, 3, 4, 5, 6, 7, 8, 9, 10]\n",
        "\n",
        "odd=[i for i in l if i%2!=0]\n",
        "even = [i for i in l if i%2==0]\n",
        "\n",
        "print(sum(even))\n",
        "print(sum(odd))\n"
      ],
      "metadata": {
        "id": "Rw5NJeTk-olb",
        "colab": {
          "base_uri": "https://localhost:8080/"
        },
        "outputId": "d6b87ccb-e44c-481b-a2db-78bd0c88a086"
      },
      "execution_count": 19,
      "outputs": [
        {
          "output_type": "stream",
          "name": "stdout",
          "text": [
            "30\n",
            "25\n"
          ]
        }
      ]
    },
    {
      "cell_type": "markdown",
      "source": [
        "27. Create a program that generates a list of squares of odd numbers between 1 and 10 using list\n",
        "comprehension."
      ],
      "metadata": {
        "id": "M39kjHGZ-o6D"
      }
    },
    {
      "cell_type": "code",
      "source": [
        "squares=[i**2 for i in range(1,11) if i %2==0]\n",
        "squares"
      ],
      "metadata": {
        "id": "2HPrG_MO-tAf",
        "colab": {
          "base_uri": "https://localhost:8080/"
        },
        "outputId": "fe570b01-0f20-45d6-9943-c0b7b3515f30"
      },
      "execution_count": null,
      "outputs": [
        {
          "output_type": "execute_result",
          "data": {
            "text/plain": [
              "[4, 16, 36, 64, 100]"
            ]
          },
          "metadata": {},
          "execution_count": 47
        }
      ]
    },
    {
      "cell_type": "markdown",
      "source": [
        "28. Write a program that combines two lists into a dictionary using list comprehension."
      ],
      "metadata": {
        "id": "kk9f8QwM-trU"
      }
    },
    {
      "cell_type": "code",
      "source": [
        "l1 = [1, 2, 3, 4]\n",
        "l2 = ['a', 'b', 'c', 'd']\n",
        "\n",
        "d = {i: j for i, j in zip(l1, l2)}\n",
        "\n",
        "print(d)\n",
        "\n"
      ],
      "metadata": {
        "id": "TOCCnCX_-yoa",
        "colab": {
          "base_uri": "https://localhost:8080/"
        },
        "outputId": "23fab9d1-fe6c-4ee3-8a21-2a53776e3504"
      },
      "execution_count": null,
      "outputs": [
        {
          "output_type": "stream",
          "name": "stdout",
          "text": [
            "{1: 'a', 2: 'b', 3: 'c', 4: 'd'}\n"
          ]
        }
      ]
    },
    {
      "cell_type": "markdown",
      "source": [
        "29. Develop a program that extracts the vowels from a string and stores them in a list using list comprehension."
      ],
      "metadata": {
        "id": "yhtxxXbM-y7a"
      }
    },
    {
      "cell_type": "code",
      "source": [
        "vowels='aeiou'\n",
        "string='rohan'\n",
        "\n",
        "l=[i for i in string if i in vowels]\n",
        "l"
      ],
      "metadata": {
        "id": "ebXgXYnq-2zA",
        "colab": {
          "base_uri": "https://localhost:8080/"
        },
        "outputId": "1d6f8c09-eb5f-4dfa-ce4f-a09d3240deb5"
      },
      "execution_count": null,
      "outputs": [
        {
          "output_type": "execute_result",
          "data": {
            "text/plain": [
              "['o', 'a']"
            ]
          },
          "metadata": {},
          "execution_count": 1
        }
      ]
    },
    {
      "cell_type": "markdown",
      "source": [
        "30.Create a program that removes all non-numeric characters from a list of strings using list comprehension."
      ],
      "metadata": {
        "id": "ZN1S8HQW-3aC"
      }
    },
    {
      "cell_type": "code",
      "source": [
        "l=['rohan',1,2,3,4]\n",
        "l2=[i for i in l if type(i)==int]\n",
        "l=l2\n",
        "print(l)\n"
      ],
      "metadata": {
        "id": "uF5fCQCI--Kc",
        "colab": {
          "base_uri": "https://localhost:8080/"
        },
        "outputId": "7d5d678a-464a-4538-b502-f5c7e584754d"
      },
      "execution_count": 71,
      "outputs": [
        {
          "output_type": "stream",
          "name": "stdout",
          "text": [
            "[1, 2, 3, 4]\n"
          ]
        }
      ]
    },
    {
      "cell_type": "markdown",
      "source": [
        "#Challenge Level:"
      ],
      "metadata": {
        "id": "w7YB3egD_GeZ"
      }
    },
    {
      "cell_type": "markdown",
      "source": [
        "31.Write a program to generate a list of prime numbers using the Sieve of Eratosthenes algorithm and list\n",
        "comprehension."
      ],
      "metadata": {
        "id": "CPUfU_W7_QY6"
      }
    },
    {
      "cell_type": "code",
      "source": [],
      "metadata": {
        "id": "v3ABu4cd_ScZ"
      },
      "execution_count": null,
      "outputs": []
    },
    {
      "cell_type": "markdown",
      "source": [
        "32. Create a program that generates a list of all Pythagorean triplets up to a specified limit using list\n",
        "comprehension."
      ],
      "metadata": {
        "id": "Wdk3a4DE_Rx8"
      }
    },
    {
      "cell_type": "code",
      "source": [],
      "metadata": {
        "id": "-kK4i1Y5_hYG"
      },
      "execution_count": null,
      "outputs": []
    },
    {
      "cell_type": "markdown",
      "source": [
        "33. Develop a program that generates a list of all possible combinations of two lists using list comprehension."
      ],
      "metadata": {
        "id": "zElhB45R_hmF"
      }
    },
    {
      "cell_type": "code",
      "source": [
        "l1=[1,2,3,4]\n",
        "l2=[5,6,7,8]\n",
        "\n",
        "\n",
        "l = [[(j,i) for j in l1] for i in l2]\n",
        "\n",
        "print(l)\n",
        "\n"
      ],
      "metadata": {
        "id": "Shnfrtfr_mR9",
        "colab": {
          "base_uri": "https://localhost:8080/"
        },
        "outputId": "7b404436-7c63-46e0-d25c-f1d56dc984fd"
      },
      "execution_count": 24,
      "outputs": [
        {
          "output_type": "stream",
          "name": "stdout",
          "text": [
            "[[(1, 5), (2, 5), (3, 5), (4, 5)], [(1, 6), (2, 6), (3, 6), (4, 6)], [(1, 7), (2, 7), (3, 7), (4, 7)], [(1, 8), (2, 8), (3, 8), (4, 8)]]\n"
          ]
        }
      ]
    },
    {
      "cell_type": "markdown",
      "source": [
        "34. Write a program that calculates the mean, median, and mode of a list of numbers using list\n",
        "comprehension."
      ],
      "metadata": {
        "id": "U_9kRhV__mrm"
      }
    },
    {
      "cell_type": "code",
      "source": [
        "l=[1,2,3,4,5,6,7,8,9,10]\n",
        "\n",
        "mean=[sum(l)/len(l)]\n",
        "print(mean)\n",
        "\n",
        "\n"
      ],
      "metadata": {
        "id": "tRzPI--M_r-7",
        "colab": {
          "base_uri": "https://localhost:8080/"
        },
        "outputId": "2ee2ae3f-8f68-4dc5-bd10-3988c7efa7c4"
      },
      "execution_count": 25,
      "outputs": [
        {
          "output_type": "stream",
          "name": "stdout",
          "text": [
            "[5.5]\n"
          ]
        }
      ]
    },
    {
      "cell_type": "markdown",
      "source": [
        "35.Create a program that generates Pascal's triangle up to a specified number of rows using list\n",
        "comprehension."
      ],
      "metadata": {
        "id": "pKJvLV1G_tIM"
      }
    },
    {
      "cell_type": "code",
      "source": [],
      "metadata": {
        "id": "FYLdnicG_0gq"
      },
      "execution_count": null,
      "outputs": []
    },
    {
      "cell_type": "markdown",
      "source": [
        "36. Develop a program that calculates the sum of the digits of a factorial of numbers from 1 to 5 using list\n",
        "comprehension."
      ],
      "metadata": {
        "id": "ZeNRawaa_0y-"
      }
    },
    {
      "cell_type": "code",
      "source": [
        "def factorial(num):\n",
        "  sum=0\n",
        "  s=1\n",
        "  for i in range(1,num+1):\n",
        "    s*=i\n",
        "  for i in str(s):\n",
        "    sum+=int(i)\n",
        "  return sum\n",
        "\n",
        "l=[factorial(i) for i in range(1,5+1)]\n",
        "print(l)\n",
        "\n"
      ],
      "metadata": {
        "colab": {
          "base_uri": "https://localhost:8080/"
        },
        "id": "kJqt_QtRdc3s",
        "outputId": "24db6d0f-1cd3-409c-c386-91452d0c8126"
      },
      "execution_count": 67,
      "outputs": [
        {
          "output_type": "stream",
          "name": "stdout",
          "text": [
            "[1, 2, 6, 6, 3]\n"
          ]
        }
      ]
    },
    {
      "cell_type": "code",
      "source": [
        "\n"
      ],
      "metadata": {
        "id": "B6EIaw6J_43n"
      },
      "execution_count": null,
      "outputs": []
    },
    {
      "cell_type": "markdown",
      "source": [
        "37. Write a program that finds the longest word in a sentence using list comprehension."
      ],
      "metadata": {
        "id": "XZLRZsDq_5l-"
      }
    },
    {
      "cell_type": "code",
      "source": [
        "sentence='helloo my name is rohannnnn'\n",
        "a=sentence.split()\n",
        "l=[len(i) for i in a]\n",
        "index=l.index(max(l))\n",
        "print('the longest element in a list is ',a[index])\n",
        "\n",
        "\n"
      ],
      "metadata": {
        "id": "uBkwHaz9AAF4",
        "colab": {
          "base_uri": "https://localhost:8080/"
        },
        "outputId": "6c689972-d7fa-4ae1-860e-985ec095beb2"
      },
      "execution_count": null,
      "outputs": [
        {
          "output_type": "stream",
          "name": "stdout",
          "text": [
            "the longest element in a list is  rohannnnn\n"
          ]
        }
      ]
    },
    {
      "cell_type": "markdown",
      "source": [
        "38.Create a program that filters a list of strings to include only those with more than three vowels using list\n",
        "comprehension"
      ],
      "metadata": {
        "id": "-PiixAmQAA2n"
      }
    },
    {
      "cell_type": "code",
      "source": [
        "string=['rohan','sohan','aniket']\n",
        "l=[]\n",
        "\n",
        "def func(name):\n",
        "  count=0\n",
        "  for i in name:\n",
        "    if i in 'aeiou':\n",
        "      count+=1\n",
        "  if count>=3:\n",
        "    return True\n",
        "\n",
        "l=[i for i in string if func(i)==True]\n",
        "print(l)"
      ],
      "metadata": {
        "id": "tp7OEdTBAG01",
        "colab": {
          "base_uri": "https://localhost:8080/"
        },
        "outputId": "b9c722cc-024e-495a-8070-abd8f2412eca"
      },
      "execution_count": 39,
      "outputs": [
        {
          "output_type": "stream",
          "name": "stdout",
          "text": [
            "['aniket']\n"
          ]
        }
      ]
    },
    {
      "cell_type": "markdown",
      "source": [
        "39. Develop a program that calculates the sum of the digits of numbers from 1 to 1000 using list\n",
        "comprehension."
      ],
      "metadata": {
        "id": "D7YUNDQPAJ51"
      }
    },
    {
      "cell_type": "code",
      "source": [
        "def sumofdigit(num):\n",
        "  a=str(num)\n",
        "  sum=0\n",
        "  for i in a :\n",
        "    sum+=int(i)\n",
        "  return sum\n",
        "\n",
        "l=[sumofdigit(i) for i in range(1,1001)]\n",
        "print(l)\n",
        "\n",
        "\n",
        "\n"
      ],
      "metadata": {
        "id": "dZwfLpnssjPA",
        "colab": {
          "base_uri": "https://localhost:8080/"
        },
        "outputId": "ae8766d7-ad33-4ef6-d694-75ef32352414"
      },
      "execution_count": 48,
      "outputs": [
        {
          "output_type": "stream",
          "name": "stdout",
          "text": [
            "[1, 2, 3, 4, 5, 6, 7, 8, 9, 1, 2, 3, 4, 5, 6, 7, 8, 9, 10, 2, 3, 4, 5, 6, 7, 8, 9, 10, 11, 3, 4, 5, 6, 7, 8, 9, 10, 11, 12, 4, 5, 6, 7, 8, 9, 10, 11, 12, 13, 5, 6, 7, 8, 9, 10, 11, 12, 13, 14, 6, 7, 8, 9, 10, 11, 12, 13, 14, 15, 7, 8, 9, 10, 11, 12, 13, 14, 15, 16, 8, 9, 10, 11, 12, 13, 14, 15, 16, 17, 9, 10, 11, 12, 13, 14, 15, 16, 17, 18, 1, 2, 3, 4, 5, 6, 7, 8, 9, 10, 2, 3, 4, 5, 6, 7, 8, 9, 10, 11, 3, 4, 5, 6, 7, 8, 9, 10, 11, 12, 4, 5, 6, 7, 8, 9, 10, 11, 12, 13, 5, 6, 7, 8, 9, 10, 11, 12, 13, 14, 6, 7, 8, 9, 10, 11, 12, 13, 14, 15, 7, 8, 9, 10, 11, 12, 13, 14, 15, 16, 8, 9, 10, 11, 12, 13, 14, 15, 16, 17, 9, 10, 11, 12, 13, 14, 15, 16, 17, 18, 10, 11, 12, 13, 14, 15, 16, 17, 18, 19, 2, 3, 4, 5, 6, 7, 8, 9, 10, 11, 3, 4, 5, 6, 7, 8, 9, 10, 11, 12, 4, 5, 6, 7, 8, 9, 10, 11, 12, 13, 5, 6, 7, 8, 9, 10, 11, 12, 13, 14, 6, 7, 8, 9, 10, 11, 12, 13, 14, 15, 7, 8, 9, 10, 11, 12, 13, 14, 15, 16, 8, 9, 10, 11, 12, 13, 14, 15, 16, 17, 9, 10, 11, 12, 13, 14, 15, 16, 17, 18, 10, 11, 12, 13, 14, 15, 16, 17, 18, 19, 11, 12, 13, 14, 15, 16, 17, 18, 19, 20, 3, 4, 5, 6, 7, 8, 9, 10, 11, 12, 4, 5, 6, 7, 8, 9, 10, 11, 12, 13, 5, 6, 7, 8, 9, 10, 11, 12, 13, 14, 6, 7, 8, 9, 10, 11, 12, 13, 14, 15, 7, 8, 9, 10, 11, 12, 13, 14, 15, 16, 8, 9, 10, 11, 12, 13, 14, 15, 16, 17, 9, 10, 11, 12, 13, 14, 15, 16, 17, 18, 10, 11, 12, 13, 14, 15, 16, 17, 18, 19, 11, 12, 13, 14, 15, 16, 17, 18, 19, 20, 12, 13, 14, 15, 16, 17, 18, 19, 20, 21, 4, 5, 6, 7, 8, 9, 10, 11, 12, 13, 5, 6, 7, 8, 9, 10, 11, 12, 13, 14, 6, 7, 8, 9, 10, 11, 12, 13, 14, 15, 7, 8, 9, 10, 11, 12, 13, 14, 15, 16, 8, 9, 10, 11, 12, 13, 14, 15, 16, 17, 9, 10, 11, 12, 13, 14, 15, 16, 17, 18, 10, 11, 12, 13, 14, 15, 16, 17, 18, 19, 11, 12, 13, 14, 15, 16, 17, 18, 19, 20, 12, 13, 14, 15, 16, 17, 18, 19, 20, 21, 13, 14, 15, 16, 17, 18, 19, 20, 21, 22, 5, 6, 7, 8, 9, 10, 11, 12, 13, 14, 6, 7, 8, 9, 10, 11, 12, 13, 14, 15, 7, 8, 9, 10, 11, 12, 13, 14, 15, 16, 8, 9, 10, 11, 12, 13, 14, 15, 16, 17, 9, 10, 11, 12, 13, 14, 15, 16, 17, 18, 10, 11, 12, 13, 14, 15, 16, 17, 18, 19, 11, 12, 13, 14, 15, 16, 17, 18, 19, 20, 12, 13, 14, 15, 16, 17, 18, 19, 20, 21, 13, 14, 15, 16, 17, 18, 19, 20, 21, 22, 14, 15, 16, 17, 18, 19, 20, 21, 22, 23, 6, 7, 8, 9, 10, 11, 12, 13, 14, 15, 7, 8, 9, 10, 11, 12, 13, 14, 15, 16, 8, 9, 10, 11, 12, 13, 14, 15, 16, 17, 9, 10, 11, 12, 13, 14, 15, 16, 17, 18, 10, 11, 12, 13, 14, 15, 16, 17, 18, 19, 11, 12, 13, 14, 15, 16, 17, 18, 19, 20, 12, 13, 14, 15, 16, 17, 18, 19, 20, 21, 13, 14, 15, 16, 17, 18, 19, 20, 21, 22, 14, 15, 16, 17, 18, 19, 20, 21, 22, 23, 15, 16, 17, 18, 19, 20, 21, 22, 23, 24, 7, 8, 9, 10, 11, 12, 13, 14, 15, 16, 8, 9, 10, 11, 12, 13, 14, 15, 16, 17, 9, 10, 11, 12, 13, 14, 15, 16, 17, 18, 10, 11, 12, 13, 14, 15, 16, 17, 18, 19, 11, 12, 13, 14, 15, 16, 17, 18, 19, 20, 12, 13, 14, 15, 16, 17, 18, 19, 20, 21, 13, 14, 15, 16, 17, 18, 19, 20, 21, 22, 14, 15, 16, 17, 18, 19, 20, 21, 22, 23, 15, 16, 17, 18, 19, 20, 21, 22, 23, 24, 16, 17, 18, 19, 20, 21, 22, 23, 24, 25, 8, 9, 10, 11, 12, 13, 14, 15, 16, 17, 9, 10, 11, 12, 13, 14, 15, 16, 17, 18, 10, 11, 12, 13, 14, 15, 16, 17, 18, 19, 11, 12, 13, 14, 15, 16, 17, 18, 19, 20, 12, 13, 14, 15, 16, 17, 18, 19, 20, 21, 13, 14, 15, 16, 17, 18, 19, 20, 21, 22, 14, 15, 16, 17, 18, 19, 20, 21, 22, 23, 15, 16, 17, 18, 19, 20, 21, 22, 23, 24, 16, 17, 18, 19, 20, 21, 22, 23, 24, 25, 17, 18, 19, 20, 21, 22, 23, 24, 25, 26, 9, 10, 11, 12, 13, 14, 15, 16, 17, 18, 10, 11, 12, 13, 14, 15, 16, 17, 18, 19, 11, 12, 13, 14, 15, 16, 17, 18, 19, 20, 12, 13, 14, 15, 16, 17, 18, 19, 20, 21, 13, 14, 15, 16, 17, 18, 19, 20, 21, 22, 14, 15, 16, 17, 18, 19, 20, 21, 22, 23, 15, 16, 17, 18, 19, 20, 21, 22, 23, 24, 16, 17, 18, 19, 20, 21, 22, 23, 24, 25, 17, 18, 19, 20, 21, 22, 23, 24, 25, 26, 18, 19, 20, 21, 22, 23, 24, 25, 26, 27, 1]\n"
          ]
        }
      ]
    },
    {
      "cell_type": "markdown",
      "source": [
        "40. Write a program that generates a list of prime palindromic numbers using list comprehension."
      ],
      "metadata": {
        "id": "9qNCdbK6ANG3"
      }
    },
    {
      "cell_type": "code",
      "source": [
        "import sympy as s\n",
        "\n",
        "\n",
        "def is_palindrome(num):\n",
        "    num_str = str(num)\n",
        "    return num_str == num_str[::-1]\n",
        "\n",
        "def primepalindrome(num):\n",
        "  if s.isprime(num) and is_palindrome(num):\n",
        "    return True\n",
        "\n",
        "l=[i for i in range(1,1000) if primepalindrome(i) if len(str(i))>1]\n",
        "print(l)\n"
      ],
      "metadata": {
        "id": "exE7xYivAVIi",
        "colab": {
          "base_uri": "https://localhost:8080/"
        },
        "outputId": "bd6595b1-3110-4d19-d632-62cab96eb4bb"
      },
      "execution_count": 58,
      "outputs": [
        {
          "output_type": "stream",
          "name": "stdout",
          "text": [
            "[11, 101, 131, 151, 181, 191, 313, 353, 373, 383, 727, 757, 787, 797, 919, 929]\n"
          ]
        }
      ]
    },
    {
      "cell_type": "code",
      "source": [],
      "metadata": {
        "id": "teChGTkMUAuY"
      },
      "execution_count": null,
      "outputs": []
    }
  ]
}