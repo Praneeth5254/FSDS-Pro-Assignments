{
 "cells": [
  {
   "cell_type": "markdown",
   "metadata": {},
   "source": [
    "1.What is a python libary? Why do we use Python libaries?"
   ]
  },
  {
   "cell_type": "code",
   "execution_count": 73,
   "metadata": {},
   "outputs": [
    {
     "data": {
      "text/plain": [
       "'Python libaries consist of various pre written code and functions helps in \\nbuilding our projects and helps programmer focus of buisness problem rather than \\nwrite code from scratch for it.\\n\\nThis python libaries developed and maintained by python community there are various types \\nof python libaries present for diffrent fields like for data analysis, web development and  mashine learning.\\nand Ai and much more. \\n\\nWhy do we use Python libaries\\n\\n1.Libaries contain pre written code that we can reuse in diffrent project without writting it from \\nscratch \\n2.It saves time and increase productivity.\\n3.This libaries are well optimized and maintained libaries provided \\nquality ready to use code for development.\\n4.There is a well written documentation for every libaries so it is easy to read \\nand implement code. '"
      ]
     },
     "execution_count": 73,
     "metadata": {},
     "output_type": "execute_result"
    }
   ],
   "source": [
    "'''Python libaries consist of various pre written code and functions helps in \n",
    "building our projects and helps programmer focus of buisness problem rather than \n",
    "write code from scratch for it.\n",
    "\n",
    "This python libaries developed and maintained by python community there are various types \n",
    "of python libaries present for diffrent fields like for data analysis, web development and  mashine learning.\n",
    "and Ai and much more. \n",
    "\n",
    "Why do we use Python libaries\n",
    "\n",
    "1.Libaries contain pre written code that we can reuse in diffrent project without writting it from \n",
    "scratch \n",
    "2.It saves time and increase productivity.\n",
    "3.This libaries are well optimized and maintained libaries provided \n",
    "quality ready to use code for development.\n",
    "4.There is a well written documentation for every libaries so it is easy to read \n",
    "and implement code. '''\n",
    "\n",
    "\n"
   ]
  },
  {
   "cell_type": "markdown",
   "metadata": {},
   "source": [
    "2.What is the diffrence between Numpy array and List?"
   ]
  },
  {
   "cell_type": "code",
   "execution_count": 74,
   "metadata": {},
   "outputs": [
    {
     "data": {
      "text/plain": [
       "'Numpy array \\n\\n1.Then are homogenious means store only one type of data.\\n2.Numpy arrays store data in contiguous memory blocks.\\n3.Numpy array are fast and perform better on numerical data.\\n4.Numpy array consist of more prebuild functions than list used to perform \\ndata manuplation.\\n\\nPython List\\n\\n1.List stores diffrent types of data like string and int.\\n2.Python list store references to object in memory.\\n3.List are little slow than array.\\n4.As compare to array list consist of less number of predefined functions.\\n'"
      ]
     },
     "execution_count": 74,
     "metadata": {},
     "output_type": "execute_result"
    }
   ],
   "source": [
    "'''Numpy array \n",
    "\n",
    "1.Then are homogenious means store only one type of data.\n",
    "2.Numpy arrays store data in contiguous memory blocks.\n",
    "3.Numpy array are fast and perform better on numerical data.\n",
    "4.Numpy array consist of more prebuild functions than list used to perform \n",
    "data manuplation.\n",
    "\n",
    "Python List\n",
    "\n",
    "1.List stores diffrent types of data like string and int.\n",
    "2.Python list store references to object in memory.\n",
    "3.List are little slow than array.\n",
    "4.As compare to array list consist of less number of predefined functions.\n",
    "'''"
   ]
  },
  {
   "cell_type": "markdown",
   "metadata": {},
   "source": [
    "3.Find the shape, size and dimension of the following array?\n",
    "\n",
    "[[1,2,3,4],\n",
    "[5,6,7,8],\n",
    "[9,10,11,12]]"
   ]
  },
  {
   "cell_type": "code",
   "execution_count": 75,
   "metadata": {},
   "outputs": [
    {
     "name": "stdout",
     "output_type": "stream",
     "text": [
      "(3, 4)\n"
     ]
    }
   ],
   "source": [
    "import numpy as np \n",
    "\n",
    "matrix=[[1,2,3,4],[5,6,7,8],[9,10,11,12]]\n",
    "print(np.array(matrix).shape)\n",
    "\n"
   ]
  },
  {
   "cell_type": "markdown",
   "metadata": {},
   "source": [
    "4.Write python code to access the first row of the following array?\n",
    "[[1,2,3,4],\n",
    "[5,6,7,8],\n",
    "[9,10,11,12]]"
   ]
  },
  {
   "cell_type": "code",
   "execution_count": 76,
   "metadata": {},
   "outputs": [
    {
     "name": "stdout",
     "output_type": "stream",
     "text": [
      "[1, 2, 3, 4]\n"
     ]
    }
   ],
   "source": [
    "arr = [[1,2,3,4],[5,6,7,8],[9,10,11,12]]\n",
    "print(arr[0])"
   ]
  },
  {
   "cell_type": "markdown",
   "metadata": {},
   "source": [
    "5.How do you access the element at the third row and fourth column from the given numpy array?\n",
    "[[1,2,3,4],\n",
    "[5,6,7,8],\n",
    "[9,10,11,12]]"
   ]
  },
  {
   "cell_type": "code",
   "execution_count": 77,
   "metadata": {},
   "outputs": [
    {
     "name": "stdout",
     "output_type": "stream",
     "text": [
      "12\n"
     ]
    }
   ],
   "source": [
    "arr =[[1,2,3,4],[5,6,7,8],[9,10,11,12]]\n",
    "\n",
    "print((arr[2])[3])"
   ]
  },
  {
   "cell_type": "markdown",
   "metadata": {},
   "source": [
    "6.Write code to extract all odd-indexed element from the given numpy array?\n",
    "[[1,2,3,4],\n",
    "[5,6,7,8],\n",
    "[9,10,11,12]]"
   ]
  },
  {
   "cell_type": "code",
   "execution_count": 78,
   "metadata": {},
   "outputs": [
    {
     "data": {
      "text/plain": [
       "array([[ 2,  4],\n",
       "       [ 6,  8],\n",
       "       [10, 12]])"
      ]
     },
     "execution_count": 78,
     "metadata": {},
     "output_type": "execute_result"
    }
   ],
   "source": [
    "odd_nums = []\n",
    "\n",
    "arr = [[1,2,3,4],\n",
    "[5,6,7,8],\n",
    "[9,10,11,12]]\n",
    "\n",
    "a = np.array(arr)\n",
    "a[:,1::2]\n"
   ]
  },
  {
   "cell_type": "markdown",
   "metadata": {},
   "source": [
    "7.How can you generate a random 3x3 matrix with values between 0 and 1?"
   ]
  },
  {
   "cell_type": "code",
   "execution_count": 79,
   "metadata": {},
   "outputs": [
    {
     "data": {
      "text/plain": [
       "array([[0.49732467, 0.57542257, 0.82472612],\n",
       "       [0.64105532, 0.71194158, 0.34202482],\n",
       "       [0.78401654, 0.96362978, 0.92938842]])"
      ]
     },
     "execution_count": 79,
     "metadata": {},
     "output_type": "execute_result"
    }
   ],
   "source": [
    "import numpy as np \n",
    "\n",
    "\n",
    "matrix = np.random.rand(3,3)\n",
    "matrix"
   ]
  },
  {
   "cell_type": "markdown",
   "metadata": {},
   "source": [
    "8.Describe the diffrence between np.random.rand and np.randn ?"
   ]
  },
  {
   "cell_type": "code",
   "execution_count": 80,
   "metadata": {},
   "outputs": [
    {
     "data": {
      "text/plain": [
       "'1.Both produce random nubers but from diffrent distribution \\nThe np.random.rand() function generates random numbers from a \\nuniform distribution over the range [0, 1)\\n\\n2.we can get array of random numbers by giving dimensions as a argument.\\n\\n3.The np.random.randn() function generates random numbers from a \\nstandard normal distribution of mean = 0 and  standard deviation = 1\\n\\n'"
      ]
     },
     "execution_count": 80,
     "metadata": {},
     "output_type": "execute_result"
    }
   ],
   "source": [
    "'''1.Both produce random nubers but from diffrent distribution \n",
    "The np.random.rand() function generates random numbers from a \n",
    "uniform distribution over the range [0, 1)\n",
    "\n",
    "2.we can get array of random numbers by giving dimensions as a argument.\n",
    "\n",
    "3.The np.random.randn() function generates random numbers from a \n",
    "standard normal distribution of mean = 0 and  standard deviation = 1\n",
    "\n",
    "''' "
   ]
  },
  {
   "cell_type": "markdown",
   "metadata": {},
   "source": [
    "9.Write code to increase the dimension of the following array?\n",
    "\n",
    "[[1,2,3,4],\n",
    "[5,6,7,8],\n",
    "[9,10,11,12]]"
   ]
  },
  {
   "cell_type": "code",
   "execution_count": 81,
   "metadata": {},
   "outputs": [
    {
     "name": "stdout",
     "output_type": "stream",
     "text": [
      "Before 2\n",
      "After 3\n"
     ]
    }
   ],
   "source": [
    "arr = [[1,2,3,4],\n",
    "[5,6,7,8],\n",
    "[9,10,11,12]]\n",
    "\n",
    "print('Before',np.ndim(arr))\n",
    "\n",
    "arr2 = np.expand_dims(arr, axis=1)\n",
    "print('After',arr2.ndim)\n",
    "\n"
   ]
  },
  {
   "cell_type": "markdown",
   "metadata": {},
   "source": [
    "10.Consider the following matrix\n",
    "\n",
    "A:[[1,2,3,4],[5,6,7,8],[9,10,11,12]]\n",
    "B:[[1,2,3,4],[5,6,7,8],[9,10,11,12]]"
   ]
  },
  {
   "cell_type": "code",
   "execution_count": 82,
   "metadata": {},
   "outputs": [
    {
     "data": {
      "text/plain": [
       "array([[  1,   4,   9,  16],\n",
       "       [ 25,  36,  49,  64],\n",
       "       [ 81, 100, 121, 144]])"
      ]
     },
     "execution_count": 82,
     "metadata": {},
     "output_type": "execute_result"
    }
   ],
   "source": [
    "# 1.Index wise multiplication\n",
    "\n",
    "A=np.array([[1,2,3,4],[5,6,7,8],[9,10,11,12]])\n",
    "B=np.array([[1,2,3,4],[5,6,7,8],[9,10,11,12]])\n",
    "\n",
    "\n",
    "multip= A*B \n",
    "multip\n",
    "\n"
   ]
  },
  {
   "cell_type": "code",
   "execution_count": 83,
   "metadata": {},
   "outputs": [
    {
     "data": {
      "text/plain": [
       "array([[ 70,  80,  90],\n",
       "       [158, 184, 210],\n",
       "       [246, 288, 330]])"
      ]
     },
     "execution_count": 83,
     "metadata": {},
     "output_type": "execute_result"
    }
   ],
   "source": [
    "# 2.Matrix multiplication.\n",
    "\n",
    "ans = np.dot(A,B.reshape(4,3))\n",
    "ans "
   ]
  },
  {
   "cell_type": "code",
   "execution_count": 84,
   "metadata": {},
   "outputs": [
    {
     "data": {
      "text/plain": [
       "array([[ 2,  4,  6,  8],\n",
       "       [10, 12, 14, 16],\n",
       "       [18, 20, 22, 24]])"
      ]
     },
     "execution_count": 84,
     "metadata": {},
     "output_type": "execute_result"
    }
   ],
   "source": [
    "# 3. Add both the matrix \n",
    "\n",
    "ans  = A+B\n",
    "ans"
   ]
  },
  {
   "cell_type": "code",
   "execution_count": 85,
   "metadata": {},
   "outputs": [
    {
     "data": {
      "text/plain": [
       "array([[0, 0, 0, 0],\n",
       "       [0, 0, 0, 0],\n",
       "       [0, 0, 0, 0]])"
      ]
     },
     "execution_count": 85,
     "metadata": {},
     "output_type": "execute_result"
    }
   ],
   "source": [
    "# 4.Subtract matrix B from A \n",
    "\n",
    "ans = A-B\n",
    "ans "
   ]
  },
  {
   "cell_type": "code",
   "execution_count": 86,
   "metadata": {},
   "outputs": [
    {
     "data": {
      "text/plain": [
       "array([[1., 1., 1., 1.],\n",
       "       [1., 1., 1., 1.],\n",
       "       [1., 1., 1., 1.]])"
      ]
     },
     "execution_count": 86,
     "metadata": {},
     "output_type": "execute_result"
    }
   ],
   "source": [
    "# 5.Divide Matrix B by A. \n",
    "\n",
    "ans = B/A\n",
    "ans "
   ]
  },
  {
   "cell_type": "markdown",
   "metadata": {},
   "source": [
    "12.which function in numpy can be used to swap the byte order of an array?"
   ]
  },
  {
   "cell_type": "code",
   "execution_count": 87,
   "metadata": {},
   "outputs": [
    {
     "data": {
      "text/plain": [
       "'np.ndarray.byteswap() This function used to swap the byte \\norder of an array in numpy'"
      ]
     },
     "execution_count": 87,
     "metadata": {},
     "output_type": "execute_result"
    }
   ],
   "source": [
    "'''np.ndarray.byteswap() This function used to swap the byte \n",
    "order of an array in numpy'''"
   ]
  },
  {
   "cell_type": "markdown",
   "metadata": {},
   "source": [
    "13.what is the signification of the np.linalg.inv function?"
   ]
  },
  {
   "cell_type": "code",
   "execution_count": 88,
   "metadata": {},
   "outputs": [
    {
     "data": {
      "text/plain": [
       "'The np.linalg.inv function in numpy used to calculate inverse of a matrix\\nthis function used in solving system of linear equations finding determinant and performing \\ntransformations.'"
      ]
     },
     "execution_count": 88,
     "metadata": {},
     "output_type": "execute_result"
    }
   ],
   "source": [
    "'''The np.linalg.inv function in numpy used to calculate inverse of a matrix\n",
    "this function used in solving system of linear equations finding determinant and performing \n",
    "transformations.'''"
   ]
  },
  {
   "cell_type": "markdown",
   "metadata": {},
   "source": [
    "14.What does the np.reshape function do, and how is it used?"
   ]
  },
  {
   "cell_type": "code",
   "execution_count": 89,
   "metadata": {},
   "outputs": [
    {
     "data": {
      "text/plain": [
       "'np.reshape function change the shape of array into desired form without changing the data \\nit rearrange elements of array into new shape we want\\nwe have to specify the shape \\n\\n\\nTo use this we have to simply import numpy and then use as a \\nnp.reshape(array_name,(n,m))\\nm is number of columns \\nn is number of rows'"
      ]
     },
     "execution_count": 89,
     "metadata": {},
     "output_type": "execute_result"
    }
   ],
   "source": [
    "'''np.reshape function change the shape of array into desired form without changing the data \n",
    "it rearrange elements of array into new shape we want\n",
    "we have to specify the shape \n",
    "\n",
    "\n",
    "To use this we have to simply import numpy and then use as a \n",
    "np.reshape(array_name,(n,m))\n",
    "m is number of columns \n",
    "n is number of rows'''"
   ]
  },
  {
   "cell_type": "markdown",
   "metadata": {},
   "source": [
    "15.what is broadcasting in Numpy?"
   ]
  },
  {
   "cell_type": "code",
   "execution_count": 90,
   "metadata": {},
   "outputs": [
    {
     "data": {
      "text/plain": [
       "'With broadcasting in numpy array means we can able to perform arthimatics \\noperations on two array like addition subtraction multiplication and division \\nThe array may be of diffrent shapes but compatable to each other to perform \\nbroadcasting.'"
      ]
     },
     "execution_count": 90,
     "metadata": {},
     "output_type": "execute_result"
    }
   ],
   "source": [
    "'''With broadcasting in numpy array means we can able to perform arthimatics \n",
    "operations on two array like addition subtraction multiplication and division \n",
    "The array may be of diffrent shapes but compatable to each other to perform \n",
    "broadcasting.'''\n"
   ]
  }
 ],
 "metadata": {
  "kernelspec": {
   "display_name": "Python 3",
   "language": "python",
   "name": "python3"
  },
  "language_info": {
   "codemirror_mode": {
    "name": "ipython",
    "version": 3
   },
   "file_extension": ".py",
   "mimetype": "text/x-python",
   "name": "python",
   "nbconvert_exporter": "python",
   "pygments_lexer": "ipython3",
   "version": "3.8.10"
  }
 },
 "nbformat": 4,
 "nbformat_minor": 2
}
