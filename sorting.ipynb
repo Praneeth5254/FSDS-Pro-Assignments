{
 "cells": [
  {
   "cell_type": "markdown",
   "metadata": {},
   "source": [
    "Problem 1.Given an array of n numbers, give an algorithm which gives the element appearing maximum\n",
    "number of times?"
   ]
  },
  {
   "cell_type": "code",
   "execution_count": 112,
   "metadata": {},
   "outputs": [
    {
     "data": {
      "text/plain": [
       "'2 comes maximum times'"
      ]
     },
     "execution_count": 112,
     "metadata": {},
     "output_type": "execute_result"
    }
   ],
   "source": [
    "arr=[1,2,2,2,3,4,5,6]\n",
    "\n",
    "def func0(arr):\n",
    "    d={}\n",
    "    for i in arr:\n",
    "        d[i]=arr.count(i)\n",
    "    a=max(d.values())\n",
    "    result=[]\n",
    "    for k,v in d.items():\n",
    "        if v == a:\n",
    "            result.append(k)\n",
    "    return f'{result[0]} comes maximum times'\n",
    "\n",
    "func0(arr)\n"
   ]
  },
  {
   "cell_type": "markdown",
   "metadata": {},
   "source": [
    "Problem 2 : We are given a list of n-1 integers and these integers are in the range of 1 to n . There are no\n",
    "duplicates in the list. One of the integers is missing in the list. Give an algorithm to find that element Ex:\n",
    "[1,2,4,6,3,7,8] 5 is the missing num."
   ]
  },
  {
   "cell_type": "code",
   "execution_count": 10,
   "metadata": {},
   "outputs": [
    {
     "data": {
      "text/plain": [
       "'5 is the missing number'"
      ]
     },
     "execution_count": 10,
     "metadata": {},
     "output_type": "execute_result"
    }
   ],
   "source": [
    "def find_missing(arr):\n",
    "    missing=[]\n",
    "    for i in range(1,len(arr)+1):\n",
    "        if i in arr:\n",
    "            pass\n",
    "        else:\n",
    "            missing.append(i)\n",
    "    return f'{missing[0]} is the missing number'\n",
    "\n",
    "find_missing([1,2,4,6,3,7,8])"
   ]
  },
  {
   "cell_type": "markdown",
   "metadata": {},
   "source": [
    "Problem 3 : Given an array of n positive numbers. All numbers occurs even number of times except 1 which\n",
    "occurs odd number of times. Find that number in O(n) time and O(1) space. Ex: [1,2,3,2,3,1,3]. 3 is repeats odd\n",
    "times."
   ]
  },
  {
   "cell_type": "code",
   "execution_count": null,
   "metadata": {},
   "outputs": [],
   "source": []
  },
  {
   "cell_type": "markdown",
   "metadata": {},
   "source": [
    "Problem 4 : Given an array of n elements. Find two elements in the array such that their sum is equal to given\n",
    "element K."
   ]
  },
  {
   "cell_type": "code",
   "execution_count": 46,
   "metadata": {},
   "outputs": [
    {
     "data": {
      "text/plain": [
       "(1, 5)"
      ]
     },
     "execution_count": 46,
     "metadata": {},
     "output_type": "execute_result"
    }
   ],
   "source": [
    "arr=[1,2,3,4,5,6,7,8]\n",
    "k=6\n",
    "def func(arr,k):\n",
    "    s=[]\n",
    "    for i in arr:\n",
    "        for j in arr:\n",
    "            if i+j == k and i!=j:\n",
    "                s.append(i)\n",
    "                s.append(j)\n",
    "    if len(s)>=2:\n",
    "        return s[0],s[1]\n",
    "    else:\n",
    "        return 'No element found'          \n",
    "func(arr,k)"
   ]
  },
  {
   "cell_type": "markdown",
   "metadata": {},
   "source": [
    "Problem 5 : Given an array of both positive and negative numbers, find two numbers such that their sum is\n",
    "closest to 0. Ex: [ 1 ,60 ,-10, 70, -80,85]. Ans : -80,85."
   ]
  },
  {
   "cell_type": "code",
   "execution_count": 135,
   "metadata": {},
   "outputs": [
    {
     "data": {
      "text/plain": [
       "[85, -80]"
      ]
     },
     "execution_count": 135,
     "metadata": {},
     "output_type": "execute_result"
    }
   ],
   "source": [
    "def func6(arr):\n",
    "    d={}\n",
    "    for i in arr:\n",
    "        for j in arr:\n",
    "            if i!=j:\n",
    "                d[abs(i+j)]=list((i,j))\n",
    "   \n",
    "    for k,v in d.items():\n",
    "        if (k)==min(d.keys()):\n",
    "            return v \n",
    "\n",
    "arr=[ 1 ,60 ,-10, 70, -80,85]\n",
    "func6(arr)\n",
    "\n",
    "\n"
   ]
  },
  {
   "cell_type": "markdown",
   "metadata": {},
   "source": [
    "Problem 6 : Given an array of n elements . Find three elements such that their sum is equal to the given\n",
    "number."
   ]
  },
  {
   "cell_type": "code",
   "execution_count": 49,
   "metadata": {},
   "outputs": [
    {
     "data": {
      "text/plain": [
       "(1, 2, 3)"
      ]
     },
     "execution_count": 49,
     "metadata": {},
     "output_type": "execute_result"
    }
   ],
   "source": [
    "arr=[1,2,3,4,5,6,7,8]\n",
    "n=10\n",
    "def func(arr,n):\n",
    "    s=[]\n",
    "    for i in arr:\n",
    "        for j in arr:\n",
    "            for k in arr:\n",
    "                if i+j+k == n and i!=j and i!=k and j!=k:\n",
    "                    s.append(i)\n",
    "                    s.append(j)\n",
    "                    s.append(k)\n",
    "    if len(s)>=3:\n",
    "        return s[0],s[1],s[2]\n",
    "    else:\n",
    "        return 'No element found'          \n",
    "func(arr,k)"
   ]
  },
  {
   "cell_type": "markdown",
   "metadata": {},
   "source": [
    "Problem 7 : Given an array of n elements . Find three elements i, j, k in the array such that\n",
    "i * i + j * j = k*k."
   ]
  },
  {
   "cell_type": "code",
   "execution_count": 52,
   "metadata": {},
   "outputs": [
    {
     "data": {
      "text/plain": [
       "(3, 4, 5)"
      ]
     },
     "execution_count": 52,
     "metadata": {},
     "output_type": "execute_result"
    }
   ],
   "source": [
    "arr=[1,2,3,4,5,6,7,8]\n",
    "\n",
    "def func(arr):\n",
    "    s=[]\n",
    "    for i in arr:\n",
    "        for j in arr:\n",
    "            for k in arr:\n",
    "                if i*i+j*j == k*k:\n",
    "                    s.append(i)\n",
    "                    s.append(j)\n",
    "                    s.append(k)\n",
    "    if len(s)>=3:\n",
    "        return s[0],s[1],s[2]\n",
    "    else:\n",
    "        return 'No element found'          \n",
    "func(arr)"
   ]
  },
  {
   "cell_type": "markdown",
   "metadata": {},
   "source": [
    "Problem 8 : An element is a majority if it appears more than n/2 times. Give an algorithm takes an array of n\n",
    "element as argument and identifies a majority (if it exists)."
   ]
  },
  {
   "cell_type": "code",
   "execution_count": 74,
   "metadata": {},
   "outputs": [
    {
     "data": {
      "text/plain": [
       "[2]"
      ]
     },
     "execution_count": 74,
     "metadata": {},
     "output_type": "execute_result"
    }
   ],
   "source": [
    "arr=[1,2,3,4,4,4,2,2,2,2,2]\n",
    "\n",
    "def func2(arr):\n",
    "\n",
    "    majority=[]\n",
    "    for i in arr:\n",
    "        if arr.count(i)>= len(arr)//2:\n",
    "            majority.append(i)\n",
    "    return list(set(majority))\n",
    "\n",
    "func2(arr)"
   ]
  },
  {
   "cell_type": "markdown",
   "metadata": {},
   "source": [
    "Problem 9 : Given n × n matrix, and in each row all 1’s are followed by 0’s. Find the row with the maximum\n",
    "number of 0’s."
   ]
  },
  {
   "cell_type": "code",
   "execution_count": 14,
   "metadata": {},
   "outputs": [
    {
     "data": {
      "text/plain": [
       "'[0, 0, 0, 0, 0] This rows on index 2 has maximum numbers of zeros'"
      ]
     },
     "execution_count": 14,
     "metadata": {},
     "output_type": "execute_result"
    }
   ],
   "source": [
    "\n",
    "\n",
    "matrix = [\n",
    "    [1, 1, 1, 1, 0],\n",
    "    [1, 1, 0, 0, 0],\n",
    "    [0, 0, 0, 0, 0],\n",
    "    [1, 0, 0, 0, 0],\n",
    "    [1, 1, 1, 1, 0]\n",
    "]\n",
    "\n",
    "def func9(matrix):\n",
    "    l=[]\n",
    "    for i in range(len(matrix)):\n",
    "        l.append(matrix[i].count(0))   \n",
    "    index=l.index(max(l))\n",
    "    return f'{matrix[index]} This rows on index {index} has maximum numbers of zeros'         \n",
    "\n",
    "func9(matrix)\n",
    "\n"
   ]
  },
  {
   "cell_type": "markdown",
   "metadata": {},
   "source": [
    "Problem 10 : Sort an array of 0’s, 1’s and 2’s [or R’s, G’s and B’s]: Given an array A[] consisting of 0’s, 1’s and\n",
    "2’s, give an algorithm for sorting A[].The algorithm should put all 0’s first, then all 1’s and finally all 2’s at the\n",
    "end. Example Input = {0,1,1,0,1,2,1,2,0,0,0,1}, Output = {0,0,0,0,0,1,1,1,1,1,2,2}"
   ]
  },
  {
   "cell_type": "code",
   "execution_count": 51,
   "metadata": {},
   "outputs": [
    {
     "data": {
      "text/plain": [
       "[0, 0, 0, 0, 0, 1, 1, 1, 1, 1, 2, 2]"
      ]
     },
     "execution_count": 51,
     "metadata": {},
     "output_type": "execute_result"
    }
   ],
   "source": [
    "\n",
    "arr = [0, 1, 1, 0, 1, 2, 1, 2, 0, 0, 0, 1]\n",
    "\n",
    "def sortf(arr):\n",
    "    sortedl = []\n",
    "    while arr:\n",
    "        minn = min(arr)\n",
    "        sortedl.append(minn)\n",
    "        arr.remove(minn)\n",
    "    return sortedl \n",
    "\n",
    "sortf(arr)\n"
   ]
  },
  {
   "cell_type": "code",
   "execution_count": null,
   "metadata": {},
   "outputs": [],
   "source": []
  }
 ],
 "metadata": {
  "kernelspec": {
   "display_name": "Python 3",
   "language": "python",
   "name": "python3"
  },
  "language_info": {
   "codemirror_mode": {
    "name": "ipython",
    "version": 3
   },
   "file_extension": ".py",
   "mimetype": "text/x-python",
   "name": "python",
   "nbconvert_exporter": "python",
   "pygments_lexer": "ipython3",
   "version": "3.8.10"
  }
 },
 "nbformat": 4,
 "nbformat_minor": 2
}
